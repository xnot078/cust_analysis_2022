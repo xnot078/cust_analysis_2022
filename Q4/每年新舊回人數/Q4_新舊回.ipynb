{
 "cells": [
  {
   "cell_type": "markdown",
   "metadata": {},
   "source": [
    "by險別，每年 *新,續,回,流失* 人數\n",
    "*續* 用2021的續保單號核對"
   ]
  },
  {
   "cell_type": "code",
   "execution_count": 1,
   "metadata": {},
   "outputs": [
    {
     "data": {
      "text/plain": [
       "'d:\\\\新安\\\\A&H 二周目\\\\Q4\\\\每年新舊回人數'"
      ]
     },
     "execution_count": 1,
     "metadata": {},
     "output_type": "execute_result"
    }
   ],
   "source": [
    "import os\n",
    "import pandas as pd\n",
    "import tqdm, datetime\n",
    "\n",
    "os.getcwd()"
   ]
  },
  {
   "cell_type": "code",
   "execution_count": 2,
   "metadata": {},
   "outputs": [],
   "source": [
    "raw_data = pd.concat(\n",
    "    [\n",
    "        pd.read_csv(r'D:\\新安\\data\\訂單整合資料\\car_policy_full.txt', sep='|', dtype=str),\n",
    "        pd.read_csv(r'D:\\新安\\data\\訂單整合資料\\fir_policy_full.txt', sep='|', dtype=str),\n",
    "        pd.read_csv(r'D:\\新安\\data\\訂單整合資料\\hth_policy_full.txt', sep='|', dtype=str)\n",
    "    ]\n",
    ")\n",
    "\n",
    "# columns typing:\n",
    "raw_data[['birthY', 'year', 'plyAmt', 'clmCnt', 'clmAmt', 'clmRec', 'tg_year']] = raw_data[[\n",
    "    'birthY', 'year', 'plyAmt', 'clmCnt', 'clmAmt', 'clmRec', 'tg_year']].astype(float)\n",
    "raw_data[\"date\"] = pd.to_datetime(raw_data[\"date\"])\n",
    "# new columns:\n",
    "raw_data[\"cur_age\"] = raw_data[\"year\"] - raw_data[\"birthY\"]\n",
    "raw_data[\"cur_car_age\"] = raw_data[\"year\"] - raw_data[\"tg_year\"]\n",
    "raw_data[\"iply_person\"] = raw_data[\"ipolicy\"] + raw_data[\"id\"]"
   ]
  },
  {
   "cell_type": "code",
   "execution_count": 3,
   "metadata": {},
   "outputs": [],
   "source": [
    "used_data = raw_data.query(\"\"\"\n",
    "    date >= '2017-01-01' & \\\n",
    "    plyAmt >= 0 & \\\n",
    "    date <= '2022-03-31' & \\\n",
    "    cate != 'H_CV'\n",
    "    \"\"\").copy()"
   ]
  },
  {
   "cell_type": "code",
   "execution_count": 9,
   "metadata": {},
   "outputs": [
    {
     "name": "stdout",
     "output_type": "stream",
     "text": [
      "0\n",
      "494395\n",
      "500601\n",
      "528850\n"
     ]
    }
   ],
   "source": [
    "used_data_ = used_data.copy()\n",
    "used_data_.loc[used_data_[\"cate\"].str.startswith(\"C\"), \"cate\"] = \"Car\"\n",
    "# used_data_.groupby([\"cate\", \"year\"])[\"id\"].nunique()\n",
    "\n",
    "for y in range(2017, 2021):\n",
    "    prev = used_data.query(\" cate=='CA_PS' & year==@y-1 \")\n",
    "    this = used_data.query(\" cate=='CA_PS' & year==@y \")\n",
    "    print(this.query(\" id.isin(@prev['id']) \")[\"id\"].nunique())"
   ]
  },
  {
   "cell_type": "code",
   "execution_count": 66,
   "metadata": {},
   "outputs": [
    {
     "name": "stderr",
     "output_type": "stream",
     "text": [
      "  0%|          | 0/5 [00:00<?, ?it/s]"
     ]
    },
    {
     "name": "stdout",
     "output_type": "stream",
     "text": [
      "cate=Car\n",
      "year=2017\n",
      "year=2018\n",
      "year=2019\n",
      "year=2020\n",
      "year=2021\n"
     ]
    },
    {
     "name": "stderr",
     "output_type": "stream",
     "text": [
      " 20%|██        | 1/5 [00:29<01:59, 29.87s/it]"
     ]
    },
    {
     "name": "stdout",
     "output_type": "stream",
     "text": [
      "cate=F_PS\n",
      "year=2017\n",
      "year=2018\n",
      "year=2019\n",
      "year=2020\n",
      "year=2021\n"
     ]
    },
    {
     "name": "stderr",
     "output_type": "stream",
     "text": [
      " 40%|████      | 2/5 [00:38<00:51, 17.20s/it]"
     ]
    },
    {
     "name": "stdout",
     "output_type": "stream",
     "text": [
      "cate=H_PS\n",
      "year=2017\n",
      "year=2018\n",
      "year=2019\n",
      "year=2020\n",
      "year=2021\n"
     ]
    },
    {
     "name": "stderr",
     "output_type": "stream",
     "text": [
      " 60%|██████    | 3/5 [00:45<00:25, 12.69s/it]"
     ]
    },
    {
     "name": "stdout",
     "output_type": "stream",
     "text": [
      "cate=H_TV\n",
      "year=2017\n",
      "year=2018\n",
      "year=2019\n",
      "year=2020\n",
      "year=2021\n"
     ]
    },
    {
     "name": "stderr",
     "output_type": "stream",
     "text": [
      " 80%|████████  | 4/5 [00:56<00:11, 11.96s/it]"
     ]
    },
    {
     "name": "stdout",
     "output_type": "stream",
     "text": [
      "cate=H_GP\n",
      "year=2017\n",
      "year=2018\n",
      "year=2019\n",
      "year=2020\n",
      "year=2021\n"
     ]
    },
    {
     "name": "stderr",
     "output_type": "stream",
     "text": [
      "100%|██████████| 5/5 [01:03<00:00, 12.66s/it]\n"
     ]
    }
   ],
   "source": [
    "\n",
    "used_data.loc[used_data[\"cate\"].str.startswith(\"C\"), \"cate\"] = \"Car\"\n",
    "\n",
    "data_holder = []\n",
    "for i in tqdm.tqdm(used_data[\"cate\"].unique()):\n",
    "    print(f\"cate={i}\")\n",
    "    for y in range(2017, 2022):\n",
    "        print(f\"year={y}\")\n",
    "        s = datetime.datetime.today()\n",
    "        thisYear = used_data.query(\"\"\"\n",
    "                    year==@y & \\\n",
    "                    cate==@i\n",
    "                    \"\"\")[\"id\"].astype(str)\n",
    "        prevYear = used_data.query(\"\"\"\n",
    "                        year==@y-1 & \\\n",
    "                        cate==@i\n",
    "                        \"\"\")[\"id\"].astype(str)\n",
    "        long_time_ago = used_data.query(\"\"\"\n",
    "                    year<@y-1 & \\\n",
    "                    cate==@i\n",
    "                    \"\"\")[\"id\"].astype(str)\n",
    "        new = thisYear[~thisYear.isin(prevYear) & ~thisYear.isin(long_time_ago)].nunique()\n",
    "        trans = thisYear[thisYear.isin(prevYear)].nunique() #  & ~thisYear.isin(long_time_ago)\n",
    "        prev_old = thisYear[~thisYear.isin(prevYear) & thisYear.isin(long_time_ago)].nunique()\n",
    "        sink = prevYear[~prevYear.isin(thisYear)].nunique()\n",
    "\n",
    "        data_holder.append(\n",
    "            pd.Series([i, y, new, trans, prev_old, sink], index=[\"cate\", \"year\", \"新\", \"續\", \"回\", \"流失\"])\n",
    "            )\n",
    "\n",
    "data_holder = pd.DataFrame(data_holder)"
   ]
  },
  {
   "cell_type": "code",
   "execution_count": 96,
   "metadata": {},
   "outputs": [],
   "source": [
    "data_holder\n",
    "t = used_data.groupby(\"cate\")[\"id\"].nunique()\n",
    "t = pd.concat([\n",
    "    data_holder,\n",
    "    pd.DataFrame(t).assign(year=\"不分年\").reset_index().rename(columns={\"id\":\"總人數\"})\n",
    "    ])\n",
    "t.sort_values([\"cate\", \"year\"], inplace=True)\n",
    "t[\"cate\"] = t[\"cate\"].apply(lambda x:\n",
    "    {\"Car\": \"車險\", \"F_PS\":\"住火\", \"H_PS\":\"個傷\", \"H_TV\":\"旅平\", \"H_GP\":\"團傷\"}.get(x, x)\n",
    ")\n"
   ]
  },
  {
   "cell_type": "code",
   "execution_count": 97,
   "metadata": {},
   "outputs": [],
   "source": [
    "t.to_csv('../../data/人數_byYear_Cate.csv', index=False)"
   ]
  },
  {
   "cell_type": "markdown",
   "metadata": {},
   "source": [
    "驗證"
   ]
  },
  {
   "cell_type": "code",
   "execution_count": 90,
   "metadata": {},
   "outputs": [],
   "source": [
    "ply2020 = pd.read_csv(r'D:\\新安\\A&H\\Car\\data\\2020\\car_policy\\policy.txt', dtype=str, sep='|')\n",
    "irl = pd.read_csv(r'D:\\新安\\A&H\\Car\\data\\2020\\car_policy\\ply_relation.txt', dtype=str, sep='|')"
   ]
  },
  {
   "cell_type": "code",
   "execution_count": 91,
   "metadata": {},
   "outputs": [],
   "source": [
    "t = ply2020.merge(irl[['ipolicy', 'ilast_ply']], on='ipolicy', how='left')"
   ]
  },
  {
   "cell_type": "code",
   "execution_count": 95,
   "metadata": {},
   "outputs": [
    {
     "name": "stdout",
     "output_type": "stream",
     "text": [
      "保單續保率: 0.6775670895345896\n",
      "人員續保率: 0.7244585507240258\n"
     ]
    }
   ],
   "source": [
    "print(\"保單續保率:\", 1-irl[\"ilast_ply\"].isna().mean())\n",
    "print(\"人員續保率:\", t[~t[\"ilast_ply\"].isna()][\"iassured\"].nunique() / t[\"iassured\"].nunique())\n"
   ]
  },
  {
   "cell_type": "code",
   "execution_count": 89,
   "metadata": {},
   "outputs": [
    {
     "data": {
      "text/html": [
       "<div>\n",
       "<style scoped>\n",
       "    .dataframe tbody tr th:only-of-type {\n",
       "        vertical-align: middle;\n",
       "    }\n",
       "\n",
       "    .dataframe tbody tr th {\n",
       "        vertical-align: top;\n",
       "    }\n",
       "\n",
       "    .dataframe thead th {\n",
       "        text-align: right;\n",
       "    }\n",
       "</style>\n",
       "<table border=\"1\" class=\"dataframe\">\n",
       "  <thead>\n",
       "    <tr style=\"text-align: right;\">\n",
       "      <th></th>\n",
       "      <th>ipolicy</th>\n",
       "      <th>fassured</th>\n",
       "      <th>iassured</th>\n",
       "      <th>iassured_ext</th>\n",
       "      <th>ibirth</th>\n",
       "      <th>fsex</th>\n",
       "      <th>fmarriage</th>\n",
       "      <th>aassured_zip</th>\n",
       "      <th>iply_area</th>\n",
       "      <th>nbrand_abbr</th>\n",
       "      <th>...</th>\n",
       "      <th>iins_kit</th>\n",
       "      <th>mcover_limit</th>\n",
       "      <th>iassured_cntry</th>\n",
       "      <th>iapplicant_cntry</th>\n",
       "      <th>foccup</th>\n",
       "      <th>noccup</th>\n",
       "      <th>applicant_foccup</th>\n",
       "      <th>applicant_noccup</th>\n",
       "      <th>punknown_acc</th>\n",
       "      <th>nmile_ubi</th>\n",
       "    </tr>\n",
       "  </thead>\n",
       "  <tbody>\n",
       "  </tbody>\n",
       "</table>\n",
       "<p>0 rows × 47 columns</p>\n",
       "</div>"
      ],
      "text/plain": [
       "Empty DataFrame\n",
       "Columns: [ipolicy, fassured, iassured, iassured_ext, ibirth, fsex, fmarriage, aassured_zip, iply_area, nbrand_abbr, ncar_abbr, fcar_note, qcylinder, itag, mcar_price, idmg_rate, pdmg_factor, ibrg_rate, pbrg_factor, qpt, fpt, psex_age, psex_age_damage, lia_class, plia_acc, pdmg_acc, iext_policy, mkilo_ply, iapplicant, dbirth, iroute, fapplicant, fsex_appl, dbirth_appl, nrelation_appl, ibound, isurvey, iins_kit, mcover_limit, iassured_cntry, iapplicant_cntry, foccup, noccup, applicant_foccup, applicant_noccup, punknown_acc, nmile_ubi]\n",
       "Index: []\n",
       "\n",
       "[0 rows x 47 columns]"
      ]
     },
     "execution_count": 89,
     "metadata": {},
     "output_type": "execute_result"
    }
   ],
   "source": [
    "ply2020.query(\"ipolicy=='00009V7019469'\")"
   ]
  },
  {
   "cell_type": "code",
   "execution_count": 73,
   "metadata": {},
   "outputs": [
    {
     "data": {
      "text/html": [
       "<div>\n",
       "<style scoped>\n",
       "    .dataframe tbody tr th:only-of-type {\n",
       "        vertical-align: middle;\n",
       "    }\n",
       "\n",
       "    .dataframe tbody tr th {\n",
       "        vertical-align: top;\n",
       "    }\n",
       "\n",
       "    .dataframe thead th {\n",
       "        text-align: right;\n",
       "    }\n",
       "</style>\n",
       "<table border=\"1\" class=\"dataframe\">\n",
       "  <thead>\n",
       "    <tr style=\"text-align: right;\">\n",
       "      <th></th>\n",
       "      <th>ipolicy</th>\n",
       "      <th>fcard_class</th>\n",
       "      <th>irelative_ply</th>\n",
       "      <th>ilast_ply</th>\n",
       "      <th>inext_ply</th>\n",
       "      <th>itmp_policy</th>\n",
       "      <th>dply_begin</th>\n",
       "      <th>dply_end</th>\n",
       "      <th>ipro_year</th>\n",
       "      <th>ibrand</th>\n",
       "      <th>...</th>\n",
       "      <th>ibranch_at</th>\n",
       "      <th>fcomp_class</th>\n",
       "      <th>fcomp_class_last</th>\n",
       "      <th>qnext_year</th>\n",
       "      <th>irate_type</th>\n",
       "      <th>bzfrom</th>\n",
       "      <th>iroute_comm</th>\n",
       "      <th>qprovision</th>\n",
       "      <th>qdrunk_driving</th>\n",
       "      <th>isign</th>\n",
       "    </tr>\n",
       "  </thead>\n",
       "  <tbody>\n",
       "    <tr>\n",
       "      <th>0</th>\n",
       "      <td>00009V7019469</td>\n",
       "      <td>2</td>\n",
       "      <td>NaN</td>\n",
       "      <td>NaN</td>\n",
       "      <td>NaN</td>\n",
       "      <td>00009CG020440</td>\n",
       "      <td>2020-09-22</td>\n",
       "      <td>2020-09-23</td>\n",
       "      <td>NaN</td>\n",
       "      <td>NaN</td>\n",
       "      <td>...</td>\n",
       "      <td>00</td>\n",
       "      <td>NaN</td>\n",
       "      <td>NaN</td>\n",
       "      <td>0</td>\n",
       "      <td>E</td>\n",
       "      <td>41</td>\n",
       "      <td>G02</td>\n",
       "      <td>0</td>\n",
       "      <td>0</td>\n",
       "      <td>882158</td>\n",
       "    </tr>\n",
       "    <tr>\n",
       "      <th>1</th>\n",
       "      <td>00009V7011419</td>\n",
       "      <td>2</td>\n",
       "      <td>NaN</td>\n",
       "      <td>NaN</td>\n",
       "      <td>NaN</td>\n",
       "      <td>00009CG011896</td>\n",
       "      <td>2020-07-19</td>\n",
       "      <td>2020-07-20</td>\n",
       "      <td>NaN</td>\n",
       "      <td>NaN</td>\n",
       "      <td>...</td>\n",
       "      <td>00</td>\n",
       "      <td>NaN</td>\n",
       "      <td>NaN</td>\n",
       "      <td>0</td>\n",
       "      <td>E</td>\n",
       "      <td>41</td>\n",
       "      <td>G02</td>\n",
       "      <td>0</td>\n",
       "      <td>0</td>\n",
       "      <td>882158</td>\n",
       "    </tr>\n",
       "  </tbody>\n",
       "</table>\n",
       "<p>2 rows × 37 columns</p>\n",
       "</div>"
      ],
      "text/plain": [
       "         ipolicy fcard_class irelative_ply ilast_ply inext_ply    itmp_policy  \\\n",
       "0  00009V7019469           2           NaN       NaN       NaN  00009CG020440   \n",
       "1  00009V7011419           2           NaN       NaN       NaN  00009CG011896   \n",
       "\n",
       "   dply_begin    dply_end ipro_year ibrand  ... ibranch_at fcomp_class  \\\n",
       "0  2020-09-22  2020-09-23       NaN    NaN  ...         00         NaN   \n",
       "1  2020-07-19  2020-07-20       NaN    NaN  ...         00         NaN   \n",
       "\n",
       "  fcomp_class_last qnext_year irate_type bzfrom iroute_comm qprovision  \\\n",
       "0              NaN          0          E     41         G02          0   \n",
       "1              NaN          0          E     41         G02          0   \n",
       "\n",
       "  qdrunk_driving   isign  \n",
       "0              0  882158  \n",
       "1              0  882158  \n",
       "\n",
       "[2 rows x 37 columns]"
      ]
     },
     "execution_count": 73,
     "metadata": {},
     "output_type": "execute_result"
    }
   ],
   "source": [
    "raw_2020.head(2)"
   ]
  }
 ],
 "metadata": {
  "kernelspec": {
   "display_name": "Python 3.9.6 64-bit (system)",
   "language": "python",
   "name": "python3"
  },
  "language_info": {
   "codemirror_mode": {
    "name": "ipython",
    "version": 3
   },
   "file_extension": ".py",
   "mimetype": "text/x-python",
   "name": "python",
   "nbconvert_exporter": "python",
   "pygments_lexer": "ipython3",
   "version": "3.9.6"
  },
  "orig_nbformat": 4,
  "vscode": {
   "interpreter": {
    "hash": "11938c6bc6919ae2720b4d5011047913343b08a43b18698fd82dedb0d4417594"
   }
  }
 },
 "nbformat": 4,
 "nbformat_minor": 2
}
