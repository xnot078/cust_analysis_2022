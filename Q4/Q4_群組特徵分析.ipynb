{
 "cells": [
  {
   "cell_type": "markdown",
   "metadata": {},
   "source": [
    "**目的:** \n",
    "  分析不同群組之間是否有*表現*上的不同\n",
    "\n",
    "**範圍定義:**\n",
    "\n",
    "  時間: 2020年的購買保單行為，但部分特徵是2017~2020的累計(e.g.曾買過的險種)\n",
    "\n",
    "  群組: \n",
    "  \n",
    "    1. 2020所有客戶                                                 → 比較基礎\n",
    "    2. 2020使用主要通路的客戶                                        → 比較不同通路(不細分來源)\n",
    "    3. 2019使用通路ₐ(以下稱*通路ₐ*) 2020使用通路ᵦ(以下稱*通路ᵦ*)的客戶 → 比較相同來源，不同通路\n",
    "    \n",
    "  群組詳細說明:\n",
    "    \n",
    "    以車險為例:\n",
    "    1. 2020買過{車險}的客戶的所有保單\n",
    "    2. 2020用{通路r}買過{車險}的客戶，在2020的{所有保單} (不分險別、不論通路)\n",
    "    3. 2019用{通路ₐ}買過{車險}，而且2020使用{通路ᵦ}買過{車險}的客戶，在2020年的{所有保單} (不分險別、不論通路)"
   ]
  },
  {
   "cell_type": "markdown",
   "metadata": {},
   "source": [
    "### notes:\n",
    "2022/09/06 會議: \n",
    "\n",
    "* 特徵加上:\n",
    "-人數\n",
    "-出險人數佔比\n",
    "-車數PR75\n",
    "\n",
    "2022/09/07 討論: 也許只有在算錢的時候才只排除強制險? (因為就使用通路的角度，強制險的客戶就是有用到阿)\n"
   ]
  },
  {
   "cell_type": "code",
   "execution_count": 2,
   "metadata": {},
   "outputs": [],
   "source": [
    "# %% import & read data\n",
    "from src import group_feat as gf\n",
    "import pandas as pd\n",
    "import pickle"
   ]
  },
  {
   "cell_type": "code",
   "execution_count": 3,
   "metadata": {},
   "outputs": [],
   "source": [
    "e = gf.env()\n",
    "data = e.used_data\n",
    "STATS_YEAR = 2020\n",
    "MAIN_ROUTES = [\"CA\", \"KA\", \"JB\", \"BA\", \"KB\"]\n",
    "data[\"iroute_\"] = data[\"iroute\"]\n",
    "data.loc[~data[\"iroute_\"].isin(MAIN_ROUTES), \"iroute_\"] = \"others\"\n"
   ]
  },
  {
   "cell_type": "code",
   "execution_count": null,
   "metadata": {},
   "outputs": [],
   "source": [
    "cust_r = data.query(\"year==@STATS_YEAR & cate=='CA_PS' & iroute=='CA' \")[\"id\"].unique() #2020有用過通路_r買車險的客戶"
   ]
  },
  {
   "cell_type": "code",
   "execution_count": null,
   "metadata": {},
   "outputs": [],
   "source": [
    "cust_2020 = data.query(\" year == @STATS_YEAR & cate=='CA_PS' \")[\"id\"].unique() # 2020年的客戶"
   ]
  },
  {
   "cell_type": "code",
   "execution_count": null,
   "metadata": {},
   "outputs": [],
   "source": [
    "# Q: 為什麼客戶一定有買過車險，但by通路之後卻沒有了呢?\n",
    "# for r in MAIN_ROUTES:\n",
    "#     df = data.query(\" year==@STATS_YEAR & iroute==@r & id in @cust_2020\")\n",
    "#     print(df.query(\" cate=='CA_PS '\")[\"id\"].nunique() / df[\"id\"].nunique())\n",
    "# A: 因為在這個通路篩選下的訂單中，他沒有用這個通路買過車險\n",
    "# Q: 但是如果只篩選\"在這通路底下用過車險的客戶\"，又會少掉一大堆客戶。\n",
    "# 所以問題的定義會被改成: 特定客戶用特定通路買過某險別的比例。(客戶可能買過這個險別，但不是在這個通路底下)\n",
    "# 但我想知道的是: 使用過此通路的特定客戶，其中有多少人買過特定險別\n",
    "\n",
    "for r in MAIN_ROUTES:\n",
    "    cust_2020_r = data.query(\" year == @STATS_YEAR & iroute==@r & cate=='CA_PS' \")[\"id\"].unique() # 2020年使用過通路_r的客戶\n",
    "    df = data.query(\" year==@STATS_YEAR & id in @cust_2020_r \")\n",
    "    print(\n",
    "        df.groupby(\"cate\")[\"id\"].nunique() / df[\"id\"].nunique()\n",
    "        )"
   ]
  },
  {
   "cell_type": "markdown",
   "metadata": {},
   "source": [
    "注意!! 以下只處理\"車險\""
   ]
  },
  {
   "cell_type": "code",
   "execution_count": 8,
   "metadata": {},
   "outputs": [
    {
     "name": "stdout",
     "output_type": "stream",
     "text": [
      "=====main group:=====\n",
      "orders: 861,049 people: 678,887\n",
      "=====by route:=====\n",
      "CA:\n",
      "orders: 312,946 people: 241,039\n"
     ]
    },
    {
     "name": "stderr",
     "output_type": "stream",
     "text": [
      "d:\\新安\\A&H 二周目\\Q4\\src\\group_feat.py:421: RuntimeWarning: invalid value encountered in double_scalars\n",
      "  clm_amtCust = subset[\"clmAmt\"].sum() / subset_clm[\"id\"].nunique()\n",
      "d:\\新安\\A&H 二周目\\Q4\\src\\group_feat.py:426: RuntimeWarning: invalid value encountered in double_scalars\n",
      "  clm_cnOrder = subset_clm[\"clmCnt\"].sum(\n",
      "d:\\新安\\A&H 二周目\\Q4\\src\\group_feat.py:430: RuntimeWarning: invalid value encountered in double_scalars\n",
      "  clm_amtOrder = subset[\"clmAmt\"].sum() / subset_clm[\"clmCnt\"].sum()\n"
     ]
    },
    {
     "name": "stdout",
     "output_type": "stream",
     "text": [
      "KA:\n",
      "orders: 234,393 people: 169,823\n",
      "JB:\n",
      "orders: 102,147 people: 81,547\n",
      "BA:\n",
      "orders: 89,079 people: 69,891\n",
      "KB:\n",
      "orders: 90,062 people: 72,524\n",
      "=====by src & dst:=====\n",
      "CA, CA:\n",
      "orders: 0 people: 0\n",
      "CA, KA:\n",
      "orders: 0 people: 0\n",
      "CA, JB:\n",
      "orders: 0 people: 0\n",
      "CA, BA:\n",
      "orders: 0 people: 0\n",
      "CA, KB:\n",
      "orders: 0 people: 0\n",
      "KA, CA:\n",
      "orders: 0 people: 0\n",
      "KA, KA:\n",
      "orders: 0 people: 0\n",
      "KA, JB:\n",
      "orders: 0 people: 0\n",
      "KA, BA:\n",
      "orders: 0 people: 0\n",
      "KA, KB:\n",
      "orders: 0 people: 0\n",
      "JB, CA:\n",
      "orders: 0 people: 0\n",
      "JB, KA:\n",
      "orders: 0 people: 0\n",
      "JB, JB:\n",
      "orders: 0 people: 0\n",
      "JB, BA:\n",
      "orders: 0 people: 0\n",
      "JB, KB:\n",
      "orders: 0 people: 0\n",
      "BA, CA:\n",
      "orders: 0 people: 0\n",
      "BA, KA:\n",
      "orders: 0 people: 0\n",
      "BA, JB:\n",
      "orders: 0 people: 0\n",
      "BA, BA:\n",
      "orders: 0 people: 0\n",
      "BA, KB:\n",
      "orders: 0 people: 0\n",
      "KB, CA:\n",
      "orders: 0 people: 0\n",
      "KB, KA:\n",
      "orders: 0 people: 0\n",
      "KB, JB:\n",
      "orders: 0 people: 0\n",
      "KB, BA:\n",
      "orders: 0 people: 0\n",
      "KB, KB:\n",
      "orders: 0 people: 0\n",
      "=====main group:=====\n",
      "orders: 1,511,969 people: 668,386\n",
      "=====by route:=====\n",
      "CA:\n",
      "orders: 497,586 people: 207,978\n",
      "KA:\n",
      "orders: 426,553 people: 166,923\n",
      "JB:\n",
      "orders: 212,016 people: 97,136\n",
      "BA:\n",
      "orders: 166,496 people: 75,898\n",
      "KB:\n",
      "orders: 157,794 people: 74,615\n",
      "=====by src & dst:=====\n",
      "CA, CA:\n",
      "orders: 443,932 people: 167,499\n",
      "CA, KA:\n",
      "orders: 31,512 people: 8,211\n",
      "CA, JB:\n",
      "orders: 15,646 people: 4,694\n",
      "CA, BA:\n",
      "orders: 6,351 people: 1,757\n",
      "CA, KB:\n",
      "orders: 9,653 people: 2,923\n",
      "KA, CA:\n",
      "orders: 22,870 people: 4,960\n",
      "KA, KA:\n",
      "orders: 357,347 people: 125,840\n",
      "KA, JB:\n",
      "orders: 12,468 people: 3,801\n",
      "KA, BA:\n",
      "orders: 6,260 people: 1,833\n",
      "KA, KB:\n",
      "orders: 13,901 people: 3,976\n",
      "JB, CA:\n",
      "orders: 6,757 people: 1,563\n",
      "JB, KA:\n",
      "orders: 5,106 people: 1,240\n",
      "JB, JB:\n",
      "orders: 154,108 people: 59,739\n",
      "JB, BA:\n",
      "orders: 1,255 people: 328\n",
      "JB, KB:\n",
      "orders: 834 people: 216\n",
      "BA, CA:\n",
      "orders: 4,214 people: 1,011\n",
      "BA, KA:\n",
      "orders: 5,743 people: 1,725\n",
      "BA, JB:\n",
      "orders: 3,083 people: 1,002\n",
      "BA, BA:\n",
      "orders: 127,618 people: 48,535\n",
      "BA, KB:\n",
      "orders: 1,870 people: 578\n",
      "KB, CA:\n",
      "orders: 4,835 people: 1,185\n",
      "KB, KA:\n",
      "orders: 8,351 people: 2,138\n",
      "KB, JB:\n",
      "orders: 1,957 people: 629\n",
      "KB, BA:\n",
      "orders: 1,770 people: 543\n",
      "KB, KB:\n",
      "orders: 109,292 people: 41,649\n",
      "=====main group:=====\n",
      "orders: 2,158,946 people: 697,367\n",
      "=====by route:=====\n",
      "CA:\n",
      "orders: 638,850 people: 191,908\n",
      "KA:\n",
      "orders: 609,964 people: 167,418\n",
      "JB:\n",
      "orders: 363,403 people: 122,772\n",
      "BA:\n",
      "orders: 259,951 people: 91,121\n",
      "KB:\n",
      "orders: 204,640 people: 68,010\n",
      "=====by src & dst:=====\n",
      "CA, CA:\n",
      "orders: 572,936 people: 150,851\n",
      "CA, KA:\n",
      "orders: 40,974 people: 7,463\n",
      "CA, JB:\n",
      "orders: 22,782 people: 4,936\n",
      "CA, BA:\n",
      "orders: 9,194 people: 1,892\n",
      "CA, KB:\n",
      "orders: 13,218 people: 2,918\n",
      "KA, CA:\n",
      "orders: 29,539 people: 4,586\n",
      "KA, KA:\n",
      "orders: 520,871 people: 126,595\n",
      "KA, JB:\n",
      "orders: 18,817 people: 3,968\n",
      "KA, BA:\n",
      "orders: 9,177 people: 1,913\n",
      "KA, KB:\n",
      "orders: 18,406 people: 3,528\n",
      "JB, CA:\n",
      "orders: 10,067 people: 1,645\n",
      "JB, KA:\n",
      "orders: 7,781 people: 1,389\n",
      "JB, JB:\n",
      "orders: 265,817 people: 72,802\n",
      "JB, BA:\n",
      "orders: 2,598 people: 513\n",
      "JB, KB:\n",
      "orders: 1,199 people: 215\n",
      "BA, CA:\n",
      "orders: 5,681 people: 967\n",
      "BA, KA:\n",
      "orders: 7,992 people: 1,695\n",
      "BA, JB:\n",
      "orders: 5,198 people: 1,209\n",
      "BA, BA:\n",
      "orders: 200,291 people: 54,648\n",
      "BA, KB:\n",
      "orders: 2,314 people: 500\n",
      "KB, CA:\n",
      "orders: 7,008 people: 1,217\n",
      "KB, KA:\n",
      "orders: 13,760 people: 2,495\n",
      "KB, JB:\n",
      "orders: 3,473 people: 786\n",
      "KB, BA:\n",
      "orders: 3,105 people: 704\n",
      "KB, KB:\n",
      "orders: 156,315 people: 42,552\n",
      "=====main group:=====\n",
      "orders: 2,806,901 people: 751,395\n",
      "=====by route:=====\n",
      "CA:\n",
      "orders: 745,139 people: 182,578\n",
      "KA:\n",
      "orders: 782,908 people: 172,105\n",
      "JB:\n",
      "orders: 543,934 people: 151,303\n",
      "BA:\n",
      "orders: 372,195 people: 111,339\n",
      "KB:\n",
      "orders: 256,754 people: 69,576\n",
      "=====by src & dst:=====\n",
      "CA, CA:\n",
      "orders: 667,929 people: 140,326\n",
      "CA, KA:\n",
      "orders: 46,533 people: 6,733\n",
      "CA, JB:\n",
      "orders: 28,767 people: 4,942\n",
      "CA, BA:\n",
      "orders: 12,235 people: 2,156\n",
      "CA, KB:\n",
      "orders: 15,609 people: 2,696\n",
      "KA, CA:\n",
      "orders: 35,573 people: 4,333\n",
      "KA, KA:\n",
      "orders: 674,567 people: 128,490\n",
      "KA, JB:\n",
      "orders: 24,805 people: 4,135\n",
      "KA, BA:\n",
      "orders: 11,802 people: 1,932\n",
      "KA, KB:\n",
      "orders: 21,074 people: 3,107\n",
      "JB, CA:\n",
      "orders: 14,221 people: 1,899\n",
      "JB, KA:\n",
      "orders: 12,861 people: 1,857\n",
      "JB, JB:\n",
      "orders: 418,841 people: 94,094\n",
      "JB, BA:\n",
      "orders: 4,190 people: 688\n",
      "JB, KB:\n",
      "orders: 2,003 people: 303\n",
      "BA, CA:\n",
      "orders: 7,932 people: 1,135\n",
      "BA, KA:\n",
      "orders: 11,048 people: 1,929\n",
      "BA, JB:\n",
      "orders: 7,907 people: 1,491\n",
      "BA, BA:\n",
      "orders: 295,011 people: 67,973\n",
      "BA, KB:\n",
      "orders: 3,190 people: 552\n",
      "KB, CA:\n",
      "orders: 8,818 people: 1,244\n",
      "KB, KA:\n",
      "orders: 18,896 people: 2,727\n",
      "KB, JB:\n",
      "orders: 4,534 people: 835\n",
      "KB, BA:\n",
      "orders: 3,757 people: 681\n",
      "KB, KB:\n",
      "orders: 199,115 people: 42,192\n"
     ]
    }
   ],
   "source": [
    "IINS = 'CA_PS'\n",
    "\n",
    "for STATS_YEAR in range(2017, 2021):\n",
    "\n",
    "    cust_main = data.query(\"year==@STATS_YEAR & cate==@IINS \")[\"id\"].unique() #2020有買車險的客戶\n",
    "    sub_orders = data.query(\"year<=@STATS_YEAR & id in @cust_main\")\n",
    "    print(\"=====main group:=====\")\n",
    "    print(f\"orders: {len(sub_orders):,.0f} people: {len(cust_main):,.0f}\" )\n",
    "    feat_main = gf.group_summary(sub_orders)\n",
    "\n",
    "    print(\"=====by route:=====\")\n",
    "    \"\"\"\n",
    "    注意: 此處是{y年}年有用{通路r}買車險的客戶，和續保與否無關\n",
    "    \"\"\"\n",
    "    dictFT_r = {}\n",
    "    for r in MAIN_ROUTES:\n",
    "        cust_r = data.query(\"year==@STATS_YEAR & cate==@IINS & iroute==@r\")[\"id\"].unique() #2020有用過通路_r買車險的客戶\n",
    "        sub_orders = data.query(\"year<=@STATS_YEAR & id in @cust_r\")\n",
    "        print(f\"{r}:\")\n",
    "        print(f\"orders: {len(sub_orders):,.0f} people: {len(cust_r):,.0f}\" )\n",
    "        dictFT_r[r] = gf.group_summary(sub_orders)\n",
    "\n",
    "    print(\"=====by src & dst:=====\")\n",
    "    \"\"\"\n",
    "    注意: 此處是{y年}年有用{通路r}買車險的客戶 且 {y-1年}使用{通路s}買車險的客戶，和續保就有關係了\n",
    "    \"\"\"\n",
    "    dictFT_s_r = {}\n",
    "    for s in MAIN_ROUTES:\n",
    "        cust_c_previousYear = data.query(\"year==@STATS_YEAR-1 & cate==@IINS & iroute==@s\")[\"id\"].unique()\n",
    "        for r in MAIN_ROUTES:\n",
    "            cust_c_r = data.query(\"year==@STATS_YEAR & cate==@IINS & iroute==@r & id in @cust_c_previousYear\")[\"id\"].unique()\n",
    "            sub_orders = data.query(\"year<=@STATS_YEAR & id in @cust_c_r\")\n",
    "            print(f\"{s}, {r}:\")\n",
    "            print(f\"orders: {len(sub_orders):,.0f} people: {len(cust_c_r):,.0f}\" )\n",
    "            dictFT_s_r[(s, r)] = gf.group_summary(sub_orders)\n",
    "    summary = {\n",
    "        \"main\":feat_main,\n",
    "        \"r\":dictFT_r,\n",
    "        \"src_dst\":dictFT_s_r\n",
    "    }\n",
    "    import pickle\n",
    "    with open(f\"./tem/group_feat_summary_{STATS_YEAR}.pickle\", \"wb\") as f:\n",
    "        pickle.dump(summary, f)"
   ]
  },
  {
   "cell_type": "markdown",
   "metadata": {},
   "source": [
    "檢查"
   ]
  },
  {
   "cell_type": "code",
   "execution_count": 26,
   "metadata": {},
   "outputs": [
    {
     "name": "stdout",
     "output_type": "stream",
     "text": [
      "528850\n",
      "518450\n"
     ]
    }
   ],
   "source": [
    "# 檢查續保人數是否\"接近\" (不會相等，因為沒有看全部的通路)\n",
    "prev = e.used_data.query(\" cate=='CA_PS' & year==2019 \")\n",
    "this = e.used_data.query(\" cate=='CA_PS' & year==2020 \")\n",
    "print(this.query(\" id.isin(@prev['id']) \")[\"id\"].nunique()) # 總續保人數\n",
    "print(\n",
    "    sum([d.query(\"  variable=='n_person' & year==2020 \")[\"value\"].iloc[0] for r, d in dictFT_s_r.items()])\n",
    ") # 涵蓋人數\n"
   ]
  },
  {
   "cell_type": "code",
   "execution_count": 142,
   "metadata": {},
   "outputs": [],
   "source": [
    "with open(\"./tem/group_feat_summary.pickle\", \"rb\") as f:\n",
    "    summary = pickle.load(f)"
   ]
  },
  {
   "cell_type": "code",
   "execution_count": 145,
   "metadata": {},
   "outputs": [],
   "source": [
    "col_orders = [\"variable_type\", \"variable\", \"cate\", \"year_type\", \"value\"]\n",
    "data_main = [\n",
    "                summary[\"main\"].query(\" year==2020 & variable_type.str.match('^(?!.*iroute).*') \")[col_orders]\\\n",
    "                .set_index(col_orders[:-1])\\\n",
    "                .rename(columns={\"value\": \"main\"})\n",
    "            ]\n",
    "data_r = [\n",
    "            data.query(\" year==2020 & variable_type.str.match('^(?!.*iroute).*') \")[col_orders]\\\n",
    "                .set_index(col_orders[:-1])\\\n",
    "                .rename(columns={\"value\": r})\n",
    "            for r, data in summary[\"r\"].items()\n",
    "        ]\n",
    "\n",
    "data_s_r = [\n",
    "            data.query(\" year==2020 & variable_type.str.match('^(?!.*iroute).*') \")[col_orders]\\\n",
    "                .set_index(col_orders[:-1])\\\n",
    "                .rename(columns={\"value\": r})\n",
    "            for r, data in summary[\"src_dst\"].items()\n",
    "        ]\n",
    "\n",
    "data_con_Q1 = data_main + data_r + data_s_r\n",
    "compare_mat_Q1 = pd.concat(data_con_Q1, axis=1)\n",
    "# compare_mat_Q1.reset_index(inplace=True)"
   ]
  },
  {
   "cell_type": "code",
   "execution_count": 158,
   "metadata": {},
   "outputs": [
    {
     "data": {
      "text/html": [
       "<div>\n",
       "<style scoped>\n",
       "    .dataframe tbody tr th:only-of-type {\n",
       "        vertical-align: middle;\n",
       "    }\n",
       "\n",
       "    .dataframe tbody tr th {\n",
       "        vertical-align: top;\n",
       "    }\n",
       "\n",
       "    .dataframe thead th {\n",
       "        text-align: right;\n",
       "    }\n",
       "</style>\n",
       "<table border=\"1\" class=\"dataframe\">\n",
       "  <thead>\n",
       "    <tr style=\"text-align: right;\">\n",
       "      <th></th>\n",
       "      <th></th>\n",
       "      <th>main</th>\n",
       "      <th>CA</th>\n",
       "      <th>KA</th>\n",
       "      <th>JB</th>\n",
       "      <th>BA</th>\n",
       "      <th>KB</th>\n",
       "      <th>(CA, CA)</th>\n",
       "      <th>(CA, KA)</th>\n",
       "      <th>(CA, JB)</th>\n",
       "      <th>(CA, BA)</th>\n",
       "      <th>...</th>\n",
       "      <th>(BA, CA)</th>\n",
       "      <th>(BA, KA)</th>\n",
       "      <th>(BA, JB)</th>\n",
       "      <th>(BA, BA)</th>\n",
       "      <th>(BA, KB)</th>\n",
       "      <th>(KB, CA)</th>\n",
       "      <th>(KB, KA)</th>\n",
       "      <th>(KB, JB)</th>\n",
       "      <th>(KB, BA)</th>\n",
       "      <th>(KB, KB)</th>\n",
       "    </tr>\n",
       "    <tr>\n",
       "      <th>cate</th>\n",
       "      <th>year_type</th>\n",
       "      <th></th>\n",
       "      <th></th>\n",
       "      <th></th>\n",
       "      <th></th>\n",
       "      <th></th>\n",
       "      <th></th>\n",
       "      <th></th>\n",
       "      <th></th>\n",
       "      <th></th>\n",
       "      <th></th>\n",
       "      <th></th>\n",
       "      <th></th>\n",
       "      <th></th>\n",
       "      <th></th>\n",
       "      <th></th>\n",
       "      <th></th>\n",
       "      <th></th>\n",
       "      <th></th>\n",
       "      <th></th>\n",
       "      <th></th>\n",
       "      <th></th>\n",
       "    </tr>\n",
       "  </thead>\n",
       "  <tbody>\n",
       "    <tr>\n",
       "      <th>CA_PS</th>\n",
       "      <th>this_year</th>\n",
       "      <td>7753.796343</td>\n",
       "      <td>10814.277251</td>\n",
       "      <td>8250.168002</td>\n",
       "      <td>6589.754698</td>\n",
       "      <td>7349.199095</td>\n",
       "      <td>6651.33582</td>\n",
       "      <td>9032.481942</td>\n",
       "      <td>12850.273726</td>\n",
       "      <td>10695.268312</td>\n",
       "      <td>12298.622913</td>\n",
       "      <td>...</td>\n",
       "      <td>16563.840529</td>\n",
       "      <td>10541.474857</td>\n",
       "      <td>8834.869215</td>\n",
       "      <td>7082.266974</td>\n",
       "      <td>10917.512681</td>\n",
       "      <td>15822.299839</td>\n",
       "      <td>11281.704804</td>\n",
       "      <td>8822.967665</td>\n",
       "      <td>10197.619677</td>\n",
       "      <td>6983.161713</td>\n",
       "    </tr>\n",
       "    <tr>\n",
       "      <th>F_PS</th>\n",
       "      <th>this_year</th>\n",
       "      <td>2397.926589</td>\n",
       "      <td>2210.46991</td>\n",
       "      <td>2536.930556</td>\n",
       "      <td>2287.547776</td>\n",
       "      <td>2394.906017</td>\n",
       "      <td>2407.886294</td>\n",
       "      <td>2235.449031</td>\n",
       "      <td>2408.694611</td>\n",
       "      <td>2253.371795</td>\n",
       "      <td>2159.942857</td>\n",
       "      <td>...</td>\n",
       "      <td>2004.727273</td>\n",
       "      <td>3143.957447</td>\n",
       "      <td>2502.657143</td>\n",
       "      <td>2430.806065</td>\n",
       "      <td>2300.083333</td>\n",
       "      <td>2030.125</td>\n",
       "      <td>2513.305882</td>\n",
       "      <td>2124.6875</td>\n",
       "      <td>2783.454545</td>\n",
       "      <td>2421.288385</td>\n",
       "    </tr>\n",
       "    <tr>\n",
       "      <th>H_GP</th>\n",
       "      <th>this_year</th>\n",
       "      <td>1631.660308</td>\n",
       "      <td>1431.736098</td>\n",
       "      <td>1764.938316</td>\n",
       "      <td>1285.324503</td>\n",
       "      <td>1726.430345</td>\n",
       "      <td>2123.122078</td>\n",
       "      <td>1408.503045</td>\n",
       "      <td>1330.0375</td>\n",
       "      <td>1514.193548</td>\n",
       "      <td>1908.214286</td>\n",
       "      <td>...</td>\n",
       "      <td>2221.416667</td>\n",
       "      <td>1953.0</td>\n",
       "      <td>881.5</td>\n",
       "      <td>1813.955335</td>\n",
       "      <td>2934.666667</td>\n",
       "      <td>1985.083333</td>\n",
       "      <td>2468.568182</td>\n",
       "      <td>2222.333333</td>\n",
       "      <td>2794.615385</td>\n",
       "      <td>2434.611452</td>\n",
       "    </tr>\n",
       "    <tr>\n",
       "      <th>H_PS</th>\n",
       "      <th>this_year</th>\n",
       "      <td>3811.395427</td>\n",
       "      <td>4309.604297</td>\n",
       "      <td>4210.276509</td>\n",
       "      <td>3674.871179</td>\n",
       "      <td>3357.541243</td>\n",
       "      <td>3572.692695</td>\n",
       "      <td>4383.540395</td>\n",
       "      <td>4743.652778</td>\n",
       "      <td>3749.745098</td>\n",
       "      <td>3392.666667</td>\n",
       "      <td>...</td>\n",
       "      <td>3500.102564</td>\n",
       "      <td>4560.337838</td>\n",
       "      <td>4029.3</td>\n",
       "      <td>3472.104124</td>\n",
       "      <td>3252.208333</td>\n",
       "      <td>3725.96</td>\n",
       "      <td>3897.559633</td>\n",
       "      <td>3806.166667</td>\n",
       "      <td>3185.173913</td>\n",
       "      <td>3614.941674</td>\n",
       "    </tr>\n",
       "    <tr>\n",
       "      <th>H_TV</th>\n",
       "      <th>this_year</th>\n",
       "      <td>500.931698</td>\n",
       "      <td>452.277365</td>\n",
       "      <td>547.319192</td>\n",
       "      <td>540.691721</td>\n",
       "      <td>457.983142</td>\n",
       "      <td>456.43975</td>\n",
       "      <td>419.935882</td>\n",
       "      <td>496.47482</td>\n",
       "      <td>697.307692</td>\n",
       "      <td>507.166667</td>\n",
       "      <td>...</td>\n",
       "      <td>487.538462</td>\n",
       "      <td>614.538462</td>\n",
       "      <td>489.25</td>\n",
       "      <td>491.196341</td>\n",
       "      <td>733.083333</td>\n",
       "      <td>266.384615</td>\n",
       "      <td>523.509434</td>\n",
       "      <td>281.666667</td>\n",
       "      <td>147.4</td>\n",
       "      <td>457.992366</td>\n",
       "    </tr>\n",
       "  </tbody>\n",
       "</table>\n",
       "<p>5 rows × 31 columns</p>\n",
       "</div>"
      ],
      "text/plain": [
       "                        main            CA           KA           JB  \\\n",
       "cate  year_type                                                        \n",
       "CA_PS this_year  7753.796343  10814.277251  8250.168002  6589.754698   \n",
       "F_PS  this_year  2397.926589    2210.46991  2536.930556  2287.547776   \n",
       "H_GP  this_year  1631.660308   1431.736098  1764.938316  1285.324503   \n",
       "H_PS  this_year  3811.395427   4309.604297  4210.276509  3674.871179   \n",
       "H_TV  this_year   500.931698    452.277365   547.319192   540.691721   \n",
       "\n",
       "                          BA           KB     (CA, CA)      (CA, KA)  \\\n",
       "cate  year_type                                                        \n",
       "CA_PS this_year  7349.199095   6651.33582  9032.481942  12850.273726   \n",
       "F_PS  this_year  2394.906017  2407.886294  2235.449031   2408.694611   \n",
       "H_GP  this_year  1726.430345  2123.122078  1408.503045     1330.0375   \n",
       "H_PS  this_year  3357.541243  3572.692695  4383.540395   4743.652778   \n",
       "H_TV  this_year   457.983142    456.43975   419.935882     496.47482   \n",
       "\n",
       "                     (CA, JB)      (CA, BA)  ...      (BA, CA)      (BA, KA)  \\\n",
       "cate  year_type                              ...                               \n",
       "CA_PS this_year  10695.268312  12298.622913  ...  16563.840529  10541.474857   \n",
       "F_PS  this_year   2253.371795   2159.942857  ...   2004.727273   3143.957447   \n",
       "H_GP  this_year   1514.193548   1908.214286  ...   2221.416667        1953.0   \n",
       "H_PS  this_year   3749.745098   3392.666667  ...   3500.102564   4560.337838   \n",
       "H_TV  this_year    697.307692    507.166667  ...    487.538462    614.538462   \n",
       "\n",
       "                    (BA, JB)     (BA, BA)      (BA, KB)      (KB, CA)  \\\n",
       "cate  year_type                                                         \n",
       "CA_PS this_year  8834.869215  7082.266974  10917.512681  15822.299839   \n",
       "F_PS  this_year  2502.657143  2430.806065   2300.083333      2030.125   \n",
       "H_GP  this_year        881.5  1813.955335   2934.666667   1985.083333   \n",
       "H_PS  this_year       4029.3  3472.104124   3252.208333       3725.96   \n",
       "H_TV  this_year       489.25   491.196341    733.083333    266.384615   \n",
       "\n",
       "                     (KB, KA)     (KB, JB)      (KB, BA)     (KB, KB)  \n",
       "cate  year_type                                                        \n",
       "CA_PS this_year  11281.704804  8822.967665  10197.619677  6983.161713  \n",
       "F_PS  this_year   2513.305882    2124.6875   2783.454545  2421.288385  \n",
       "H_GP  this_year   2468.568182  2222.333333   2794.615385  2434.611452  \n",
       "H_PS  this_year   3897.559633  3806.166667   3185.173913  3614.941674  \n",
       "H_TV  this_year    523.509434   281.666667         147.4   457.992366  \n",
       "\n",
       "[5 rows x 31 columns]"
      ]
     },
     "execution_count": 158,
     "metadata": {},
     "output_type": "execute_result"
    }
   ],
   "source": [
    "compare_mat_Q1.loc[\"contribution\"].loc[\"plyAmt_cust\"]"
   ]
  },
  {
   "cell_type": "code",
   "execution_count": 86,
   "metadata": {},
   "outputs": [],
   "source": [
    "compare_mat_Q1 = compare_mat_Q1.T"
   ]
  },
  {
   "cell_type": "code",
   "execution_count": null,
   "metadata": {},
   "outputs": [],
   "source": [
    "\n",
    "for c, col in compare_mat_Q1.filter(regex=\".*Prs\").T.iterrows():\n",
    "    # prs拆解\n",
    "    tem = np.array(col.fillna('nan,nan,nan').str.split(',').to_list()).astype(float)\n",
    "    # 新增新欄位\n",
    "    for idx, pr_name in enumerate(['_Pr25', '_Pr50', '_Pr75']):\n",
    "        new_col = pd.MultiIndex.from_tuples([[c[0], c[1].replace(r'_Prs', pr_name), *c[2:]]])\n",
    "        print(compare_mat_Q1.shape, len(tem[:, idx].flatten()))\n",
    "        compare_mat_Q1[new_col] = tem[:, idx].flatten()"
   ]
  },
  {
   "cell_type": "code",
   "execution_count": 116,
   "metadata": {},
   "outputs": [
    {
     "data": {
      "text/plain": [
       "MultiIndex([('basic_info', 'age_Pr25', nan, 'this_year')],\n",
       "           )"
      ]
     },
     "execution_count": 116,
     "metadata": {},
     "output_type": "execute_result"
    }
   ],
   "source": [
    "new_col"
   ]
  },
  {
   "cell_type": "code",
   "execution_count": 130,
   "metadata": {},
   "outputs": [
    {
     "name": "stdout",
     "output_type": "stream",
     "text": [
      "['basic_info', 'age_Pr25', nan, 'this_year']\n"
     ]
    },
    {
     "ename": "KeyError",
     "evalue": "\"None of [Index(['basic_info', 'age_Pr25', nan, 'this_year'], dtype='object')] are in the [columns]\"",
     "output_type": "error",
     "traceback": [
      "\u001b[1;31m---------------------------------------------------------------------------\u001b[0m",
      "\u001b[1;31mKeyError\u001b[0m                                  Traceback (most recent call last)",
      "\u001b[1;32m~\\AppData\\Local\\Temp\\ipykernel_13752\\2351420480.py\u001b[0m in \u001b[0;36m<cell line: 4>\u001b[1;34m()\u001b[0m\n\u001b[0;32m      2\u001b[0m \u001b[0mprint\u001b[0m\u001b[1;33m(\u001b[0m\u001b[0mnew_col\u001b[0m\u001b[1;33m)\u001b[0m\u001b[1;33m\u001b[0m\u001b[1;33m\u001b[0m\u001b[0m\n\u001b[0;32m      3\u001b[0m \u001b[1;33m\u001b[0m\u001b[0m\n\u001b[1;32m----> 4\u001b[1;33m \u001b[0mcompare_mat_Q1\u001b[0m\u001b[1;33m[\u001b[0m\u001b[0mnew_col\u001b[0m\u001b[1;33m]\u001b[0m\u001b[1;31m# = np.arange(31).reshape(-1, 1)\u001b[0m\u001b[1;33m\u001b[0m\u001b[1;33m\u001b[0m\u001b[0m\n\u001b[0m\u001b[0;32m      5\u001b[0m \u001b[1;31m# compare_mat_Q1[new_col] = tem[:, idx]\u001b[0m\u001b[1;33m\u001b[0m\u001b[1;33m\u001b[0m\u001b[1;33m\u001b[0m\u001b[0m\n\u001b[0;32m      6\u001b[0m \u001b[1;31m# compare_mat_Q1[new_col] = tem[:, idx].flatten()\u001b[0m\u001b[1;33m\u001b[0m\u001b[1;33m\u001b[0m\u001b[1;33m\u001b[0m\u001b[0m\n",
      "\u001b[1;32mc:\\Program Files\\Python39\\lib\\site-packages\\pandas\\core\\frame.py\u001b[0m in \u001b[0;36m__getitem__\u001b[1;34m(self, key)\u001b[0m\n\u001b[0;32m   3459\u001b[0m             \u001b[1;32mif\u001b[0m \u001b[0mis_iterator\u001b[0m\u001b[1;33m(\u001b[0m\u001b[0mkey\u001b[0m\u001b[1;33m)\u001b[0m\u001b[1;33m:\u001b[0m\u001b[1;33m\u001b[0m\u001b[1;33m\u001b[0m\u001b[0m\n\u001b[0;32m   3460\u001b[0m                 \u001b[0mkey\u001b[0m \u001b[1;33m=\u001b[0m \u001b[0mlist\u001b[0m\u001b[1;33m(\u001b[0m\u001b[0mkey\u001b[0m\u001b[1;33m)\u001b[0m\u001b[1;33m\u001b[0m\u001b[1;33m\u001b[0m\u001b[0m\n\u001b[1;32m-> 3461\u001b[1;33m             \u001b[0mindexer\u001b[0m \u001b[1;33m=\u001b[0m \u001b[0mself\u001b[0m\u001b[1;33m.\u001b[0m\u001b[0mloc\u001b[0m\u001b[1;33m.\u001b[0m\u001b[0m_get_listlike_indexer\u001b[0m\u001b[1;33m(\u001b[0m\u001b[0mkey\u001b[0m\u001b[1;33m,\u001b[0m \u001b[0maxis\u001b[0m\u001b[1;33m=\u001b[0m\u001b[1;36m1\u001b[0m\u001b[1;33m)\u001b[0m\u001b[1;33m[\u001b[0m\u001b[1;36m1\u001b[0m\u001b[1;33m]\u001b[0m\u001b[1;33m\u001b[0m\u001b[1;33m\u001b[0m\u001b[0m\n\u001b[0m\u001b[0;32m   3462\u001b[0m \u001b[1;33m\u001b[0m\u001b[0m\n\u001b[0;32m   3463\u001b[0m         \u001b[1;31m# take() does not accept boolean indexers\u001b[0m\u001b[1;33m\u001b[0m\u001b[1;33m\u001b[0m\u001b[1;33m\u001b[0m\u001b[0m\n",
      "\u001b[1;32mc:\\Program Files\\Python39\\lib\\site-packages\\pandas\\core\\indexing.py\u001b[0m in \u001b[0;36m_get_listlike_indexer\u001b[1;34m(self, key, axis)\u001b[0m\n\u001b[0;32m   1312\u001b[0m             \u001b[0mkeyarr\u001b[0m\u001b[1;33m,\u001b[0m \u001b[0mindexer\u001b[0m\u001b[1;33m,\u001b[0m \u001b[0mnew_indexer\u001b[0m \u001b[1;33m=\u001b[0m \u001b[0max\u001b[0m\u001b[1;33m.\u001b[0m\u001b[0m_reindex_non_unique\u001b[0m\u001b[1;33m(\u001b[0m\u001b[0mkeyarr\u001b[0m\u001b[1;33m)\u001b[0m\u001b[1;33m\u001b[0m\u001b[1;33m\u001b[0m\u001b[0m\n\u001b[0;32m   1313\u001b[0m \u001b[1;33m\u001b[0m\u001b[0m\n\u001b[1;32m-> 1314\u001b[1;33m         \u001b[0mself\u001b[0m\u001b[1;33m.\u001b[0m\u001b[0m_validate_read_indexer\u001b[0m\u001b[1;33m(\u001b[0m\u001b[0mkeyarr\u001b[0m\u001b[1;33m,\u001b[0m \u001b[0mindexer\u001b[0m\u001b[1;33m,\u001b[0m \u001b[0maxis\u001b[0m\u001b[1;33m)\u001b[0m\u001b[1;33m\u001b[0m\u001b[1;33m\u001b[0m\u001b[0m\n\u001b[0m\u001b[0;32m   1315\u001b[0m \u001b[1;33m\u001b[0m\u001b[0m\n\u001b[0;32m   1316\u001b[0m         if needs_i8_conversion(ax.dtype) or isinstance(\n",
      "\u001b[1;32mc:\\Program Files\\Python39\\lib\\site-packages\\pandas\\core\\indexing.py\u001b[0m in \u001b[0;36m_validate_read_indexer\u001b[1;34m(self, key, indexer, axis)\u001b[0m\n\u001b[0;32m   1372\u001b[0m                 \u001b[1;32mif\u001b[0m \u001b[0muse_interval_msg\u001b[0m\u001b[1;33m:\u001b[0m\u001b[1;33m\u001b[0m\u001b[1;33m\u001b[0m\u001b[0m\n\u001b[0;32m   1373\u001b[0m                     \u001b[0mkey\u001b[0m \u001b[1;33m=\u001b[0m \u001b[0mlist\u001b[0m\u001b[1;33m(\u001b[0m\u001b[0mkey\u001b[0m\u001b[1;33m)\u001b[0m\u001b[1;33m\u001b[0m\u001b[1;33m\u001b[0m\u001b[0m\n\u001b[1;32m-> 1374\u001b[1;33m                 \u001b[1;32mraise\u001b[0m \u001b[0mKeyError\u001b[0m\u001b[1;33m(\u001b[0m\u001b[1;34mf\"None of [{key}] are in the [{axis_name}]\"\u001b[0m\u001b[1;33m)\u001b[0m\u001b[1;33m\u001b[0m\u001b[1;33m\u001b[0m\u001b[0m\n\u001b[0m\u001b[0;32m   1375\u001b[0m \u001b[1;33m\u001b[0m\u001b[0m\n\u001b[0;32m   1376\u001b[0m             \u001b[0mnot_found\u001b[0m \u001b[1;33m=\u001b[0m \u001b[0mlist\u001b[0m\u001b[1;33m(\u001b[0m\u001b[0mensure_index\u001b[0m\u001b[1;33m(\u001b[0m\u001b[0mkey\u001b[0m\u001b[1;33m)\u001b[0m\u001b[1;33m[\u001b[0m\u001b[0mmissing_mask\u001b[0m\u001b[1;33m.\u001b[0m\u001b[0mnonzero\u001b[0m\u001b[1;33m(\u001b[0m\u001b[1;33m)\u001b[0m\u001b[1;33m[\u001b[0m\u001b[1;36m0\u001b[0m\u001b[1;33m]\u001b[0m\u001b[1;33m]\u001b[0m\u001b[1;33m.\u001b[0m\u001b[0munique\u001b[0m\u001b[1;33m(\u001b[0m\u001b[1;33m)\u001b[0m\u001b[1;33m)\u001b[0m\u001b[1;33m\u001b[0m\u001b[1;33m\u001b[0m\u001b[0m\n",
      "\u001b[1;31mKeyError\u001b[0m: \"None of [Index(['basic_info', 'age_Pr25', nan, 'this_year'], dtype='object')] are in the [columns]\""
     ]
    }
   ],
   "source": [
    "new_col = [c[0], c[1].replace(r'_Prs', pr_name), c[2], c[3]]\n",
    "print(new_col)\n",
    "\n",
    "compare_mat_Q1[new_col]# = np.arange(31).reshape(-1, 1)\n",
    "# compare_mat_Q1[new_col] = tem[:, idx]\n",
    "# compare_mat_Q1[new_col] = tem[:, idx].flatten()"
   ]
  },
  {
   "cell_type": "code",
   "execution_count": null,
   "metadata": {},
   "outputs": [],
   "source": [
    "compare_mat_Q1"
   ]
  },
  {
   "cell_type": "code",
   "execution_count": 69,
   "metadata": {},
   "outputs": [
    {
     "data": {
      "text/plain": [
       "(31, 104)"
      ]
     },
     "execution_count": 69,
     "metadata": {},
     "output_type": "execute_result"
    }
   ],
   "source": [
    "compare_mat_Q1.shape"
   ]
  },
  {
   "cell_type": "code",
   "execution_count": 57,
   "metadata": {},
   "outputs": [
    {
     "data": {
      "text/plain": [
       "array([16230.,    nan, 81500.,  2400., 65703.,    nan,    nan,    nan,\n",
       "          nan,    nan,    nan,    nan, 81500.,    nan,    nan,    nan,\n",
       "          nan,    nan,  2200.,    nan,    nan,    nan,    nan,    nan,\n",
       "       65703.,    nan,    nan,    nan,    nan,    nan,    nan])"
      ]
     },
     "execution_count": 57,
     "metadata": {},
     "output_type": "execute_result"
    }
   ],
   "source": [
    "tem[:, 1]"
   ]
  },
  {
   "cell_type": "code",
   "execution_count": 9,
   "metadata": {},
   "outputs": [
    {
     "ename": "KeyError",
     "evalue": "'value'",
     "output_type": "error",
     "traceback": [
      "\u001b[1;31m---------------------------------------------------------------------------\u001b[0m",
      "\u001b[1;31mKeyError\u001b[0m                                  Traceback (most recent call last)",
      "\u001b[1;32mc:\\Program Files\\Python39\\lib\\site-packages\\pandas\\core\\indexes\\base.py\u001b[0m in \u001b[0;36mget_loc\u001b[1;34m(self, key, method, tolerance)\u001b[0m\n\u001b[0;32m   3360\u001b[0m             \u001b[1;32mtry\u001b[0m\u001b[1;33m:\u001b[0m\u001b[1;33m\u001b[0m\u001b[1;33m\u001b[0m\u001b[0m\n\u001b[1;32m-> 3361\u001b[1;33m                 \u001b[1;32mreturn\u001b[0m \u001b[0mself\u001b[0m\u001b[1;33m.\u001b[0m\u001b[0m_engine\u001b[0m\u001b[1;33m.\u001b[0m\u001b[0mget_loc\u001b[0m\u001b[1;33m(\u001b[0m\u001b[0mcasted_key\u001b[0m\u001b[1;33m)\u001b[0m\u001b[1;33m\u001b[0m\u001b[1;33m\u001b[0m\u001b[0m\n\u001b[0m\u001b[0;32m   3362\u001b[0m             \u001b[1;32mexcept\u001b[0m \u001b[0mKeyError\u001b[0m \u001b[1;32mas\u001b[0m \u001b[0merr\u001b[0m\u001b[1;33m:\u001b[0m\u001b[1;33m\u001b[0m\u001b[1;33m\u001b[0m\u001b[0m\n",
      "\u001b[1;32mc:\\Program Files\\Python39\\lib\\site-packages\\pandas\\_libs\\index.pyx\u001b[0m in \u001b[0;36mpandas._libs.index.IndexEngine.get_loc\u001b[1;34m()\u001b[0m\n",
      "\u001b[1;32mc:\\Program Files\\Python39\\lib\\site-packages\\pandas\\_libs\\index.pyx\u001b[0m in \u001b[0;36mpandas._libs.index.IndexEngine.get_loc\u001b[1;34m()\u001b[0m\n",
      "\u001b[1;32mpandas\\_libs\\hashtable_class_helper.pxi\u001b[0m in \u001b[0;36mpandas._libs.hashtable.PyObjectHashTable.get_item\u001b[1;34m()\u001b[0m\n",
      "\u001b[1;32mpandas\\_libs\\hashtable_class_helper.pxi\u001b[0m in \u001b[0;36mpandas._libs.hashtable.PyObjectHashTable.get_item\u001b[1;34m()\u001b[0m\n",
      "\u001b[1;31mKeyError\u001b[0m: 'value'",
      "\nThe above exception was the direct cause of the following exception:\n",
      "\u001b[1;31mKeyError\u001b[0m                                  Traceback (most recent call last)",
      "\u001b[1;32m~\\AppData\\Local\\Temp\\ipykernel_13752\\3381199076.py\u001b[0m in \u001b[0;36m<cell line: 1>\u001b[1;34m()\u001b[0m\n\u001b[0;32m      1\u001b[0m \u001b[1;32mfor\u001b[0m \u001b[0m_\u001b[0m\u001b[1;33m,\u001b[0m \u001b[0mrow\u001b[0m \u001b[1;32min\u001b[0m \u001b[0mcompare_mat_Q1\u001b[0m\u001b[1;33m[\u001b[0m\u001b[0mcompare_mat_Q1\u001b[0m\u001b[1;33m[\u001b[0m\u001b[1;34m\"variable\"\u001b[0m\u001b[1;33m]\u001b[0m\u001b[1;33m.\u001b[0m\u001b[0mstr\u001b[0m\u001b[1;33m.\u001b[0m\u001b[0mmatch\u001b[0m\u001b[1;33m(\u001b[0m\u001b[1;34mr'.*Prs'\u001b[0m\u001b[1;33m)\u001b[0m\u001b[1;33m]\u001b[0m\u001b[1;33m.\u001b[0m\u001b[0miterrows\u001b[0m\u001b[1;33m(\u001b[0m\u001b[1;33m)\u001b[0m\u001b[1;33m:\u001b[0m\u001b[1;33m\u001b[0m\u001b[1;33m\u001b[0m\u001b[0m\n\u001b[1;32m----> 2\u001b[1;33m     \u001b[0mrow\u001b[0m\u001b[1;33m[\u001b[0m\u001b[1;34m\"value\"\u001b[0m\u001b[1;33m]\u001b[0m\u001b[1;33m\u001b[0m\u001b[1;33m\u001b[0m\u001b[0m\n\u001b[0m",
      "\u001b[1;32mc:\\Program Files\\Python39\\lib\\site-packages\\pandas\\core\\series.py\u001b[0m in \u001b[0;36m__getitem__\u001b[1;34m(self, key)\u001b[0m\n\u001b[0;32m    940\u001b[0m \u001b[1;33m\u001b[0m\u001b[0m\n\u001b[0;32m    941\u001b[0m         \u001b[1;32melif\u001b[0m \u001b[0mkey_is_scalar\u001b[0m\u001b[1;33m:\u001b[0m\u001b[1;33m\u001b[0m\u001b[1;33m\u001b[0m\u001b[0m\n\u001b[1;32m--> 942\u001b[1;33m             \u001b[1;32mreturn\u001b[0m \u001b[0mself\u001b[0m\u001b[1;33m.\u001b[0m\u001b[0m_get_value\u001b[0m\u001b[1;33m(\u001b[0m\u001b[0mkey\u001b[0m\u001b[1;33m)\u001b[0m\u001b[1;33m\u001b[0m\u001b[1;33m\u001b[0m\u001b[0m\n\u001b[0m\u001b[0;32m    943\u001b[0m \u001b[1;33m\u001b[0m\u001b[0m\n\u001b[0;32m    944\u001b[0m         \u001b[1;32mif\u001b[0m \u001b[0mis_hashable\u001b[0m\u001b[1;33m(\u001b[0m\u001b[0mkey\u001b[0m\u001b[1;33m)\u001b[0m\u001b[1;33m:\u001b[0m\u001b[1;33m\u001b[0m\u001b[1;33m\u001b[0m\u001b[0m\n",
      "\u001b[1;32mc:\\Program Files\\Python39\\lib\\site-packages\\pandas\\core\\series.py\u001b[0m in \u001b[0;36m_get_value\u001b[1;34m(self, label, takeable)\u001b[0m\n\u001b[0;32m   1049\u001b[0m \u001b[1;33m\u001b[0m\u001b[0m\n\u001b[0;32m   1050\u001b[0m         \u001b[1;31m# Similar to Index.get_value, but we do not fall back to positional\u001b[0m\u001b[1;33m\u001b[0m\u001b[1;33m\u001b[0m\u001b[1;33m\u001b[0m\u001b[0m\n\u001b[1;32m-> 1051\u001b[1;33m         \u001b[0mloc\u001b[0m \u001b[1;33m=\u001b[0m \u001b[0mself\u001b[0m\u001b[1;33m.\u001b[0m\u001b[0mindex\u001b[0m\u001b[1;33m.\u001b[0m\u001b[0mget_loc\u001b[0m\u001b[1;33m(\u001b[0m\u001b[0mlabel\u001b[0m\u001b[1;33m)\u001b[0m\u001b[1;33m\u001b[0m\u001b[1;33m\u001b[0m\u001b[0m\n\u001b[0m\u001b[0;32m   1052\u001b[0m         \u001b[1;32mreturn\u001b[0m \u001b[0mself\u001b[0m\u001b[1;33m.\u001b[0m\u001b[0mindex\u001b[0m\u001b[1;33m.\u001b[0m\u001b[0m_get_values_for_loc\u001b[0m\u001b[1;33m(\u001b[0m\u001b[0mself\u001b[0m\u001b[1;33m,\u001b[0m \u001b[0mloc\u001b[0m\u001b[1;33m,\u001b[0m \u001b[0mlabel\u001b[0m\u001b[1;33m)\u001b[0m\u001b[1;33m\u001b[0m\u001b[1;33m\u001b[0m\u001b[0m\n\u001b[0;32m   1053\u001b[0m \u001b[1;33m\u001b[0m\u001b[0m\n",
      "\u001b[1;32mc:\\Program Files\\Python39\\lib\\site-packages\\pandas\\core\\indexes\\base.py\u001b[0m in \u001b[0;36mget_loc\u001b[1;34m(self, key, method, tolerance)\u001b[0m\n\u001b[0;32m   3361\u001b[0m                 \u001b[1;32mreturn\u001b[0m \u001b[0mself\u001b[0m\u001b[1;33m.\u001b[0m\u001b[0m_engine\u001b[0m\u001b[1;33m.\u001b[0m\u001b[0mget_loc\u001b[0m\u001b[1;33m(\u001b[0m\u001b[0mcasted_key\u001b[0m\u001b[1;33m)\u001b[0m\u001b[1;33m\u001b[0m\u001b[1;33m\u001b[0m\u001b[0m\n\u001b[0;32m   3362\u001b[0m             \u001b[1;32mexcept\u001b[0m \u001b[0mKeyError\u001b[0m \u001b[1;32mas\u001b[0m \u001b[0merr\u001b[0m\u001b[1;33m:\u001b[0m\u001b[1;33m\u001b[0m\u001b[1;33m\u001b[0m\u001b[0m\n\u001b[1;32m-> 3363\u001b[1;33m                 \u001b[1;32mraise\u001b[0m \u001b[0mKeyError\u001b[0m\u001b[1;33m(\u001b[0m\u001b[0mkey\u001b[0m\u001b[1;33m)\u001b[0m \u001b[1;32mfrom\u001b[0m \u001b[0merr\u001b[0m\u001b[1;33m\u001b[0m\u001b[1;33m\u001b[0m\u001b[0m\n\u001b[0m\u001b[0;32m   3364\u001b[0m \u001b[1;33m\u001b[0m\u001b[0m\n\u001b[0;32m   3365\u001b[0m         \u001b[1;32mif\u001b[0m \u001b[0mis_scalar\u001b[0m\u001b[1;33m(\u001b[0m\u001b[0mkey\u001b[0m\u001b[1;33m)\u001b[0m \u001b[1;32mand\u001b[0m \u001b[0misna\u001b[0m\u001b[1;33m(\u001b[0m\u001b[0mkey\u001b[0m\u001b[1;33m)\u001b[0m \u001b[1;32mand\u001b[0m \u001b[1;32mnot\u001b[0m \u001b[0mself\u001b[0m\u001b[1;33m.\u001b[0m\u001b[0mhasnans\u001b[0m\u001b[1;33m:\u001b[0m\u001b[1;33m\u001b[0m\u001b[1;33m\u001b[0m\u001b[0m\n",
      "\u001b[1;31mKeyError\u001b[0m: 'value'"
     ]
    }
   ],
   "source": [
    "for _, row in compare_mat_Q1[compare_mat_Q1[\"variable\"].str.match(r'.*Prs')].iterrows():\n",
    "    row[\"value\"]"
   ]
  },
  {
   "cell_type": "code",
   "execution_count": 6,
   "metadata": {},
   "outputs": [],
   "source": [
    "with open(\"./tem/group_feat_summary.pickle\", \"rb\") as f:\n",
    "    summary = pickle.load(f)\n",
    "    \n",
    "col_orders = [\"variable_type\", \"variable\", \"cate\", \"year_type\", \"value\"]\n",
    "data_main = [\n",
    "                summary[\"main\"].query(\" year==2020 & variable_type.str.match('^(?!.*iroute).*') \")[col_orders]\\\n",
    "                .set_index(col_orders[:-1])\\\n",
    "                .rename(columns={\"value\": \"main\"})\n",
    "            ]\n",
    "data_r = [\n",
    "            data.query(\" year==2020 & variable_type.str.match('^(?!.*iroute).*') \")[col_orders]\\\n",
    "                .set_index(col_orders[:-1])\\\n",
    "                .rename(columns={\"value\": r})\n",
    "            for r, data in summary[\"r\"].items()\n",
    "        ]\n",
    "\n",
    "data_s_r = [\n",
    "            data.query(\" year==2020 & variable_type.str.match('^(?!.*iroute).*') \")[col_orders]\\\n",
    "                .set_index(col_orders[:-1])\\\n",
    "                .rename(columns={\"value\": r})\n",
    "            for r, data in summary[\"src_dst\"].items()\n",
    "        ]\n",
    "\n",
    "data_con_Q1 = data_main + data_r + data_s_r\n",
    "compare_mat_Q1 = pd.concat(data_con_Q1, axis=1)\n",
    "compare_mat_Q1.reset_index(inplace=True)"
   ]
  },
  {
   "cell_type": "code",
   "execution_count": 7,
   "metadata": {},
   "outputs": [],
   "source": [
    "plot_data = compare_mat_Q1.query(\"cate.isna() | cate=='CA_PS'\")\n"
   ]
  },
  {
   "cell_type": "markdown",
   "metadata": {},
   "source": [
    "雷達圖: 比較不同族群間的特徵\n",
    "1. 數據\n",
    "2. 買過的險別(人數%、歷年，radar_groupPlt(year_type=\"this_year\")改成該年)\n",
    "3. 此年的車種占比(保單%)"
   ]
  },
  {
   "cell_type": "code",
   "execution_count": 9,
   "metadata": {},
   "outputs": [],
   "source": [
    "from dataclasses import dataclass, field\n",
    "from typing import List\n",
    "import numpy as np\n",
    "import plotly.graph_objects as go\n",
    "import plotly.offline as pyo\n",
    "import plotly.express as px\n",
    "from plotly.subplots import make_subplots\n",
    "from collections import defaultdict\n"
   ]
  },
  {
   "cell_type": "markdown",
   "metadata": {},
   "source": [
    "QUERY_BASIC 要再加上Prs的處理 (至少要取pr50)"
   ]
  },
  {
   "cell_type": "code",
   "execution_count": 10,
   "metadata": {},
   "outputs": [],
   "source": [
    "@dataclass\n",
    "class ft_query:\n",
    "    variable_type: List[str] = field(default_factory=list)\n",
    "    variable: List[str] = field(default_factory=list),\n",
    "    variable_aliases: List[str] = field(default_factory=list)\n",
    "    year_type: str = 'this_year'\n",
    "\n",
    "QUERY_BASIC = ft_query(\n",
    "    variable_type=[],\n",
    "    variable=[\"female_rate\", \"age_Avg\", \"marr_pct\", \"carAge_Avg\", \"carCnt_Avg\", \"seqRoutes_Avg\", \"plyAmt_cust\", \"clmRate\", \"clmAmt_cust\"],\n",
    "    variable_aliases=[\"女性占比\", \"Avg年齡\", \"未婚占比\", \"Avg車齡\", \"Avg車數\", \"Avg連續通路使用\", \"保費/人\", \"總賠付/總保費\", \"賠付金/人\"],\n",
    "    year_type=''\n",
    ")\n",
    "\n",
    "QUERY_CARTYPE = ft_query(\n",
    "    variable_type=[\"car_info\"],\n",
    "    variable=[\"pct_小客車\", \"pct_機車\", \"pct_進口車\", \"pct_小貨車\", \"pct_NA\", \"pct_電動自行車\", \"pct_其他\", \"pct_大型重機\"],\n",
    "    variable_aliases=[\"小客車\", \"機車\", \"進口車\", \"小貨車\", \"未填\", \"電動自行車\", \"其他\", \"大型重機\"],\n",
    "    year_type=\"this_year\"\n",
    ")\n",
    "\n",
    "QUERY_IINSBUY = ft_query(\n",
    "    variable_type=[\"iins_type_bought\"],\n",
    "    variable=[\"CA_PS\", \"F_PS\", \"H_GP\", \"H_PS\", \"H_TV\"],\n",
    "    variable_aliases=[\"車險(任意)\", \"住火\", \"團傷\", \"個傷\", \"旅平\"],\n",
    "    year_type='~this_year'\n",
    ")\n",
    "\n",
    "def radar_plot(df, fts: ft_query, base_col:str=\"main\", compare_cols:list=[\"KA\", \"BA\", \"JB\", \"BA\", \"CA\", \"KB\"], default_show:list=[\"KA\", \"JB\"], showlegend=True, data_save_name=''):\n",
    "    data = df.copy()\n",
    "    # filter\n",
    "    if len(vt:=fts.variable_type)>0:\n",
    "        data = data.query(\"variable_type.isin(@vt)\")\n",
    "    if len(v:=fts.variable)>0:\n",
    "        data = data.query(\"variable.isin(@v)\")\n",
    "    if fts.year_type in [\"this_year\", \"~this_year\"]:\n",
    "        data = data.query(\"year_type==@fts.year_type\")\n",
    "    # divided into base_ser v.s. comparing_df\n",
    "    data = data.set_index(\"variable\").loc[fts.variable].reset_index() # 照指定的順序排列\n",
    "    data = data.set_index([\"variable_type\", \"variable\", \"cate\", \"year_type\"])\n",
    "    # 儲存data\n",
    "    if data_save_name:\n",
    "        data_ = data.copy()\n",
    "        data_[\"ft_name\"] = fts.variable_aliases\n",
    "        data_.to_csv(f'./notebook/特徵群組分析/plotData_{data_save_name}.csv')\n",
    "\n",
    "    base_ser = data[base_col]\n",
    "    comparing_df = data[compare_cols]\n",
    "    # comparing_df/base_ser and standardlized\n",
    "    df_div = comparing_df / base_ser.values.reshape(-1, 1)\n",
    "    \n",
    "    fig = go.Figure()\n",
    "    # color red for ring=1\n",
    "    fig.add_trace(\n",
    "            go.Scatterpolar(\n",
    "                r=np.ones(len(fts.variable_aliases)),\n",
    "                theta=fts.variable_aliases,\n",
    "                meta=base_ser.values,\n",
    "                name=str(base_col),\n",
    "                mode=\"lines+markers\",\n",
    "                line={\"width\":0, \"color\":\"red\"},\n",
    "                marker={\"size\":.1},\n",
    "                fill=\"toself\",\n",
    "                opacity=.2,\n",
    "                hovertemplate=\"%{meta:.2f}\",\n",
    "                legendgroup=str(base_col),\n",
    "                showlegend=showlegend\n",
    "            )\n",
    "        )\n",
    "\n",
    "    c_idx, colors = 0, px.colors.qualitative.Vivid # 指定顏色\n",
    "    for name, ser in df_div.T.iterrows():\n",
    "        # print(ser)\n",
    "        fig.add_trace(\n",
    "            go.Scatterpolar(\n",
    "                r=ser.values,\n",
    "                theta=fts.variable_aliases,\n",
    "                meta=data[name],\n",
    "                name=str(name),\n",
    "                mode=\"lines+markers\",\n",
    "                line={\"width\":1, \"color\":colors[c_idx]},\n",
    "                hovertemplate=\"%{meta:.2f}\",\n",
    "                visible=\"legendonly\" if name not in default_show else None,\n",
    "                legendgroup=str(name),\n",
    "                showlegend=showlegend\n",
    "            )\n",
    "        )\n",
    "        c_idx += 1\n",
    "\n",
    "    return fig\n",
    "\n",
    "def radar_groupPlt(df, title='', base_col:str=\"main\", compare_cols:list=[\"KA\", \"BA\", \"JB\", \"BA\", \"CA\", \"KB\"], default_show:list=[\"KA\", \"JB\"], data_save_name=''):\n",
    "    # 基本資訊\n",
    "    fig = radar_plot(plot_data, QUERY_BASIC, base_col=base_col, compare_cols=compare_cols, default_show=default_show, data_save_name=data_save_name)\n",
    "    # 買過的險別\n",
    "    fig_iinsBuy = radar_plot(plot_data, QUERY_IINSBUY, base_col=base_col, compare_cols=compare_cols, default_show=default_show, showlegend=False, data_save_name=data_save_name+\"_iinsbuy\")\n",
    "    # 車種\n",
    "    fig_carType = radar_plot(plot_data, QUERY_CARTYPE, base_col=base_col, compare_cols=compare_cols, default_show=default_show, showlegend=False, data_save_name=data_save_name+\"_cartype\")\n",
    "\n",
    "    subplots = make_subplots(\n",
    "        1, 3,\n",
    "        subplot_titles= [\"\", \"歷年曾買過的險別(人數%)\", \"此年投保車種(保單%)\"], \n",
    "        specs=[[{\"type\":\"polar\"}, {\"type\":\"polar\"}, {\"type\":\"polar\"}]]\n",
    "    )\n",
    "    subplots.add_traces(fig.data, 1, 1)\n",
    "    subplots.add_traces(fig_iinsBuy.data, 1, 2)\n",
    "    subplots.add_traces(fig_carType.data, 1, 3)\n",
    "    subplots.update_layout(title=f\"<b>2020年 使用各通路族群描述: {title}</b>\")\n",
    "    return subplots"
   ]
  },
  {
   "cell_type": "markdown",
   "metadata": {},
   "source": [
    "作圖: radar_dict儲存各種對比的雷達圖\n",
    "1. agg: 不分通路\n",
    "2. from: 去年從指定通路出發\n",
    "3. to: 今年抵達指定通路"
   ]
  },
  {
   "cell_type": "code",
   "execution_count": 11,
   "metadata": {},
   "outputs": [],
   "source": [
    "\n",
    "radar_dict = defaultdict(dict)\n",
    "# 不看轉移\n",
    "radar_dict[\"agg\"] = radar_groupPlt(plot_data, base_col=\"main\", compare_cols=[\"KA\", \"KB\", \"CA\", \"JB\", \"BA\"], default_show=[\"KA\", \"JB\"], data_save_name=\"main\")\n",
    "# 看轉移\n",
    "for r in [\"KA\", \"KB\", \"CA\", \"BA\", \"BA\", \"JB\"]:\n",
    "    from_r = [c for c in plot_data.columns if isinstance(c, tuple) and c[0]==r]\n",
    "    radar_dict[\"from\"][r] = radar_groupPlt(plot_data, title=f\"src from {r}\", base_col=\"main\", compare_cols=from_r, default_show=[(r, r), (r, 'JB')], data_save_name=f'from_{r}')\n",
    "    to_r = [c for c in plot_data.columns if isinstance(c, tuple) and c[1]==r]\n",
    "    radar_dict[\"to\"][r] = radar_groupPlt(plot_data, title=f\"dst to {r}\", base_col=\"main\", compare_cols=to_r, default_show=[('KA', r), ('JB', r)], data_save_name=f'to_{r}')\n",
    "    \n",
    "    "
   ]
  },
  {
   "cell_type": "code",
   "execution_count": 12,
   "metadata": {},
   "outputs": [],
   "source": [
    "\n",
    "with open(f\"./markdown/群組特徵分析/agg.txt\", \"w\") as f:\n",
    "    f.write(\n",
    "        pyo.plot(radar_dict[\"agg\"], auto_open=False, output_type=\"div\", include_plotlyjs=False)\n",
    "    )"
   ]
  },
  {
   "cell_type": "code",
   "execution_count": 13,
   "metadata": {},
   "outputs": [],
   "source": [
    "for k, dict_lv1 in radar_dict.items():\n",
    "    if k == 'agg':\n",
    "        pyo.plot(radar_dict[k], filename=f\"./markdown/群組特徵分析/agg.html\", auto_open=False)\n",
    "        with open(f\"./markdown/群組特徵分析/agg.txt\", \"w\") as f:\n",
    "            f.write(\n",
    "                pyo.plot(radar_dict[k], auto_open=False, output_type=\"div\", include_plotlyjs=False)\n",
    "            )\n",
    "        continue\n",
    "    for r, fig in dict_lv1.items():\n",
    "        with open(f\"./markdown/群組特徵分析/{k}_{r}.txt\", \"w\") as f:\n",
    "            pyo.plot(fig, filename=f\"./markdown/群組特徵分析/{k}_{r}.html\")\n",
    "            f.write(\n",
    "                    pyo.plot(fig, auto_open=False, output_type=\"div\", include_plotlyjs=False)\n",
    "                )\n",
    "\n",
    "radar_dict[\"from\"][\"KA\"]\n",
    "radar_dict[\"to\"][\"JB\"]\n",
    "radar_dict[\"agg\"]\n",
    "\n",
    "with open('./notebook/特徵群組分析/radar_dict.pickle', 'wb') as f:\n",
    "    pickle.dump(radar_dict, f)\n"
   ]
  },
  {
   "cell_type": "code",
   "execution_count": 34,
   "metadata": {},
   "outputs": [
    {
     "data": {
      "application/vnd.plotly.v1+json": {
       "config": {
        "plotlyServerURL": "https://plot.ly"
       },
       "data": [
        {
         "fill": "toself",
         "hovertemplate": "%{meta:.2f}",
         "legendgroup": "main",
         "line": {
          "color": "red",
          "width": 0
         },
         "marker": {
          "size": 0.1
         },
         "meta": [
          0.5006674252556911,
          46.74174701721465,
          0.46617558008770354,
          8.350771570128321,
          1.294293946592671,
          3.114326020268966,
          7753.796342802388,
          0.5920070338949239,
          54696.87042293725
         ],
         "mode": "lines+markers",
         "name": "main",
         "opacity": 0.2,
         "r": [
          1,
          1,
          1,
          1,
          1,
          1,
          1,
          1,
          1
         ],
         "showlegend": true,
         "subplot": "polar",
         "theta": [
          "女性占比",
          "Avg年齡",
          "已婚占比",
          "Avg車齡",
          "Avg車數",
          "Avg連續通路使用",
          "保費/人",
          "總賠付/總保費",
          "賠付金/人"
         ],
         "type": "scatterpolar"
        },
        {
         "hovertemplate": "%{meta:.2f}",
         "legendgroup": "KA",
         "line": {
          "color": "rgb(229, 134, 6)",
          "width": 1
         },
         "meta": [
          0.498747857412626,
          47.97508497719416,
          0.45837715348188607,
          9.78420706775701,
          1.4269254234333693,
          3.4662153917666543,
          8250.168002091747,
          0.6288768816456086,
          55106.09991360158
         ],
         "mode": "lines+markers",
         "name": "KA",
         "r": [
          0.9961659821545515,
          1.0263862187163282,
          0.9832714819503194,
          1.1716530605095525,
          1.1024739991945884,
          1.1129905376660911,
          1.0640165974632705,
          1.0622794082497824,
          1.0074817715803484
         ],
         "showlegend": true,
         "subplot": "polar",
         "theta": [
          "女性占比",
          "Avg年齡",
          "已婚占比",
          "Avg車齡",
          "Avg車數",
          "Avg連續通路使用",
          "保費/人",
          "總賠付/總保費",
          "賠付金/人"
         ],
         "type": "scatterpolar"
        },
        {
         "hovertemplate": "%{meta:.2f}",
         "legendgroup": "KB",
         "line": {
          "color": "rgb(93, 105, 177)",
          "width": 1
         },
         "meta": [
          0.4840749683799011,
          45.20820397838335,
          0.6066603426468897,
          8.716614190004972,
          1.3608715649074394,
          2.801167069104289,
          6651.335819822927,
          0.6020277019371347,
          57633.92035581299
         ],
         "mode": "lines+markers",
         "name": "KB",
         "r": [
          0.9668593240965973,
          0.9671911484552235,
          1.3013559022820462,
          1.0438094392601172,
          1.0514393337696117,
          0.8994456748822875,
          0.857816677890587,
          1.0169266030105808,
          1.05369685523441
         ],
         "showlegend": true,
         "subplot": "polar",
         "theta": [
          "女性占比",
          "Avg年齡",
          "已婚占比",
          "Avg車齡",
          "Avg車數",
          "Avg連續通路使用",
          "保費/人",
          "總賠付/總保費",
          "賠付金/人"
         ],
         "type": "scatterpolar",
         "visible": "legendonly"
        },
        {
         "hovertemplate": "%{meta:.2f}",
         "legendgroup": "CA",
         "line": {
          "color": "rgb(82, 188, 163)",
          "width": 1
         },
         "meta": [
          0.5150565785582053,
          49.82712046358269,
          0.33952612034308627,
          5.928449744463373,
          1.1794192071333895,
          3.5762632956873226,
          10814.277251366539,
          0.5267646533297942,
          56430.470511638
         ],
         "mode": "lines+markers",
         "name": "CA",
         "r": [
          1.0287399430773145,
          1.0660089458194988,
          0.7283224065044545,
          0.709928381428864,
          0.9112452470617682,
          1.1483265632473705,
          1.394707414698234,
          0.8897945854867837,
          1.0316946851857498
         ],
         "showlegend": true,
         "subplot": "polar",
         "theta": [
          "女性占比",
          "Avg年齡",
          "已婚占比",
          "Avg車齡",
          "Avg車數",
          "Avg連續通路使用",
          "保費/人",
          "總賠付/總保費",
          "賠付金/人"
         ],
         "type": "scatterpolar",
         "visible": "legendonly"
        },
        {
         "hovertemplate": "%{meta:.2f}",
         "legendgroup": "JB",
         "line": {
          "color": "rgb(153, 201, 69)",
          "width": 1
         },
         "meta": [
          0.5051849599809654,
          45.54482065788517,
          0.2939333654983708,
          8.926507138937605,
          1.3456441709681897,
          2.8995723812482237,
          6589.754697527478,
          0.648092551619207,
          48927.118573483756
         ],
         "mode": "lines+markers",
         "name": "JB",
         "r": [
          1.0090230250609318,
          0.9743927765710455,
          0.6305207266392459,
          1.0689439968479988,
          1.0396743139459952,
          0.931043301946212,
          0.8498746170505943,
          1.0947379245737776,
          0.8945140406601044
         ],
         "showlegend": true,
         "subplot": "polar",
         "theta": [
          "女性占比",
          "Avg年齡",
          "已婚占比",
          "Avg車齡",
          "Avg車數",
          "Avg連續通路使用",
          "保費/人",
          "總賠付/總保費",
          "賠付金/人"
         ],
         "type": "scatterpolar"
        },
        {
         "hovertemplate": "%{meta:.2f}",
         "legendgroup": "BA",
         "line": {
          "color": "rgb(204, 97, 176)",
          "width": 1
         },
         "meta": [
          0.5276228455437897,
          45.8645937182838,
          0.6445540197055839,
          8.907319926548988,
          1.3163132415415981,
          2.772586425241829,
          7349.1990946568585,
          0.6125524364131532,
          57302.223505201786
         ],
         "mode": "lines+markers",
         "name": "BA",
         "r": [
          1.053838973594762,
          0.9812340497541138,
          1.3826421786922456,
          1.0666463394126962,
          1.0170125920830384,
          0.890268522690626,
          0.9478194641362867,
          1.0347046594751708,
          1.0476325804770719
         ],
         "showlegend": true,
         "subplot": "polar",
         "theta": [
          "女性占比",
          "Avg年齡",
          "已婚占比",
          "Avg車齡",
          "Avg車數",
          "Avg連續通路使用",
          "保費/人",
          "總賠付/總保費",
          "賠付金/人"
         ],
         "type": "scatterpolar",
         "visible": "legendonly"
        },
        {
         "fill": "toself",
         "hovertemplate": "%{meta:.2f}",
         "legendgroup": "main",
         "line": {
          "color": "red",
          "width": 0
         },
         "marker": {
          "size": 0.1
         },
         "meta": [
          1,
          0.019133744568436042,
          0.0211353549065405,
          0.02506271668030796,
          0.05019463797336953
         ],
         "mode": "lines+markers",
         "name": "main",
         "opacity": 0.2,
         "r": [
          1,
          1,
          1,
          1,
          1
         ],
         "showlegend": false,
         "subplot": "polar2",
         "theta": [
          "車險(任意)",
          "住火",
          "團傷",
          "個傷",
          "旅平"
         ],
         "type": "scatterpolar"
        },
        {
         "hovertemplate": "%{meta:.2f}",
         "legendgroup": "KA",
         "line": {
          "color": "rgb(229, 134, 6)",
          "width": 1
         },
         "meta": [
          1,
          0.03197466662793062,
          0.02751227448360013,
          0.03816274948432643,
          0.07286830713808432
         ],
         "mode": "lines+markers",
         "name": "KA",
         "r": [
          1,
          1.6711139063013098,
          1.3017181213780442,
          1.5226900567531572,
          1.4517149655854509
         ],
         "showlegend": false,
         "subplot": "polar2",
         "theta": [
          "車險(任意)",
          "住火",
          "團傷",
          "個傷",
          "旅平"
         ],
         "type": "scatterpolar"
        },
        {
         "hovertemplate": "%{meta:.2f}",
         "legendgroup": "KB",
         "line": {
          "color": "rgb(93, 105, 177)",
          "width": 1
         },
         "meta": [
          1,
          0.01660055191445326,
          0.02761009543520754,
          0.028846153846153848,
          0.037901000344946534
         ],
         "mode": "lines+markers",
         "name": "KB",
         "r": [
          1,
          0.8676060169549008,
          1.3063464302964405,
          1.1509587812888047,
          0.755080659512968
         ],
         "showlegend": false,
         "subplot": "polar2",
         "theta": [
          "車險(任意)",
          "住火",
          "團傷",
          "個傷",
          "旅平"
         ],
         "type": "scatterpolar",
         "visible": "legendonly"
        },
        {
         "hovertemplate": "%{meta:.2f}",
         "legendgroup": "CA",
         "line": {
          "color": "rgb(82, 188, 163)",
          "width": 1
         },
         "meta": [
          1,
          0.009864277185641205,
          0.016776391460088292,
          0.01047223652356801,
          0.025698605527500574
         ],
         "mode": "lines+markers",
         "name": "CA",
         "r": [
          1,
          0.5155434761010553,
          0.7937596285594762,
          0.4178412363331767,
          0.51197909906502
         ],
         "showlegend": false,
         "subplot": "polar2",
         "theta": [
          "車險(任意)",
          "住火",
          "團傷",
          "個傷",
          "旅平"
         ],
         "type": "scatterpolar",
         "visible": "legendonly"
        },
        {
         "hovertemplate": "%{meta:.2f}",
         "legendgroup": "JB",
         "line": {
          "color": "rgb(153, 201, 69)",
          "width": 1
         },
         "meta": [
          1,
          0.01910074486295711,
          0.016622274508767177,
          0.015776289961203678,
          0.06907992571198192
         ],
         "mode": "lines+markers",
         "name": "JB",
         "r": [
          1,
          0.9982753137860234,
          0.7864677258683404,
          0.6294724615228673,
          1.376241138518259
         ],
         "showlegend": false,
         "subplot": "polar2",
         "theta": [
          "車險(任意)",
          "住火",
          "團傷",
          "個傷",
          "旅平"
         ],
         "type": "scatterpolar"
        },
        {
         "hovertemplate": "%{meta:.2f}",
         "legendgroup": "BA",
         "line": {
          "color": "rgb(204, 97, 176)",
          "width": 1
         },
         "meta": [
          1,
          0.020882170667960016,
          0.01879844439055497,
          0.03809087561411545,
          0.04309361499564394
         ],
         "mode": "lines+markers",
         "name": "BA",
         "r": [
          1,
          1.0913791910031172,
          0.8894312148379229,
          1.5198222962015866,
          0.8585302481613076
         ],
         "showlegend": false,
         "subplot": "polar2",
         "theta": [
          "車險(任意)",
          "住火",
          "團傷",
          "個傷",
          "旅平"
         ],
         "type": "scatterpolar",
         "visible": "legendonly"
        },
        {
         "fill": "toself",
         "hovertemplate": "%{meta:.2f}",
         "legendgroup": "main",
         "line": {
          "color": "red",
          "width": 0
         },
         "marker": {
          "size": 0.1
         },
         "meta": [
          0.502687474926136,
          0.2589972227578701,
          0.13630097059403723,
          0.05131580988857785,
          0.032120035374927684,
          0.006651638971821964,
          0.006441073926062855,
          0.005485773560566265
         ],
         "mode": "lines+markers",
         "name": "main",
         "opacity": 0.2,
         "r": [
          1,
          1,
          1,
          1,
          1,
          1,
          1,
          1
         ],
         "showlegend": false,
         "subplot": "polar3",
         "theta": [
          "小客車",
          "機車",
          "進口車",
          "小貨車",
          "未填",
          "電動自行車",
          "其他",
          "大型重機"
         ],
         "type": "scatterpolar"
        },
        {
         "hovertemplate": "%{meta:.2f}",
         "legendgroup": "KA",
         "line": {
          "color": "rgb(229, 134, 6)",
          "width": 1
         },
         "meta": [
          0.5401038082782317,
          0.2912054610992376,
          0.11159617759509304,
          0.0400696308380764,
          0.0013989965503570403,
          0.00032810342549090195,
          0.0065802964779008676,
          0.008717525735612438
         ],
         "mode": "lines+markers",
         "name": "KA",
         "r": [
          1.0744325952374159,
          1.1243574660701214,
          0.8187482239394636,
          0.7808437774845549,
          0.04355526181795776,
          0.049326703821544075,
          1.0216148042137303,
          1.589115124670326
         ],
         "showlegend": false,
         "subplot": "polar3",
         "theta": [
          "小客車",
          "機車",
          "進口車",
          "小貨車",
          "未填",
          "電動自行車",
          "其他",
          "大型重機"
         ],
         "type": "scatterpolar"
        },
        {
         "hovertemplate": "%{meta:.2f}",
         "legendgroup": "KB",
         "line": {
          "color": "rgb(93, 105, 177)",
          "width": 1
         },
         "meta": [
          0.4198603183606906,
          0.3995698467283535,
          0.1051984731922336,
          0.055199064062112245,
          0.001642618262606209,
          0.009004856950402382,
          0.004904219992673213,
          0.004620602450928256
         ],
         "mode": "lines+markers",
         "name": "KB",
         "r": [
          0.8352313103133993,
          1.5427572638564588,
          0.771810154643431,
          1.0756736409688576,
          0.051139989213349585,
          1.3537801718567783,
          0.7613978738590487,
          0.8422882205971509
         ],
         "showlegend": false,
         "subplot": "polar3",
         "theta": [
          "小客車",
          "機車",
          "進口車",
          "小貨車",
          "未填",
          "電動自行車",
          "其他",
          "大型重機"
         ],
         "type": "scatterpolar",
         "visible": "legendonly"
        },
        {
         "hovertemplate": "%{meta:.2f}",
         "legendgroup": "CA",
         "line": {
          "color": "rgb(82, 188, 163)",
          "width": 1
         },
         "meta": [
          0.5871572544034864,
          0.025059015798075176,
          0.2712048302160886,
          0.11415925186126748,
          0.000703649900127111,
          0.00039041220265117126,
          0.0006627928091519884,
          0.0006627928091519884
         ],
         "mode": "lines+markers",
         "name": "CA",
         "r": [
          1.1680363718824749,
          0.0967539942368502,
          1.9897498090740156,
          2.2246409461166405,
          0.021906884345350607,
          0.058694136032496166,
          0.10290097843312977,
          0.12082030033401017
         ],
         "showlegend": false,
         "subplot": "polar3",
         "theta": [
          "小客車",
          "機車",
          "進口車",
          "小貨車",
          "未填",
          "電動自行車",
          "其他",
          "大型重機"
         ],
         "type": "scatterpolar",
         "visible": "legendonly"
        },
        {
         "hovertemplate": "%{meta:.2f}",
         "legendgroup": "JB",
         "line": {
          "color": "rgb(153, 201, 69)",
          "width": 1
         },
         "meta": [
          0.5320204183507512,
          0.3377562358094073,
          0.10372350418404427,
          0.015496261466535698,
          0.002259759638867866,
          0.0003059532052623951,
          0.00031668840544704055,
          0.008121178939684278
         ],
         "mode": "lines+markers",
         "name": "JB",
         "r": [
          1.05835224645079,
          1.3040921142431203,
          0.7609887422810611,
          0.30197830844300755,
          0.07035358499735007,
          0.04599666436475142,
          0.049167019208645885,
          1.480407247951732
         ],
         "showlegend": false,
         "subplot": "polar3",
         "theta": [
          "小客車",
          "機車",
          "進口車",
          "小貨車",
          "未填",
          "電動自行車",
          "其他",
          "大型重機"
         ],
         "type": "scatterpolar"
        },
        {
         "hovertemplate": "%{meta:.2f}",
         "legendgroup": "BA",
         "line": {
          "color": "rgb(204, 97, 176)",
          "width": 1
         },
         "meta": [
          0.4351644452329733,
          0.40316988608221893,
          0.07682981821945252,
          0.03522506339032919,
          0.001604163432466198,
          0.018377651120327042,
          0.024217693109489697,
          0.00541127941274312
         ],
         "mode": "lines+markers",
         "name": "BA",
         "r": [
          0.8656759257765785,
          1.5566571787494885,
          0.5636777044551259,
          0.686436859650339,
          0.049942766679465705,
          2.762875615796265,
          3.759884358957033,
          0.9864204843673031
         ],
         "showlegend": false,
         "subplot": "polar3",
         "theta": [
          "小客車",
          "機車",
          "進口車",
          "小貨車",
          "未填",
          "電動自行車",
          "其他",
          "大型重機"
         ],
         "type": "scatterpolar",
         "visible": "legendonly"
        }
       ],
       "layout": {
        "annotations": [
         {
          "font": {
           "size": 16
          },
          "showarrow": false,
          "text": "歷年曾買過的險別(人數%)",
          "x": 0.5,
          "xanchor": "center",
          "xref": "paper",
          "y": 1,
          "yanchor": "bottom",
          "yref": "paper"
         },
         {
          "font": {
           "size": 16
          },
          "showarrow": false,
          "text": "此年投保車種(保單%)",
          "x": 0.8555555555555556,
          "xanchor": "center",
          "xref": "paper",
          "y": 1,
          "yanchor": "bottom",
          "yref": "paper"
         }
        ],
        "polar": {
         "domain": {
          "x": [
           0,
           0.2888888888888889
          ],
          "y": [
           0,
           1
          ]
         }
        },
        "polar2": {
         "domain": {
          "x": [
           0.35555555555555557,
           0.6444444444444445
          ],
          "y": [
           0,
           1
          ]
         }
        },
        "polar3": {
         "domain": {
          "x": [
           0.7111111111111111,
           1
          ],
          "y": [
           0,
           1
          ]
         }
        },
        "template": {
         "data": {
          "bar": [
           {
            "error_x": {
             "color": "#2a3f5f"
            },
            "error_y": {
             "color": "#2a3f5f"
            },
            "marker": {
             "line": {
              "color": "#E5ECF6",
              "width": 0.5
             },
             "pattern": {
              "fillmode": "overlay",
              "size": 10,
              "solidity": 0.2
             }
            },
            "type": "bar"
           }
          ],
          "barpolar": [
           {
            "marker": {
             "line": {
              "color": "#E5ECF6",
              "width": 0.5
             },
             "pattern": {
              "fillmode": "overlay",
              "size": 10,
              "solidity": 0.2
             }
            },
            "type": "barpolar"
           }
          ],
          "carpet": [
           {
            "aaxis": {
             "endlinecolor": "#2a3f5f",
             "gridcolor": "white",
             "linecolor": "white",
             "minorgridcolor": "white",
             "startlinecolor": "#2a3f5f"
            },
            "baxis": {
             "endlinecolor": "#2a3f5f",
             "gridcolor": "white",
             "linecolor": "white",
             "minorgridcolor": "white",
             "startlinecolor": "#2a3f5f"
            },
            "type": "carpet"
           }
          ],
          "choropleth": [
           {
            "colorbar": {
             "outlinewidth": 0,
             "ticks": ""
            },
            "type": "choropleth"
           }
          ],
          "contour": [
           {
            "colorbar": {
             "outlinewidth": 0,
             "ticks": ""
            },
            "colorscale": [
             [
              0,
              "#0d0887"
             ],
             [
              0.1111111111111111,
              "#46039f"
             ],
             [
              0.2222222222222222,
              "#7201a8"
             ],
             [
              0.3333333333333333,
              "#9c179e"
             ],
             [
              0.4444444444444444,
              "#bd3786"
             ],
             [
              0.5555555555555556,
              "#d8576b"
             ],
             [
              0.6666666666666666,
              "#ed7953"
             ],
             [
              0.7777777777777778,
              "#fb9f3a"
             ],
             [
              0.8888888888888888,
              "#fdca26"
             ],
             [
              1,
              "#f0f921"
             ]
            ],
            "type": "contour"
           }
          ],
          "contourcarpet": [
           {
            "colorbar": {
             "outlinewidth": 0,
             "ticks": ""
            },
            "type": "contourcarpet"
           }
          ],
          "heatmap": [
           {
            "colorbar": {
             "outlinewidth": 0,
             "ticks": ""
            },
            "colorscale": [
             [
              0,
              "#0d0887"
             ],
             [
              0.1111111111111111,
              "#46039f"
             ],
             [
              0.2222222222222222,
              "#7201a8"
             ],
             [
              0.3333333333333333,
              "#9c179e"
             ],
             [
              0.4444444444444444,
              "#bd3786"
             ],
             [
              0.5555555555555556,
              "#d8576b"
             ],
             [
              0.6666666666666666,
              "#ed7953"
             ],
             [
              0.7777777777777778,
              "#fb9f3a"
             ],
             [
              0.8888888888888888,
              "#fdca26"
             ],
             [
              1,
              "#f0f921"
             ]
            ],
            "type": "heatmap"
           }
          ],
          "heatmapgl": [
           {
            "colorbar": {
             "outlinewidth": 0,
             "ticks": ""
            },
            "colorscale": [
             [
              0,
              "#0d0887"
             ],
             [
              0.1111111111111111,
              "#46039f"
             ],
             [
              0.2222222222222222,
              "#7201a8"
             ],
             [
              0.3333333333333333,
              "#9c179e"
             ],
             [
              0.4444444444444444,
              "#bd3786"
             ],
             [
              0.5555555555555556,
              "#d8576b"
             ],
             [
              0.6666666666666666,
              "#ed7953"
             ],
             [
              0.7777777777777778,
              "#fb9f3a"
             ],
             [
              0.8888888888888888,
              "#fdca26"
             ],
             [
              1,
              "#f0f921"
             ]
            ],
            "type": "heatmapgl"
           }
          ],
          "histogram": [
           {
            "marker": {
             "pattern": {
              "fillmode": "overlay",
              "size": 10,
              "solidity": 0.2
             }
            },
            "type": "histogram"
           }
          ],
          "histogram2d": [
           {
            "colorbar": {
             "outlinewidth": 0,
             "ticks": ""
            },
            "colorscale": [
             [
              0,
              "#0d0887"
             ],
             [
              0.1111111111111111,
              "#46039f"
             ],
             [
              0.2222222222222222,
              "#7201a8"
             ],
             [
              0.3333333333333333,
              "#9c179e"
             ],
             [
              0.4444444444444444,
              "#bd3786"
             ],
             [
              0.5555555555555556,
              "#d8576b"
             ],
             [
              0.6666666666666666,
              "#ed7953"
             ],
             [
              0.7777777777777778,
              "#fb9f3a"
             ],
             [
              0.8888888888888888,
              "#fdca26"
             ],
             [
              1,
              "#f0f921"
             ]
            ],
            "type": "histogram2d"
           }
          ],
          "histogram2dcontour": [
           {
            "colorbar": {
             "outlinewidth": 0,
             "ticks": ""
            },
            "colorscale": [
             [
              0,
              "#0d0887"
             ],
             [
              0.1111111111111111,
              "#46039f"
             ],
             [
              0.2222222222222222,
              "#7201a8"
             ],
             [
              0.3333333333333333,
              "#9c179e"
             ],
             [
              0.4444444444444444,
              "#bd3786"
             ],
             [
              0.5555555555555556,
              "#d8576b"
             ],
             [
              0.6666666666666666,
              "#ed7953"
             ],
             [
              0.7777777777777778,
              "#fb9f3a"
             ],
             [
              0.8888888888888888,
              "#fdca26"
             ],
             [
              1,
              "#f0f921"
             ]
            ],
            "type": "histogram2dcontour"
           }
          ],
          "mesh3d": [
           {
            "colorbar": {
             "outlinewidth": 0,
             "ticks": ""
            },
            "type": "mesh3d"
           }
          ],
          "parcoords": [
           {
            "line": {
             "colorbar": {
              "outlinewidth": 0,
              "ticks": ""
             }
            },
            "type": "parcoords"
           }
          ],
          "pie": [
           {
            "automargin": true,
            "type": "pie"
           }
          ],
          "scatter": [
           {
            "marker": {
             "colorbar": {
              "outlinewidth": 0,
              "ticks": ""
             }
            },
            "type": "scatter"
           }
          ],
          "scatter3d": [
           {
            "line": {
             "colorbar": {
              "outlinewidth": 0,
              "ticks": ""
             }
            },
            "marker": {
             "colorbar": {
              "outlinewidth": 0,
              "ticks": ""
             }
            },
            "type": "scatter3d"
           }
          ],
          "scattercarpet": [
           {
            "marker": {
             "colorbar": {
              "outlinewidth": 0,
              "ticks": ""
             }
            },
            "type": "scattercarpet"
           }
          ],
          "scattergeo": [
           {
            "marker": {
             "colorbar": {
              "outlinewidth": 0,
              "ticks": ""
             }
            },
            "type": "scattergeo"
           }
          ],
          "scattergl": [
           {
            "marker": {
             "colorbar": {
              "outlinewidth": 0,
              "ticks": ""
             }
            },
            "type": "scattergl"
           }
          ],
          "scattermapbox": [
           {
            "marker": {
             "colorbar": {
              "outlinewidth": 0,
              "ticks": ""
             }
            },
            "type": "scattermapbox"
           }
          ],
          "scatterpolar": [
           {
            "marker": {
             "colorbar": {
              "outlinewidth": 0,
              "ticks": ""
             }
            },
            "type": "scatterpolar"
           }
          ],
          "scatterpolargl": [
           {
            "marker": {
             "colorbar": {
              "outlinewidth": 0,
              "ticks": ""
             }
            },
            "type": "scatterpolargl"
           }
          ],
          "scatterternary": [
           {
            "marker": {
             "colorbar": {
              "outlinewidth": 0,
              "ticks": ""
             }
            },
            "type": "scatterternary"
           }
          ],
          "surface": [
           {
            "colorbar": {
             "outlinewidth": 0,
             "ticks": ""
            },
            "colorscale": [
             [
              0,
              "#0d0887"
             ],
             [
              0.1111111111111111,
              "#46039f"
             ],
             [
              0.2222222222222222,
              "#7201a8"
             ],
             [
              0.3333333333333333,
              "#9c179e"
             ],
             [
              0.4444444444444444,
              "#bd3786"
             ],
             [
              0.5555555555555556,
              "#d8576b"
             ],
             [
              0.6666666666666666,
              "#ed7953"
             ],
             [
              0.7777777777777778,
              "#fb9f3a"
             ],
             [
              0.8888888888888888,
              "#fdca26"
             ],
             [
              1,
              "#f0f921"
             ]
            ],
            "type": "surface"
           }
          ],
          "table": [
           {
            "cells": {
             "fill": {
              "color": "#EBF0F8"
             },
             "line": {
              "color": "white"
             }
            },
            "header": {
             "fill": {
              "color": "#C8D4E3"
             },
             "line": {
              "color": "white"
             }
            },
            "type": "table"
           }
          ]
         },
         "layout": {
          "annotationdefaults": {
           "arrowcolor": "#2a3f5f",
           "arrowhead": 0,
           "arrowwidth": 1
          },
          "autotypenumbers": "strict",
          "coloraxis": {
           "colorbar": {
            "outlinewidth": 0,
            "ticks": ""
           }
          },
          "colorscale": {
           "diverging": [
            [
             0,
             "#8e0152"
            ],
            [
             0.1,
             "#c51b7d"
            ],
            [
             0.2,
             "#de77ae"
            ],
            [
             0.3,
             "#f1b6da"
            ],
            [
             0.4,
             "#fde0ef"
            ],
            [
             0.5,
             "#f7f7f7"
            ],
            [
             0.6,
             "#e6f5d0"
            ],
            [
             0.7,
             "#b8e186"
            ],
            [
             0.8,
             "#7fbc41"
            ],
            [
             0.9,
             "#4d9221"
            ],
            [
             1,
             "#276419"
            ]
           ],
           "sequential": [
            [
             0,
             "#0d0887"
            ],
            [
             0.1111111111111111,
             "#46039f"
            ],
            [
             0.2222222222222222,
             "#7201a8"
            ],
            [
             0.3333333333333333,
             "#9c179e"
            ],
            [
             0.4444444444444444,
             "#bd3786"
            ],
            [
             0.5555555555555556,
             "#d8576b"
            ],
            [
             0.6666666666666666,
             "#ed7953"
            ],
            [
             0.7777777777777778,
             "#fb9f3a"
            ],
            [
             0.8888888888888888,
             "#fdca26"
            ],
            [
             1,
             "#f0f921"
            ]
           ],
           "sequentialminus": [
            [
             0,
             "#0d0887"
            ],
            [
             0.1111111111111111,
             "#46039f"
            ],
            [
             0.2222222222222222,
             "#7201a8"
            ],
            [
             0.3333333333333333,
             "#9c179e"
            ],
            [
             0.4444444444444444,
             "#bd3786"
            ],
            [
             0.5555555555555556,
             "#d8576b"
            ],
            [
             0.6666666666666666,
             "#ed7953"
            ],
            [
             0.7777777777777778,
             "#fb9f3a"
            ],
            [
             0.8888888888888888,
             "#fdca26"
            ],
            [
             1,
             "#f0f921"
            ]
           ]
          },
          "colorway": [
           "#636efa",
           "#EF553B",
           "#00cc96",
           "#ab63fa",
           "#FFA15A",
           "#19d3f3",
           "#FF6692",
           "#B6E880",
           "#FF97FF",
           "#FECB52"
          ],
          "font": {
           "color": "#2a3f5f"
          },
          "geo": {
           "bgcolor": "white",
           "lakecolor": "white",
           "landcolor": "#E5ECF6",
           "showlakes": true,
           "showland": true,
           "subunitcolor": "white"
          },
          "hoverlabel": {
           "align": "left"
          },
          "hovermode": "closest",
          "mapbox": {
           "style": "light"
          },
          "paper_bgcolor": "white",
          "plot_bgcolor": "#E5ECF6",
          "polar": {
           "angularaxis": {
            "gridcolor": "white",
            "linecolor": "white",
            "ticks": ""
           },
           "bgcolor": "#E5ECF6",
           "radialaxis": {
            "gridcolor": "white",
            "linecolor": "white",
            "ticks": ""
           }
          },
          "scene": {
           "xaxis": {
            "backgroundcolor": "#E5ECF6",
            "gridcolor": "white",
            "gridwidth": 2,
            "linecolor": "white",
            "showbackground": true,
            "ticks": "",
            "zerolinecolor": "white"
           },
           "yaxis": {
            "backgroundcolor": "#E5ECF6",
            "gridcolor": "white",
            "gridwidth": 2,
            "linecolor": "white",
            "showbackground": true,
            "ticks": "",
            "zerolinecolor": "white"
           },
           "zaxis": {
            "backgroundcolor": "#E5ECF6",
            "gridcolor": "white",
            "gridwidth": 2,
            "linecolor": "white",
            "showbackground": true,
            "ticks": "",
            "zerolinecolor": "white"
           }
          },
          "shapedefaults": {
           "line": {
            "color": "#2a3f5f"
           }
          },
          "ternary": {
           "aaxis": {
            "gridcolor": "white",
            "linecolor": "white",
            "ticks": ""
           },
           "baxis": {
            "gridcolor": "white",
            "linecolor": "white",
            "ticks": ""
           },
           "bgcolor": "#E5ECF6",
           "caxis": {
            "gridcolor": "white",
            "linecolor": "white",
            "ticks": ""
           }
          },
          "title": {
           "x": 0.05
          },
          "xaxis": {
           "automargin": true,
           "gridcolor": "white",
           "linecolor": "white",
           "ticks": "",
           "title": {
            "standoff": 15
           },
           "zerolinecolor": "white",
           "zerolinewidth": 2
          },
          "yaxis": {
           "automargin": true,
           "gridcolor": "white",
           "linecolor": "white",
           "ticks": "",
           "title": {
            "standoff": 15
           },
           "zerolinecolor": "white",
           "zerolinewidth": 2
          }
         }
        },
        "title": {
         "text": "<b>2020年 使用各通路族群描述: </b>"
        }
       }
      }
     },
     "metadata": {},
     "output_type": "display_data"
    }
   ],
   "source": [
    "radar_dict[\"agg\"]"
   ]
  },
  {
   "cell_type": "markdown",
   "metadata": {},
   "source": [
    "radar_dict 整理成一個html"
   ]
  },
  {
   "cell_type": "code",
   "execution_count": null,
   "metadata": {},
   "outputs": [],
   "source": []
  },
  {
   "cell_type": "code",
   "execution_count": 42,
   "metadata": {},
   "outputs": [
    {
     "data": {
      "text/html": [
       "<div>\n",
       "<style scoped>\n",
       "    .dataframe tbody tr th:only-of-type {\n",
       "        vertical-align: middle;\n",
       "    }\n",
       "\n",
       "    .dataframe tbody tr th {\n",
       "        vertical-align: top;\n",
       "    }\n",
       "\n",
       "    .dataframe thead th {\n",
       "        text-align: right;\n",
       "    }\n",
       "</style>\n",
       "<table border=\"1\" class=\"dataframe\">\n",
       "  <thead>\n",
       "    <tr style=\"text-align: right;\">\n",
       "      <th></th>\n",
       "      <th>year</th>\n",
       "      <th>variable</th>\n",
       "      <th>value</th>\n",
       "      <th>variable_type</th>\n",
       "      <th>year_type</th>\n",
       "      <th>cate</th>\n",
       "    </tr>\n",
       "  </thead>\n",
       "  <tbody>\n",
       "    <tr>\n",
       "      <th>0</th>\n",
       "      <td>2020.0</td>\n",
       "      <td>CA_PS</td>\n",
       "      <td>0.974754</td>\n",
       "      <td>iins_type_bought</td>\n",
       "      <td>this_year</td>\n",
       "      <td>NaN</td>\n",
       "    </tr>\n",
       "    <tr>\n",
       "      <th>1</th>\n",
       "      <td>2020.0</td>\n",
       "      <td>F_PS</td>\n",
       "      <td>0.03167</td>\n",
       "      <td>iins_type_bought</td>\n",
       "      <td>this_year</td>\n",
       "      <td>NaN</td>\n",
       "    </tr>\n",
       "    <tr>\n",
       "      <th>2</th>\n",
       "      <td>2020.0</td>\n",
       "      <td>H_GP</td>\n",
       "      <td>0.018515</td>\n",
       "      <td>iins_type_bought</td>\n",
       "      <td>this_year</td>\n",
       "      <td>NaN</td>\n",
       "    </tr>\n",
       "    <tr>\n",
       "      <th>3</th>\n",
       "      <td>2020.0</td>\n",
       "      <td>H_PS</td>\n",
       "      <td>0.032658</td>\n",
       "      <td>iins_type_bought</td>\n",
       "      <td>this_year</td>\n",
       "      <td>NaN</td>\n",
       "    </tr>\n",
       "    <tr>\n",
       "      <th>4</th>\n",
       "      <td>2020.0</td>\n",
       "      <td>H_TV</td>\n",
       "      <td>0.017497</td>\n",
       "      <td>iins_type_bought</td>\n",
       "      <td>this_year</td>\n",
       "      <td>NaN</td>\n",
       "    </tr>\n",
       "    <tr>\n",
       "      <th>0</th>\n",
       "      <td>2020.0</td>\n",
       "      <td>CA_PS</td>\n",
       "      <td>0.974754</td>\n",
       "      <td>iins_type_bought</td>\n",
       "      <td>~this_year</td>\n",
       "      <td>NaN</td>\n",
       "    </tr>\n",
       "    <tr>\n",
       "      <th>1</th>\n",
       "      <td>2020.0</td>\n",
       "      <td>F_PS</td>\n",
       "      <td>0.03167</td>\n",
       "      <td>iins_type_bought</td>\n",
       "      <td>~this_year</td>\n",
       "      <td>NaN</td>\n",
       "    </tr>\n",
       "    <tr>\n",
       "      <th>2</th>\n",
       "      <td>2020.0</td>\n",
       "      <td>H_GP</td>\n",
       "      <td>0.018515</td>\n",
       "      <td>iins_type_bought</td>\n",
       "      <td>~this_year</td>\n",
       "      <td>NaN</td>\n",
       "    </tr>\n",
       "    <tr>\n",
       "      <th>3</th>\n",
       "      <td>2020.0</td>\n",
       "      <td>H_PS</td>\n",
       "      <td>0.032658</td>\n",
       "      <td>iins_type_bought</td>\n",
       "      <td>~this_year</td>\n",
       "      <td>NaN</td>\n",
       "    </tr>\n",
       "    <tr>\n",
       "      <th>4</th>\n",
       "      <td>2020.0</td>\n",
       "      <td>H_TV</td>\n",
       "      <td>0.017497</td>\n",
       "      <td>iins_type_bought</td>\n",
       "      <td>~this_year</td>\n",
       "      <td>NaN</td>\n",
       "    </tr>\n",
       "  </tbody>\n",
       "</table>\n",
       "</div>"
      ],
      "text/plain": [
       "     year variable     value     variable_type   year_type cate\n",
       "0  2020.0    CA_PS  0.974754  iins_type_bought   this_year  NaN\n",
       "1  2020.0     F_PS   0.03167  iins_type_bought   this_year  NaN\n",
       "2  2020.0     H_GP  0.018515  iins_type_bought   this_year  NaN\n",
       "3  2020.0     H_PS  0.032658  iins_type_bought   this_year  NaN\n",
       "4  2020.0     H_TV  0.017497  iins_type_bought   this_year  NaN\n",
       "0  2020.0    CA_PS  0.974754  iins_type_bought  ~this_year  NaN\n",
       "1  2020.0     F_PS   0.03167  iins_type_bought  ~this_year  NaN\n",
       "2  2020.0     H_GP  0.018515  iins_type_bought  ~this_year  NaN\n",
       "3  2020.0     H_PS  0.032658  iins_type_bought  ~this_year  NaN\n",
       "4  2020.0     H_TV  0.017497  iins_type_bought  ~this_year  NaN"
      ]
     },
     "execution_count": 42,
     "metadata": {},
     "output_type": "execute_result"
    }
   ],
   "source": [
    "# %% 異常探勘?\n",
    "# KAKA H_GS\n",
    "# KAJB H_PS\n",
    "\n",
    "# (dictOR_src_dst[(\"KA\", \"JB\")][\"clmAmt\"]>0).sum()\n",
    "# dictOR_src_dst[(\"KA\", \"JB\")].groupby(\"cate\").agg(\n",
    "#     dict(id = \"nunique\",\n",
    "#     clmAmt = \"sum\")\n",
    "# )\n",
    "dictFT_s_r[(\"KA\", \"KA\")].query(\"variable_type=='iins_type_bought'\")\n",
    "# dictOR_src_dst[(\"KA\", \"KA\")].query(\"cate=='CA_PS'\")\n",
    "\n",
    "    "
   ]
  },
  {
   "cell_type": "markdown",
   "metadata": {},
   "source": [
    "開發中:\n",
    "還少一個客齡 (~統計年)"
   ]
  },
  {
   "cell_type": "code",
   "execution_count": 11,
   "metadata": {},
   "outputs": [],
   "source": [
    "import tqdm, datetime\n"
   ]
  },
  {
   "cell_type": "code",
   "execution_count": 19,
   "metadata": {},
   "outputs": [],
   "source": [
    "\n",
    "used_data = e.raw_data.query(\"\"\"\n",
    "    sex.str.len() <= 1 & \\\n",
    "    plyAmt >= 0 & \\\n",
    "    date >= '2017-01-01' & \\\n",
    "    date <= '2022-03-31' & \\\n",
    "    cate != 'H_CV'\n",
    "    \"\"\").copy()\n",
    "\n",
    "used_data.loc[used_data[\"cate\"].str.startswith(\"C\"), \"cate\"] = \"Car\"\n",
    "\n",
    "data_holder = []\n",
    "for i in tqdm.tqdm(used_data[\"cate\"].unique()):\n",
    "    print(f\"cate={i}\")\n",
    "    for y in range(2017, 2022):\n",
    "        print(f\"year={y}\")\n",
    "        s = datetime.datetime.today()\n",
    "        thisYear = used_data.query(\"\"\"\n",
    "                    year==@y & \\\n",
    "                    cate==@i\n",
    "                    \"\"\")[\"id\"].astype(str)\n",
    "        prevYear = used_data.query(\"\"\"\n",
    "                        year==@y-1 & \\\n",
    "                        cate==@i\n",
    "                        \"\"\")[\"id\"].astype(str)\n",
    "        long_time_ago = used_data.query(\"\"\"\n",
    "                    year<@y-1 & \\\n",
    "                    cate==@i\n",
    "                    \"\"\")[\"id\"].astype(str)\n",
    "        new = thisYear[~thisYear.isin(prevYear) & ~thisYear.isin(long_time_ago)].nunique()\n",
    "        trans = thisYear[thisYear.isin(prevYear)].nunique() #  & ~thisYear.isin(long_time_ago)\n",
    "        prev_old = thisYear[~thisYear.isin(prevYear) & thisYear.isin(long_time_ago)].nunique()\n",
    "        sink = prevYear[~prevYear.isin(thisYear)].nunique()\n",
    "\n",
    "        data_holder.append(\n",
    "            pd.Series([i, y, new, trans, prev_old, sink], index=[\"cate\", \"year\", \"新\", \"續\", \"回\", \"流失\"])\n",
    "            )\n",
    "\n",
    "data_holder = pd.DataFrame(data_holder)\n"
   ]
  },
  {
   "cell_type": "code",
   "execution_count": 44,
   "metadata": {},
   "outputs": [],
   "source": [
    "tem  =e.used_data.query(\"cate.isin(['Cf_PS', 'CA_PS'])\")"
   ]
  },
  {
   "cell_type": "code",
   "execution_count": 58,
   "metadata": {},
   "outputs": [],
   "source": [
    "t_2020 = e.raw_data.query(\"cate.isin(['CA_PS']) & year==2020\")\n",
    "t_2019 = e.raw_data.query(\"cate.isin(['CA_PS']) & year==2019\")"
   ]
  },
  {
   "cell_type": "code",
   "execution_count": 59,
   "metadata": {},
   "outputs": [
    {
     "data": {
      "text/plain": [
       "751395"
      ]
     },
     "execution_count": 59,
     "metadata": {},
     "output_type": "execute_result"
    }
   ],
   "source": [
    "t_2020[\"id\"].nunique()"
   ]
  },
  {
   "cell_type": "code",
   "execution_count": 60,
   "metadata": {},
   "outputs": [
    {
     "data": {
      "text/plain": [
       "528850"
      ]
     },
     "execution_count": 60,
     "metadata": {},
     "output_type": "execute_result"
    }
   ],
   "source": [
    "t_2020[t_2020[\"id\"].isin(t_2019[\"id\"])][\"id\"].nunique()"
   ]
  },
  {
   "cell_type": "code",
   "execution_count": 46,
   "metadata": {},
   "outputs": [
    {
     "data": {
      "text/plain": [
       "528850"
      ]
     },
     "execution_count": 46,
     "metadata": {},
     "output_type": "execute_result"
    }
   ],
   "source": [
    "len(set(t_2020['id'].unique()).intersection(t_2019['id'].unique()))"
   ]
  },
  {
   "cell_type": "code",
   "execution_count": 71,
   "metadata": {},
   "outputs": [],
   "source": [
    "y, i = 2020, \"CA_PS\"\n",
    "\n",
    "thisYear = e.used_data.query(\"\"\"\n",
    "            year==@y & \\\n",
    "            cate==@i\n",
    "            \"\"\")[\"id\"].astype(str)\n",
    "prevYear = e.used_data.query(\"\"\"\n",
    "                year==@y-1 & \\\n",
    "                cate==@i\n",
    "                \"\"\")[\"id\"].astype(str)\n",
    "long_time_ago = e.used_data.query(\"\"\"\n",
    "            year<@y-1 & \\\n",
    "            cate==@i\n",
    "            \"\"\")[\"id\"].astype(str)\n",
    "new = thisYear[~thisYear.isin(prevYear) & ~thisYear.isin(long_time_ago)].nunique()\n",
    "trans = thisYear[thisYear.isin(prevYear)]"
   ]
  },
  {
   "cell_type": "code",
   "execution_count": 73,
   "metadata": {},
   "outputs": [
    {
     "data": {
      "text/plain": [
       "528850"
      ]
     },
     "execution_count": 73,
     "metadata": {},
     "output_type": "execute_result"
    }
   ],
   "source": [
    "trans.nunique()"
   ]
  },
  {
   "cell_type": "markdown",
   "metadata": {},
   "source": [
    "***\n",
    "圖表說明:\n",
    "1. legend表示 **族群**:\n",
    "    - **main**: 2020年所有買過車險的客戶\n",
    "    - **KA**: 2020年所有使用KA買過車險的客戶\n",
    "    - 以此類推\n",
    "2. 雷達圖:\n",
    "    - **散布位置**: 族群的第i個特徵(例: 未婚占比) / **main**的相同特徵。 例: **未婚占比_JB / 未婚占比_main** = 0.29/0.47 = **0.61**\n",
    "    <br>(i.e. 把特徵分數標準化，讓所有特徵有相同的尺度)\n",
    "    - <span style=\"color:#F6A198\">**紅色範圍**</span>: 半徑為1的範圍，代表**main**，即比較的基礎。\n",
    "***\n",
    "\n",
    "### by通路(不分來源):\n",
    "\n",
    "例: 2020年使用 {KA} 買過車險的客戶。\n",
    "\n",
    "1. JB相較其他族群:\n",
    "    - 有較低的**未婚占比**: 29% v.s. 47%(main)\n",
    "    - **保費/人**最低: 6,589 v.s. 7,753(main), 10,814(CA)\n",
    "    - 有較低的**賠付金/人**: 48,927 v.s. 54,696(main)\n",
    "    - 但有偏高的**\n",
    "    - 投保**車種**以小客車(53%)、機車(34%)為主\n",
    "\n",
    "2. 明顯特徵:\n",
    "    - **未婚占比**: KB(64%)、BA(61%)明顯較高；CA(34%)、JB(29%)則明顯偏低。 (v.s. main, 47%)\n",
    "    - **Avg車齡**: 大致落在8~9年，以KA(9.78年)最高、CA(5.93年)年最低。\n",
    "    - **Avg車數**: 大致落在1.3台左右，以KA(1.43台)最高、CA(1.18台)最低\n",
    "    - **Avg通路使用**: 大多位於3次以下，為CA(3.58次)、KA(3.47次)超過3次。值得注意的是，JB(2.9次)是黏著度第三名。\n",
    "    - "
   ]
  },
  {
   "cell_type": "code",
   "execution_count": 21,
   "metadata": {},
   "outputs": [
    {
     "data": {
      "text/html": [
       "<div>\n",
       "<style scoped>\n",
       "    .dataframe tbody tr th:only-of-type {\n",
       "        vertical-align: middle;\n",
       "    }\n",
       "\n",
       "    .dataframe tbody tr th {\n",
       "        vertical-align: top;\n",
       "    }\n",
       "\n",
       "    .dataframe thead th {\n",
       "        text-align: right;\n",
       "    }\n",
       "</style>\n",
       "<table border=\"1\" class=\"dataframe\">\n",
       "  <thead>\n",
       "    <tr style=\"text-align: right;\">\n",
       "      <th></th>\n",
       "      <th>cate</th>\n",
       "      <th>year</th>\n",
       "      <th>新</th>\n",
       "      <th>續</th>\n",
       "      <th>回</th>\n",
       "      <th>流失</th>\n",
       "    </tr>\n",
       "  </thead>\n",
       "  <tbody>\n",
       "    <tr>\n",
       "      <th>0</th>\n",
       "      <td>Car</td>\n",
       "      <td>2017</td>\n",
       "      <td>789053</td>\n",
       "      <td>0</td>\n",
       "      <td>0</td>\n",
       "      <td>0</td>\n",
       "    </tr>\n",
       "    <tr>\n",
       "      <th>1</th>\n",
       "      <td>Car</td>\n",
       "      <td>2018</td>\n",
       "      <td>224514</td>\n",
       "      <td>553300</td>\n",
       "      <td>0</td>\n",
       "      <td>235753</td>\n",
       "    </tr>\n",
       "    <tr>\n",
       "      <th>2</th>\n",
       "      <td>Car</td>\n",
       "      <td>2019</td>\n",
       "      <td>205438</td>\n",
       "      <td>103949</td>\n",
       "      <td>50826</td>\n",
       "      <td>216601</td>\n",
       "    </tr>\n",
       "    <tr>\n",
       "      <th>3</th>\n",
       "      <td>Car</td>\n",
       "      <td>2020</td>\n",
       "      <td>222176</td>\n",
       "      <td>108941</td>\n",
       "      <td>57659</td>\n",
       "      <td>218568</td>\n",
       "    </tr>\n",
       "    <tr>\n",
       "      <th>4</th>\n",
       "      <td>Car</td>\n",
       "      <td>2021</td>\n",
       "      <td>198136</td>\n",
       "      <td>117135</td>\n",
       "      <td>67135</td>\n",
       "      <td>230420</td>\n",
       "    </tr>\n",
       "    <tr>\n",
       "      <th>5</th>\n",
       "      <td>F_PS</td>\n",
       "      <td>2017</td>\n",
       "      <td>42224</td>\n",
       "      <td>0</td>\n",
       "      <td>0</td>\n",
       "      <td>0</td>\n",
       "    </tr>\n",
       "    <tr>\n",
       "      <th>6</th>\n",
       "      <td>F_PS</td>\n",
       "      <td>2018</td>\n",
       "      <td>13504</td>\n",
       "      <td>34157</td>\n",
       "      <td>0</td>\n",
       "      <td>8067</td>\n",
       "    </tr>\n",
       "    <tr>\n",
       "      <th>7</th>\n",
       "      <td>F_PS</td>\n",
       "      <td>2019</td>\n",
       "      <td>39243</td>\n",
       "      <td>9753</td>\n",
       "      <td>2059</td>\n",
       "      <td>7797</td>\n",
       "    </tr>\n",
       "    <tr>\n",
       "      <th>8</th>\n",
       "      <td>F_PS</td>\n",
       "      <td>2020</td>\n",
       "      <td>34803</td>\n",
       "      <td>34560</td>\n",
       "      <td>3572</td>\n",
       "      <td>9128</td>\n",
       "    </tr>\n",
       "    <tr>\n",
       "      <th>9</th>\n",
       "      <td>F_PS</td>\n",
       "      <td>2021</td>\n",
       "      <td>20340</td>\n",
       "      <td>30767</td>\n",
       "      <td>1583</td>\n",
       "      <td>12401</td>\n",
       "    </tr>\n",
       "    <tr>\n",
       "      <th>10</th>\n",
       "      <td>H_PS</td>\n",
       "      <td>2017</td>\n",
       "      <td>140497</td>\n",
       "      <td>0</td>\n",
       "      <td>0</td>\n",
       "      <td>0</td>\n",
       "    </tr>\n",
       "    <tr>\n",
       "      <th>11</th>\n",
       "      <td>H_PS</td>\n",
       "      <td>2018</td>\n",
       "      <td>27206</td>\n",
       "      <td>121857</td>\n",
       "      <td>0</td>\n",
       "      <td>18640</td>\n",
       "    </tr>\n",
       "    <tr>\n",
       "      <th>12</th>\n",
       "      <td>H_PS</td>\n",
       "      <td>2019</td>\n",
       "      <td>28709</td>\n",
       "      <td>21140</td>\n",
       "      <td>2009</td>\n",
       "      <td>18634</td>\n",
       "    </tr>\n",
       "    <tr>\n",
       "      <th>13</th>\n",
       "      <td>H_PS</td>\n",
       "      <td>2020</td>\n",
       "      <td>29757</td>\n",
       "      <td>21800</td>\n",
       "      <td>1739</td>\n",
       "      <td>22061</td>\n",
       "    </tr>\n",
       "    <tr>\n",
       "      <th>14</th>\n",
       "      <td>H_PS</td>\n",
       "      <td>2021</td>\n",
       "      <td>32165</td>\n",
       "      <td>21134</td>\n",
       "      <td>2990</td>\n",
       "      <td>23813</td>\n",
       "    </tr>\n",
       "    <tr>\n",
       "      <th>15</th>\n",
       "      <td>H_TV</td>\n",
       "      <td>2017</td>\n",
       "      <td>65907</td>\n",
       "      <td>0</td>\n",
       "      <td>0</td>\n",
       "      <td>0</td>\n",
       "    </tr>\n",
       "    <tr>\n",
       "      <th>16</th>\n",
       "      <td>H_TV</td>\n",
       "      <td>2018</td>\n",
       "      <td>89763</td>\n",
       "      <td>16475</td>\n",
       "      <td>0</td>\n",
       "      <td>49432</td>\n",
       "    </tr>\n",
       "    <tr>\n",
       "      <th>17</th>\n",
       "      <td>H_TV</td>\n",
       "      <td>2019</td>\n",
       "      <td>157662</td>\n",
       "      <td>18426</td>\n",
       "      <td>3858</td>\n",
       "      <td>79493</td>\n",
       "    </tr>\n",
       "    <tr>\n",
       "      <th>18</th>\n",
       "      <td>H_TV</td>\n",
       "      <td>2020</td>\n",
       "      <td>76552</td>\n",
       "      <td>10812</td>\n",
       "      <td>4377</td>\n",
       "      <td>170028</td>\n",
       "    </tr>\n",
       "    <tr>\n",
       "      <th>19</th>\n",
       "      <td>H_TV</td>\n",
       "      <td>2021</td>\n",
       "      <td>42836</td>\n",
       "      <td>4877</td>\n",
       "      <td>5313</td>\n",
       "      <td>90308</td>\n",
       "    </tr>\n",
       "    <tr>\n",
       "      <th>20</th>\n",
       "      <td>H_GP</td>\n",
       "      <td>2017</td>\n",
       "      <td>196861</td>\n",
       "      <td>0</td>\n",
       "      <td>0</td>\n",
       "      <td>0</td>\n",
       "    </tr>\n",
       "    <tr>\n",
       "      <th>21</th>\n",
       "      <td>H_GP</td>\n",
       "      <td>2018</td>\n",
       "      <td>47906</td>\n",
       "      <td>118803</td>\n",
       "      <td>0</td>\n",
       "      <td>78058</td>\n",
       "    </tr>\n",
       "    <tr>\n",
       "      <th>22</th>\n",
       "      <td>H_GP</td>\n",
       "      <td>2019</td>\n",
       "      <td>40957</td>\n",
       "      <td>15405</td>\n",
       "      <td>1383</td>\n",
       "      <td>106259</td>\n",
       "    </tr>\n",
       "    <tr>\n",
       "      <th>23</th>\n",
       "      <td>H_GP</td>\n",
       "      <td>2020</td>\n",
       "      <td>44043</td>\n",
       "      <td>14146</td>\n",
       "      <td>1745</td>\n",
       "      <td>44169</td>\n",
       "    </tr>\n",
       "    <tr>\n",
       "      <th>24</th>\n",
       "      <td>H_GP</td>\n",
       "      <td>2021</td>\n",
       "      <td>35648</td>\n",
       "      <td>13907</td>\n",
       "      <td>1703</td>\n",
       "      <td>47192</td>\n",
       "    </tr>\n",
       "  </tbody>\n",
       "</table>\n",
       "</div>"
      ],
      "text/plain": [
       "    cate  year       新       續      回      流失\n",
       "0    Car  2017  789053       0      0       0\n",
       "1    Car  2018  224514  553300      0  235753\n",
       "2    Car  2019  205438  103949  50826  216601\n",
       "3    Car  2020  222176  108941  57659  218568\n",
       "4    Car  2021  198136  117135  67135  230420\n",
       "5   F_PS  2017   42224       0      0       0\n",
       "6   F_PS  2018   13504   34157      0    8067\n",
       "7   F_PS  2019   39243    9753   2059    7797\n",
       "8   F_PS  2020   34803   34560   3572    9128\n",
       "9   F_PS  2021   20340   30767   1583   12401\n",
       "10  H_PS  2017  140497       0      0       0\n",
       "11  H_PS  2018   27206  121857      0   18640\n",
       "12  H_PS  2019   28709   21140   2009   18634\n",
       "13  H_PS  2020   29757   21800   1739   22061\n",
       "14  H_PS  2021   32165   21134   2990   23813\n",
       "15  H_TV  2017   65907       0      0       0\n",
       "16  H_TV  2018   89763   16475      0   49432\n",
       "17  H_TV  2019  157662   18426   3858   79493\n",
       "18  H_TV  2020   76552   10812   4377  170028\n",
       "19  H_TV  2021   42836    4877   5313   90308\n",
       "20  H_GP  2017  196861       0      0       0\n",
       "21  H_GP  2018   47906  118803      0   78058\n",
       "22  H_GP  2019   40957   15405   1383  106259\n",
       "23  H_GP  2020   44043   14146   1745   44169\n",
       "24  H_GP  2021   35648   13907   1703   47192"
      ]
     },
     "execution_count": 21,
     "metadata": {},
     "output_type": "execute_result"
    }
   ],
   "source": [
    "data_holder"
   ]
  },
  {
   "cell_type": "code",
   "execution_count": 22,
   "metadata": {},
   "outputs": [],
   "source": [
    "t = used_data.groupby(\"cate\")[\"id\"].nunique()\n",
    "t = pd.concat([\n",
    "    data_holder,\n",
    "    pd.DataFrame(t).assign(year=\"不分年\").reset_index().rename(columns={\"id\":\"總人數\"})\n",
    "    ])\n",
    "t.sort_values([\"cate\", \"year\"], inplace=True)\n",
    "# t.to_csv(\"./data/人數_byYear_Cate.csv\", index=False)\n"
   ]
  },
  {
   "cell_type": "code",
   "execution_count": 23,
   "metadata": {},
   "outputs": [
    {
     "data": {
      "text/html": [
       "<div>\n",
       "<style scoped>\n",
       "    .dataframe tbody tr th:only-of-type {\n",
       "        vertical-align: middle;\n",
       "    }\n",
       "\n",
       "    .dataframe tbody tr th {\n",
       "        vertical-align: top;\n",
       "    }\n",
       "\n",
       "    .dataframe thead th {\n",
       "        text-align: right;\n",
       "    }\n",
       "</style>\n",
       "<table border=\"1\" class=\"dataframe\">\n",
       "  <thead>\n",
       "    <tr style=\"text-align: right;\">\n",
       "      <th></th>\n",
       "      <th>cate</th>\n",
       "      <th>year</th>\n",
       "      <th>新</th>\n",
       "      <th>續</th>\n",
       "      <th>回</th>\n",
       "      <th>流失</th>\n",
       "      <th>總人數</th>\n",
       "    </tr>\n",
       "  </thead>\n",
       "  <tbody>\n",
       "    <tr>\n",
       "      <th>0</th>\n",
       "      <td>Car</td>\n",
       "      <td>2017</td>\n",
       "      <td>789053.0</td>\n",
       "      <td>0.0</td>\n",
       "      <td>0.0</td>\n",
       "      <td>0.0</td>\n",
       "      <td>NaN</td>\n",
       "    </tr>\n",
       "    <tr>\n",
       "      <th>1</th>\n",
       "      <td>Car</td>\n",
       "      <td>2018</td>\n",
       "      <td>224514.0</td>\n",
       "      <td>553300.0</td>\n",
       "      <td>0.0</td>\n",
       "      <td>235753.0</td>\n",
       "      <td>NaN</td>\n",
       "    </tr>\n",
       "    <tr>\n",
       "      <th>2</th>\n",
       "      <td>Car</td>\n",
       "      <td>2019</td>\n",
       "      <td>205438.0</td>\n",
       "      <td>103949.0</td>\n",
       "      <td>50826.0</td>\n",
       "      <td>216601.0</td>\n",
       "      <td>NaN</td>\n",
       "    </tr>\n",
       "    <tr>\n",
       "      <th>3</th>\n",
       "      <td>Car</td>\n",
       "      <td>2020</td>\n",
       "      <td>222176.0</td>\n",
       "      <td>108941.0</td>\n",
       "      <td>57659.0</td>\n",
       "      <td>218568.0</td>\n",
       "      <td>NaN</td>\n",
       "    </tr>\n",
       "    <tr>\n",
       "      <th>4</th>\n",
       "      <td>Car</td>\n",
       "      <td>2021</td>\n",
       "      <td>198136.0</td>\n",
       "      <td>117135.0</td>\n",
       "      <td>67135.0</td>\n",
       "      <td>230420.0</td>\n",
       "      <td>NaN</td>\n",
       "    </tr>\n",
       "    <tr>\n",
       "      <th>0</th>\n",
       "      <td>Car</td>\n",
       "      <td>不分年</td>\n",
       "      <td>NaN</td>\n",
       "      <td>NaN</td>\n",
       "      <td>NaN</td>\n",
       "      <td>NaN</td>\n",
       "      <td>1684454.0</td>\n",
       "    </tr>\n",
       "    <tr>\n",
       "      <th>5</th>\n",
       "      <td>F_PS</td>\n",
       "      <td>2017</td>\n",
       "      <td>42224.0</td>\n",
       "      <td>0.0</td>\n",
       "      <td>0.0</td>\n",
       "      <td>0.0</td>\n",
       "      <td>NaN</td>\n",
       "    </tr>\n",
       "    <tr>\n",
       "      <th>6</th>\n",
       "      <td>F_PS</td>\n",
       "      <td>2018</td>\n",
       "      <td>13504.0</td>\n",
       "      <td>34157.0</td>\n",
       "      <td>0.0</td>\n",
       "      <td>8067.0</td>\n",
       "      <td>NaN</td>\n",
       "    </tr>\n",
       "    <tr>\n",
       "      <th>7</th>\n",
       "      <td>F_PS</td>\n",
       "      <td>2019</td>\n",
       "      <td>39243.0</td>\n",
       "      <td>9753.0</td>\n",
       "      <td>2059.0</td>\n",
       "      <td>7797.0</td>\n",
       "      <td>NaN</td>\n",
       "    </tr>\n",
       "    <tr>\n",
       "      <th>8</th>\n",
       "      <td>F_PS</td>\n",
       "      <td>2020</td>\n",
       "      <td>34803.0</td>\n",
       "      <td>34560.0</td>\n",
       "      <td>3572.0</td>\n",
       "      <td>9128.0</td>\n",
       "      <td>NaN</td>\n",
       "    </tr>\n",
       "    <tr>\n",
       "      <th>9</th>\n",
       "      <td>F_PS</td>\n",
       "      <td>2021</td>\n",
       "      <td>20340.0</td>\n",
       "      <td>30767.0</td>\n",
       "      <td>1583.0</td>\n",
       "      <td>12401.0</td>\n",
       "      <td>NaN</td>\n",
       "    </tr>\n",
       "    <tr>\n",
       "      <th>1</th>\n",
       "      <td>F_PS</td>\n",
       "      <td>不分年</td>\n",
       "      <td>NaN</td>\n",
       "      <td>NaN</td>\n",
       "      <td>NaN</td>\n",
       "      <td>NaN</td>\n",
       "      <td>155488.0</td>\n",
       "    </tr>\n",
       "    <tr>\n",
       "      <th>20</th>\n",
       "      <td>H_GP</td>\n",
       "      <td>2017</td>\n",
       "      <td>196861.0</td>\n",
       "      <td>0.0</td>\n",
       "      <td>0.0</td>\n",
       "      <td>0.0</td>\n",
       "      <td>NaN</td>\n",
       "    </tr>\n",
       "    <tr>\n",
       "      <th>21</th>\n",
       "      <td>H_GP</td>\n",
       "      <td>2018</td>\n",
       "      <td>47906.0</td>\n",
       "      <td>118803.0</td>\n",
       "      <td>0.0</td>\n",
       "      <td>78058.0</td>\n",
       "      <td>NaN</td>\n",
       "    </tr>\n",
       "    <tr>\n",
       "      <th>22</th>\n",
       "      <td>H_GP</td>\n",
       "      <td>2019</td>\n",
       "      <td>40957.0</td>\n",
       "      <td>15405.0</td>\n",
       "      <td>1383.0</td>\n",
       "      <td>106259.0</td>\n",
       "      <td>NaN</td>\n",
       "    </tr>\n",
       "    <tr>\n",
       "      <th>23</th>\n",
       "      <td>H_GP</td>\n",
       "      <td>2020</td>\n",
       "      <td>44043.0</td>\n",
       "      <td>14146.0</td>\n",
       "      <td>1745.0</td>\n",
       "      <td>44169.0</td>\n",
       "      <td>NaN</td>\n",
       "    </tr>\n",
       "    <tr>\n",
       "      <th>24</th>\n",
       "      <td>H_GP</td>\n",
       "      <td>2021</td>\n",
       "      <td>35648.0</td>\n",
       "      <td>13907.0</td>\n",
       "      <td>1703.0</td>\n",
       "      <td>47192.0</td>\n",
       "      <td>NaN</td>\n",
       "    </tr>\n",
       "    <tr>\n",
       "      <th>2</th>\n",
       "      <td>H_GP</td>\n",
       "      <td>不分年</td>\n",
       "      <td>NaN</td>\n",
       "      <td>NaN</td>\n",
       "      <td>NaN</td>\n",
       "      <td>NaN</td>\n",
       "      <td>372889.0</td>\n",
       "    </tr>\n",
       "    <tr>\n",
       "      <th>10</th>\n",
       "      <td>H_PS</td>\n",
       "      <td>2017</td>\n",
       "      <td>140497.0</td>\n",
       "      <td>0.0</td>\n",
       "      <td>0.0</td>\n",
       "      <td>0.0</td>\n",
       "      <td>NaN</td>\n",
       "    </tr>\n",
       "    <tr>\n",
       "      <th>11</th>\n",
       "      <td>H_PS</td>\n",
       "      <td>2018</td>\n",
       "      <td>27206.0</td>\n",
       "      <td>121857.0</td>\n",
       "      <td>0.0</td>\n",
       "      <td>18640.0</td>\n",
       "      <td>NaN</td>\n",
       "    </tr>\n",
       "    <tr>\n",
       "      <th>12</th>\n",
       "      <td>H_PS</td>\n",
       "      <td>2019</td>\n",
       "      <td>28709.0</td>\n",
       "      <td>21140.0</td>\n",
       "      <td>2009.0</td>\n",
       "      <td>18634.0</td>\n",
       "      <td>NaN</td>\n",
       "    </tr>\n",
       "    <tr>\n",
       "      <th>13</th>\n",
       "      <td>H_PS</td>\n",
       "      <td>2020</td>\n",
       "      <td>29757.0</td>\n",
       "      <td>21800.0</td>\n",
       "      <td>1739.0</td>\n",
       "      <td>22061.0</td>\n",
       "      <td>NaN</td>\n",
       "    </tr>\n",
       "    <tr>\n",
       "      <th>14</th>\n",
       "      <td>H_PS</td>\n",
       "      <td>2021</td>\n",
       "      <td>32165.0</td>\n",
       "      <td>21134.0</td>\n",
       "      <td>2990.0</td>\n",
       "      <td>23813.0</td>\n",
       "      <td>NaN</td>\n",
       "    </tr>\n",
       "    <tr>\n",
       "      <th>3</th>\n",
       "      <td>H_PS</td>\n",
       "      <td>不分年</td>\n",
       "      <td>NaN</td>\n",
       "      <td>NaN</td>\n",
       "      <td>NaN</td>\n",
       "      <td>NaN</td>\n",
       "      <td>280319.0</td>\n",
       "    </tr>\n",
       "    <tr>\n",
       "      <th>15</th>\n",
       "      <td>H_TV</td>\n",
       "      <td>2017</td>\n",
       "      <td>65907.0</td>\n",
       "      <td>0.0</td>\n",
       "      <td>0.0</td>\n",
       "      <td>0.0</td>\n",
       "      <td>NaN</td>\n",
       "    </tr>\n",
       "    <tr>\n",
       "      <th>16</th>\n",
       "      <td>H_TV</td>\n",
       "      <td>2018</td>\n",
       "      <td>89763.0</td>\n",
       "      <td>16475.0</td>\n",
       "      <td>0.0</td>\n",
       "      <td>49432.0</td>\n",
       "      <td>NaN</td>\n",
       "    </tr>\n",
       "    <tr>\n",
       "      <th>17</th>\n",
       "      <td>H_TV</td>\n",
       "      <td>2019</td>\n",
       "      <td>157662.0</td>\n",
       "      <td>18426.0</td>\n",
       "      <td>3858.0</td>\n",
       "      <td>79493.0</td>\n",
       "      <td>NaN</td>\n",
       "    </tr>\n",
       "    <tr>\n",
       "      <th>18</th>\n",
       "      <td>H_TV</td>\n",
       "      <td>2020</td>\n",
       "      <td>76552.0</td>\n",
       "      <td>10812.0</td>\n",
       "      <td>4377.0</td>\n",
       "      <td>170028.0</td>\n",
       "      <td>NaN</td>\n",
       "    </tr>\n",
       "    <tr>\n",
       "      <th>19</th>\n",
       "      <td>H_TV</td>\n",
       "      <td>2021</td>\n",
       "      <td>42836.0</td>\n",
       "      <td>4877.0</td>\n",
       "      <td>5313.0</td>\n",
       "      <td>90308.0</td>\n",
       "      <td>NaN</td>\n",
       "    </tr>\n",
       "    <tr>\n",
       "      <th>4</th>\n",
       "      <td>H_TV</td>\n",
       "      <td>不分年</td>\n",
       "      <td>NaN</td>\n",
       "      <td>NaN</td>\n",
       "      <td>NaN</td>\n",
       "      <td>NaN</td>\n",
       "      <td>442207.0</td>\n",
       "    </tr>\n",
       "  </tbody>\n",
       "</table>\n",
       "</div>"
      ],
      "text/plain": [
       "    cate  year         新         續        回        流失        總人數\n",
       "0    Car  2017  789053.0       0.0      0.0       0.0        NaN\n",
       "1    Car  2018  224514.0  553300.0      0.0  235753.0        NaN\n",
       "2    Car  2019  205438.0  103949.0  50826.0  216601.0        NaN\n",
       "3    Car  2020  222176.0  108941.0  57659.0  218568.0        NaN\n",
       "4    Car  2021  198136.0  117135.0  67135.0  230420.0        NaN\n",
       "0    Car   不分年       NaN       NaN      NaN       NaN  1684454.0\n",
       "5   F_PS  2017   42224.0       0.0      0.0       0.0        NaN\n",
       "6   F_PS  2018   13504.0   34157.0      0.0    8067.0        NaN\n",
       "7   F_PS  2019   39243.0    9753.0   2059.0    7797.0        NaN\n",
       "8   F_PS  2020   34803.0   34560.0   3572.0    9128.0        NaN\n",
       "9   F_PS  2021   20340.0   30767.0   1583.0   12401.0        NaN\n",
       "1   F_PS   不分年       NaN       NaN      NaN       NaN   155488.0\n",
       "20  H_GP  2017  196861.0       0.0      0.0       0.0        NaN\n",
       "21  H_GP  2018   47906.0  118803.0      0.0   78058.0        NaN\n",
       "22  H_GP  2019   40957.0   15405.0   1383.0  106259.0        NaN\n",
       "23  H_GP  2020   44043.0   14146.0   1745.0   44169.0        NaN\n",
       "24  H_GP  2021   35648.0   13907.0   1703.0   47192.0        NaN\n",
       "2   H_GP   不分年       NaN       NaN      NaN       NaN   372889.0\n",
       "10  H_PS  2017  140497.0       0.0      0.0       0.0        NaN\n",
       "11  H_PS  2018   27206.0  121857.0      0.0   18640.0        NaN\n",
       "12  H_PS  2019   28709.0   21140.0   2009.0   18634.0        NaN\n",
       "13  H_PS  2020   29757.0   21800.0   1739.0   22061.0        NaN\n",
       "14  H_PS  2021   32165.0   21134.0   2990.0   23813.0        NaN\n",
       "3   H_PS   不分年       NaN       NaN      NaN       NaN   280319.0\n",
       "15  H_TV  2017   65907.0       0.0      0.0       0.0        NaN\n",
       "16  H_TV  2018   89763.0   16475.0      0.0   49432.0        NaN\n",
       "17  H_TV  2019  157662.0   18426.0   3858.0   79493.0        NaN\n",
       "18  H_TV  2020   76552.0   10812.0   4377.0  170028.0        NaN\n",
       "19  H_TV  2021   42836.0    4877.0   5313.0   90308.0        NaN\n",
       "4   H_TV   不分年       NaN       NaN      NaN       NaN   442207.0"
      ]
     },
     "execution_count": 23,
     "metadata": {},
     "output_type": "execute_result"
    }
   ],
   "source": [
    "t"
   ]
  }
 ],
 "metadata": {
  "kernelspec": {
   "display_name": "Python 3.9.6 64-bit (system)",
   "language": "python",
   "name": "python3"
  },
  "language_info": {
   "codemirror_mode": {
    "name": "ipython",
    "version": 3
   },
   "file_extension": ".py",
   "mimetype": "text/x-python",
   "name": "python",
   "nbconvert_exporter": "python",
   "pygments_lexer": "ipython3",
   "version": "3.9.6"
  },
  "orig_nbformat": 4,
  "vscode": {
   "interpreter": {
    "hash": "11938c6bc6919ae2720b4d5011047913343b08a43b18698fd82dedb0d4417594"
   }
  }
 },
 "nbformat": 4,
 "nbformat_minor": 2
}
