{
 "cells": [
  {
   "cell_type": "markdown",
   "metadata": {},
   "source": [
    "目標: 比較各族群在每個特徵的逐年變化。"
   ]
  },
  {
   "cell_type": "code",
   "execution_count": null,
   "metadata": {},
   "outputs": [],
   "source": [
    "import pandas as pd\n",
    "import glob, os, pickle\n",
    "#type\n",
    "from dataclasses import dataclass\n",
    "from typing import Optional, List\n",
    "# plot\n",
    "import plotly.express as ex\n",
    "import plotly.graph_objects as go\n",
    "from plotly.subplots import make_subplots\n",
    "CMAP = ex.colors.qualitative.Vivid\n"
   ]
  },
  {
   "cell_type": "code",
   "execution_count": null,
   "metadata": {},
   "outputs": [],
   "source": [
    "def load_yearData(year):\n",
    "    with open(f'./data/group_feat_summary_{year}.pickle', 'rb') as f:\n",
    "        data_dict = pickle.load(f)\n",
    "    holder = []\n",
    "    holder.append(data_dict['main'].assign(gp_cate='main', gp_year=year))\n",
    "    for k, df in data_dict['r'].items():\n",
    "        holder.append(df.assign(gp_cate=k, gp_year=year))\n",
    "    for k, df in data_dict['src_dst'].items():\n",
    "        holder.append(df.assign(gp_cate=str(k), gp_year=year))\n",
    "    return pd.concat(holder, axis=0)\n"
   ]
  },
  {
   "cell_type": "code",
   "execution_count": null,
   "metadata": {},
   "outputs": [],
   "source": [
    "holder = []\n",
    "for y in range(2017, 2021):\n",
    "    holder.append(load_yearData(y))\n",
    "data = pd.concat(holder)"
   ]
  },
  {
   "cell_type": "code",
   "execution_count": null,
   "metadata": {},
   "outputs": [],
   "source": [
    "ft_names = pd.read_excel('./data/ft_names.xlsx')"
   ]
  },
  {
   "cell_type": "code",
   "execution_count": null,
   "metadata": {},
   "outputs": [],
   "source": [
    "# 依照cate來區分不同種類的圖表\n",
    "ft_cate = 'basic'\n",
    "ft = ft_names.query('cate==@ft_cate')\n",
    "gp = ['main', 'KA', 'CA', 'BA', 'KB', 'JB']\n",
    "\n",
    "plot_data = data.query(\"\"\"\n",
    "    variable_type.isin(@ft['variable_type']) &\\\n",
    "    variable.isin(@ft['variable']) &\\\n",
    "    year_type.isin(@ft['year_type']) &\\\n",
    "    gp_cate.isin(@gp) &\\\n",
    "    year == gp_year\n",
    "\"\"\")"
   ]
  },
  {
   "cell_type": "code",
   "execution_count": null,
   "metadata": {},
   "outputs": [],
   "source": [
    "@dataclass\n",
    "class line_attr:\n",
    "    variable: str\n",
    "    cate: str\n",
    "    name: Optional[str] = None\n",
    "    color: Optional[str] = None\n",
    "    visible: Optional[str] = None\n",
    "    legendgroup: Optional[str] = None\n",
    "    showlegend: bool = True\n",
    "    opacity: float = 1\n",
    "\n",
    "@dataclass\n",
    "class area_attr:\n",
    "    cate: str\n",
    "    ceil_variable: str\n",
    "    mid_variable: str\n",
    "    bottom_variable: str\n",
    "    name: Optional[str] = None\n",
    "    color: Optional[str] = None\n",
    "    visible: Optional[str] = 'legendonly'\n",
    "    showlegend: bool = False\n",
    "    opacity: float = .5\n",
    "    mid_opacity: float = 1\n",
    "\n",
    "def add_lines(fig, df, list_line_attr: List[line_attr], row, col):\n",
    "    for l in list_line_attr:\n",
    "        g = df.query(\" variable==@l.variable & gp_cate==@l.cate \")\n",
    "        fig.add_trace(go.Scatter(x=g['year'],\n",
    "                                 y=g['value'],\n",
    "                                 line={'color': l.color},\n",
    "                                 opacity=l.opacity,\n",
    "                                 mode='lines+markers',\n",
    "                                 name=l.name if l.name is not None else l.cate,\n",
    "                                 visible=l.visible,\n",
    "                                 showlegend=l.showlegend,\n",
    "                                 legendgroup=l.legendgroup,\n",
    "                                 ),\n",
    "                      row=row,\n",
    "                      col=col)\n",
    "\n",
    "\n",
    "def add_areas(fig, df, list_area_attr: List[line_attr], row, col):\n",
    "    for a in list_area_attr:\n",
    "        g_ceil = df.query(\" variable == @a.ceil_variable & gp_cate==@a.cate\")\n",
    "        fig.add_trace(go.Scatter(x=g_ceil['year'],\n",
    "                                 y=g_ceil['value'],\n",
    "                                 line={\n",
    "                                     'color': a.color,\n",
    "                                     'dash': 'dot'\n",
    "                                 },\n",
    "                                 opacity=a.opacity,\n",
    "                                 mode='lines+markers',\n",
    "                                 name='Pr75',\n",
    "                                 visible=a.visible,\n",
    "                                 showlegend=a.showlegend,\n",
    "                                 legendgroup=a.name if a.name is not None else a.cate,\n",
    "                                 ),\n",
    "                      row=row,\n",
    "                      col=col)\n",
    "        g_bottom = df.query(\" variable == @a.bottom_variable & gp_cate==@a.cate\")\n",
    "        fig.add_trace(go.Scatter(x=g_bottom['year'],\n",
    "                                 y=g_bottom['value'],\n",
    "                                 line={\n",
    "                                     'color': a.color,\n",
    "                                     'dash': 'dot'\n",
    "                                 },\n",
    "                                 opacity=a.opacity,\n",
    "                                 mode='lines+markers',\n",
    "                                 name='Pr25',\n",
    "                                 visible=a.visible,\n",
    "                                 showlegend=a.showlegend,\n",
    "                                 legendgroup=a.name if a.name is not None else a.cate,\n",
    "                                 fill='tonexty'),\n",
    "                      row=row,\n",
    "                      col=col)\n",
    "        g_mid = df.query(\" variable == @a.mid_variable & gp_cate==@a.cate\")\n",
    "        fig.add_trace(go.Scatter(x=g_mid['year'],\n",
    "                                 y=g_mid['value'],\n",
    "                                 line={\n",
    "                                     'color': a.color,\n",
    "                                     'dash': 'dash'\n",
    "                                 },\n",
    "                                 opacity=a.mid_opacity,\n",
    "                                 mode='lines+markers',\n",
    "                                 name=a.name if a.name is not None else a.cate,\n",
    "                                 visible=a.visible,\n",
    "                                 showlegend=True,\n",
    "                                 legendgroup=a.name if a.name is not None else a.cate),\n",
    "                      row=row,\n",
    "                      col=col)\n",
    "\n"
   ]
  },
  {
   "cell_type": "code",
   "execution_count": null,
   "metadata": {},
   "outputs": [],
   "source": [
    "LINES_GP = [\n",
    "    line_attr('age_Avg', 'main', color='red', name='main(Avg)', legendgroup='main'),\n",
    "    line_attr('age_Avg', 'KA', color=CMAP[0], name='KA(Avg)', legendgroup='KA'),\n",
    "    line_attr('age_Avg', 'JB', color=CMAP[1], name='JB(Avg)', legendgroup='JB'),\n",
    "    line_attr('age_Avg', 'BA', color=CMAP[2], visible='legendonly', name='BA(Avg)', legendgroup='BA'),\n",
    "    line_attr('age_Avg', 'KB', color=CMAP[3], visible='legendonly', name='KB(Avg)', legendgroup='KB'),\n",
    "    line_attr('age_Avg', 'CA', color=CMAP[4], visible='legendonly', name='CA(Avg)', legendgroup='CA'),\n",
    "]\n",
    "\n",
    "AREAS_GP = [\n",
    "    area_attr('main', 'age_Pr75', 'age_Pr50', 'age_Pr25', color='red', name='main'),\n",
    "    area_attr('KA', 'age_Pr75', 'age_Pr50', 'age_Pr25', color=CMAP[0], name='KA', visible=True),\n",
    "    area_attr('JB', 'age_Pr75', 'age_Pr50', 'age_Pr25', color=CMAP[1], name='JB', visible=True),\n",
    "    area_attr('BA', 'age_Pr75', 'age_Pr50', 'age_Pr25', color=CMAP[2], name='BA'),\n",
    "    area_attr('KB', 'age_Pr75', 'age_Pr50', 'age_Pr25', color=CMAP[3], name='KB'),\n",
    "    area_attr('CA', 'age_Pr75', 'age_Pr50', 'age_Pr25', color=CMAP[4], name='CA')\n",
    "]"
   ]
  },
  {
   "cell_type": "code",
   "execution_count": null,
   "metadata": {},
   "outputs": [],
   "source": [
    "from copy import deepcopy"
   ]
  },
  {
   "cell_type": "code",
   "execution_count": null,
   "metadata": {},
   "outputs": [],
   "source": [
    "def make_lineAttr(feat:str, showlegend=True):\n",
    "    tem = deepcopy(LINES_GP)\n",
    "    for i, _ in enumerate(tem):\n",
    "        tem[i].variable = feat\n",
    "        tem[i].showlegend = showlegend\n",
    "    return tem\n",
    "\n",
    "def make_areaAttr(feat:str, showlegend=True):\n",
    "    ceil_var, mid_var, bot_var = f'{feat}_Pr75', f'{feat}_Pr50', f'{feat}_Pr25'\n",
    "    tem = deepcopy(AREAS_GP)\n",
    "    for i, _ in enumerate(tem):\n",
    "        tem[i].ceil_variable = ceil_var\n",
    "        tem[i].mid_variable = mid_var\n",
    "        tem[i].bottom_variable = bot_var\n",
    "        tem[i].showlegend = showlegend\n",
    "    return tem"
   ]
  },
  {
   "cell_type": "code",
   "execution_count": null,
   "metadata": {},
   "outputs": [],
   "source": [
    "def make_fig(fig, )"
   ]
  },
  {
   "cell_type": "code",
   "execution_count": null,
   "metadata": {},
   "outputs": [],
   "source": [
    "# 訂單數\n",
    "orders_lines_gp = make_lineAttr('n_orders')\n",
    "# 人數\n",
    "people_lines_gp = make_lineAttr('n_person', showlegend=False)\n",
    "# 年齡\n",
    "age_lines_gp, age_areas_gp = make_lineAttr('age_Avg', showlegend=False), make_areaAttr('age', showlegend=False)\n",
    "# 女性占比\n",
    "female_lines_gp = make_lineAttr('female_rate', showlegend=False)\n",
    "# 婚姻占比\n",
    "marr_lines_gp = make_lineAttr('marr_pct', showlegend=False)\n",
    "# plot\n",
    "fig = make_subplots(4, 2, shared_yaxes=True, subplot_titles=['訂單數', '人數', '年齡', '年齡(Prs)', '女性占比', '' , '未婚占比', ''])\n",
    "add_lines(fig, plot_data, orders_lines_gp, row=1, col=1)\n",
    "add_lines(fig, plot_data, people_lines_gp, row=1, col=2)\n",
    "add_lines(fig, plot_data, age_lines_gp, row=2, col=1)\n",
    "add_areas(fig, plot_data, age_areas_gp, 2, 2)\n",
    "add_lines(fig, plot_data, female_lines_gp, row=3, col=1)\n",
    "add_lines(fig, plot_data, marr_lines_gp, row=4, col=1)\n",
    "fig.update_layout(height=550, hovermode='x unified')\n",
    "fig"
   ]
  },
  {
   "cell_type": "code",
   "execution_count": null,
   "metadata": {},
   "outputs": [],
   "source": [
    "people_lines_gp"
   ]
  }
 ],
 "metadata": {
  "kernelspec": {
   "display_name": "Python 3.9.6 64-bit (system)",
   "language": "python",
   "name": "python3"
  },
  "language_info": {
   "codemirror_mode": {
    "name": "ipython",
    "version": 3
   },
   "file_extension": ".py",
   "mimetype": "text/x-python",
   "name": "python",
   "nbconvert_exporter": "python",
   "pygments_lexer": "ipython3",
   "version": "3.9.6"
  },
  "orig_nbformat": 4,
  "vscode": {
   "interpreter": {
    "hash": "11938c6bc6919ae2720b4d5011047913343b08a43b18698fd82dedb0d4417594"
   }
  }
 },
 "nbformat": 4,
 "nbformat_minor": 2
}
