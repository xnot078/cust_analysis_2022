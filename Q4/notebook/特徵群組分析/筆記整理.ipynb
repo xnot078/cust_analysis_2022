{
 "cells": [
  {
   "cell_type": "code",
   "execution_count": 40,
   "metadata": {},
   "outputs": [],
   "source": [
    "import pickle \n",
    "import pandas as pd\n",
    "from functools import partial\n",
    "\n",
    "with open('./radar_dict.pickle', 'rb') as f:\n",
    "    radar_dict = pickle.load(f)\n",
    "plot_data = pd.read_csv('plotData_main.csv').drop([\"variable_type\", \"variable\", \"cate\", \"year_type\"], axis=1).set_index(\"ft_name\")\n",
    "ib_data = pd.read_csv('plotData_main_iinsbuy.csv').drop([\"variable_type\", \"variable\", \"cate\", \"year_type\"], axis=1).set_index(\"ft_name\")\n",
    "ct_data = pd.read_csv('plotData_main_cartype.csv').drop([\"variable_type\", \"variable\", \"cate\", \"year_type\"], axis=1).set_index(\"ft_name\")\n",
    "\n",
    "def row_enhance(row, compare_row):\n",
    "    if row.name == compare_row:\n",
    "        return [\"background-color:#A0B0AA ; color:black\" for c in row.values]\n",
    "    else:\n",
    "        return [\"background-color:None \" for c in row.values]\n",
    "\n",
    "def custom_formatter(styler):\n",
    "    return styler.format(\n",
    "        precision=2, \n",
    "        formatter={\"女性占比\": '{:.1%}', \"Avg年齡\": '{:,.1f}', \"未婚占比\": '{:.1%}', \"保費/人\": '{:,.0f}', \"總賠付/總保費\": '{:.1%}', \"賠付金/人\": '{:,.0f}'}\n",
    "    )\n",
    "\n",
    "def compare_table(data, base, compare, default_cols=[\"main\"]):\n",
    "    deltal = f\"{compare}/{base}-1\"\n",
    "    coloring = partial(row_enhance, compare_row=compare)\n",
    "    tem = data[default_cols+[base, compare]].copy()\n",
    "    tem[deltal] = (tem[compare] - tem[base]) / tem[base]\n",
    "    return tem.T.style.apply(coloring, axis=1).format(\n",
    "        precision=2, \n",
    "        formatter={\"女性占比\": '{:.1%}', \"Avg年齡\": '{:,.1f}', \"未婚占比\": '{:.1%}', \"保費/人\": '{:,.0f}', \"總賠付/總保費\": '{:.1%}', \"賠付金/人\": '{:,.0f}', deltal:'{:.1%}'}\n",
    "    ).background_gradient(\n",
    "            cmap=\"coolwarm\",\n",
    "            subset= (deltal,tem.index[:]), axis=1\n",
    "    ).format('{:.1%}', subset=(deltal,tem.index[:]))"
   ]
  },
  {
   "cell_type": "markdown",
   "metadata": {},
   "source": [
    "## 目標: 比較不同族群之間的特徵\n",
    "\n",
    "討論範圍:\n",
    "1. 統計年 = 2020\n",
    "2. 險種 = 買過車險(不含強制險)的客戶\n",
    "\n",
    "所謂不同族群:\n",
    "1. **不考慮**前一年使用的通路，比較使用不同通路的族群。 e.g. 在2020年的客戶中，比較使用JB v.s.使用KA的族群在特徵有甚麼不同。(即by通路)\n",
    "2. **考慮**前一年使用的通路 & 今年使用的通路，比較去年使用同一通路，但今年改變通路的族群。 e.g. KA→KA的族群(未改變行為) v.s. KA→JB的族群(行為發生改變)"
   ]
  },
  {
   "cell_type": "markdown",
   "metadata": {},
   "source": [
    "特徵列表:\n",
    "\n",
    "**1. group1:**\n",
    "| 特徵            | 邏輯                                                                      | 時間範圍    |\n",
    "|:----------------|:---------------------------------------------------------------------------|:---------|\n",
    "| 女性占比        | 女性人數/族群人數                                                          |  2020      |\n",
    "| Avg年齡         | 族群平均年齡(每人)                                                         |  2020      |\n",
    "| 未婚占比        | 未婚人數/族群人數                                                          |  2020      |\n",
    "| Avg車齡         | 車齡平均(保單)                                                             |  2020      |\n",
    "| Avg車數         | 車數平均(每人)                                                             | 2017~2020  |\n",
    "| Avg通路慣性     | 切換通路前，連續使用同一個通路的次數(若沒切換則繼續累計) <br>(例一:KA,KA,KB=2; 例二:KB,KB,KB,KB=4) |  2017~2020    |\n",
    "| 保費/人         | 總保費/族群人數                                                            |  2020      |\n",
    "| 總賠付/總保費   | 即損率 (不只限於出險的人，而是族群所有人)                                          |  2020      |\n",
    "| 賠付金/人       | 總賠付/族群中有出險的人數                                                    |  2020      |\n",
    "\n",
    "**2. group2: 曾買過其他險別的人數佔比(2017~2020)**\n",
    "\n",
    "**3. group3: 今年投保的車種百分比(2020)**\n",
    "\n",
    "\n",
    "*討論:**Avg連續通路使用**可能方向:*\n",
    "1. 使用最多次的通路\n",
    "2. 轉換前連續使用通路 (若沒轉換繼續累計)\n",
    "\n",
    "***\n",
    "\n",
    "圖表說明:\n",
    "1. 每條曲線表示 **族群**:\n",
    "    - **main**: 2020年所有買過車險的客戶\n",
    "    - **KA**: 2020年所有使用KA買過車險的客戶\n",
    "    - 以此類推\n",
    "2. 雷達圖:\n",
    "    - **半徑**: 比**main**大多少。 例: **未婚占比_JB / 未婚占比_main** = 0.29/0.47 = **0.61**\n",
    "    <br>(i.e. 把特徵分數標準化，讓所有特徵有相同的尺度)\n",
    "    - <span style=\"color:#F6A198\">**紅色範圍**</span>: 以**全體(main)**作為比較基準，半徑為1。\n",
    "    \n",
    "    <small>note: 半徑大，但其實兩者都很小是有可能發生的。 e.g. KA有過保住火 / main有保過住火 = 3.2% / 1.9% = 1.68。</small>\n",
    "\n",
    "![intro](../../img/%E5%9C%96%E8%A1%A8%E8%AA%AA%E6%98%8E.png)\n",
    "\n"
   ]
  },
  {
   "cell_type": "markdown",
   "metadata": {},
   "source": [
    "\n",
    "---\n",
    "### **不考慮**前一年使用的通路\n",
    "\n",
    "例: 2020年使用 {JB} 買過車險的客戶 (不管他們2019使用的是什麼通路)\n",
    "\n",
    "1. **JB**相較其他族群:\n",
    "\n",
    "|             |                      |\n",
    "|:------------|:--------------------|\n",
    "| **未婚占比** | 最低，29% v.s. 47%<small>(main)</small> |\n",
    "|**保費/人**   | 最低，6,589 v.s. 7,753<small>(main)</small>, 10,814<small>(CA)</small>|\n",
    "|**賠付金/人** | 偏低，48,927 v.s. 54,696<small>(main)</small> |\n",
    "|**總賠付/總保費** | 最高，65% v.s. 59%<small>(main)</small>, 53%<small>(CA)</small>|\n",
    "|**車種** | 以小客車(53%)、機車(34%)為主 |\n",
    "\n",
    "\n",
    "2. 明顯特徵:\n",
    "\n",
    "| | |\n",
    "|:---|:---|\n",
    "|**未婚占比** | KB(64%)、BA(61%)明顯較高; CA(34%)、JB(29%)則明顯偏低。 註: main(47%)|\n",
    "|**Avg車齡** | 多在8~9年，以KA(9.78年)最高、CA(5.93年)年最低。|\n",
    "|**Avg車數** | 多在1.3台左右，以KA(1.43台)最高、CA(1.18台)最低。|\n",
    "|**Avg通路慣性** | 多在2~3次以下，僅CA(3.58次)、KA(3.47次)超過3次。值得注意的是，JB(2.9次)是黏著度第三名。|\n",
    "|**保費/人** | CA(10,814)最高，JB(6,589)最低|\n"
   ]
  },
  {
   "cell_type": "code",
   "execution_count": 8,
   "metadata": {},
   "outputs": [
    {
     "data": {
      "text/html": [
       "<style type=\"text/css\">\n",
       "#T_b1881_row0_col0, #T_b1881_row0_col1, #T_b1881_row0_col2, #T_b1881_row0_col3, #T_b1881_row0_col4, #T_b1881_row0_col5, #T_b1881_row0_col6, #T_b1881_row0_col7, #T_b1881_row0_col8, #T_b1881_row1_col0, #T_b1881_row1_col1, #T_b1881_row1_col2, #T_b1881_row1_col3, #T_b1881_row1_col4, #T_b1881_row1_col5, #T_b1881_row1_col6, #T_b1881_row1_col7, #T_b1881_row1_col8, #T_b1881_row2_col0, #T_b1881_row2_col1, #T_b1881_row2_col2, #T_b1881_row2_col3, #T_b1881_row2_col4, #T_b1881_row2_col5, #T_b1881_row2_col6, #T_b1881_row2_col7, #T_b1881_row2_col8, #T_b1881_row4_col0, #T_b1881_row4_col1, #T_b1881_row4_col2, #T_b1881_row4_col3, #T_b1881_row4_col4, #T_b1881_row4_col5, #T_b1881_row4_col6, #T_b1881_row4_col7, #T_b1881_row4_col8, #T_b1881_row5_col0, #T_b1881_row5_col1, #T_b1881_row5_col2, #T_b1881_row5_col3, #T_b1881_row5_col4, #T_b1881_row5_col5, #T_b1881_row5_col6, #T_b1881_row5_col7, #T_b1881_row5_col8 {\n",
       "  background-color: None;\n",
       "}\n",
       "#T_b1881_row3_col0, #T_b1881_row3_col1, #T_b1881_row3_col2, #T_b1881_row3_col3, #T_b1881_row3_col4, #T_b1881_row3_col5, #T_b1881_row3_col6, #T_b1881_row3_col7, #T_b1881_row3_col8 {\n",
       "  background-color: #A0B0AA;\n",
       "  color: black;\n",
       "}\n",
       "</style>\n",
       "<table id=\"T_b1881_\">\n",
       "  <thead>\n",
       "    <tr>\n",
       "      <th class=\"index_name level0\" >ft_name</th>\n",
       "      <th class=\"col_heading level0 col0\" >女性占比</th>\n",
       "      <th class=\"col_heading level0 col1\" >Avg年齡</th>\n",
       "      <th class=\"col_heading level0 col2\" >未婚占比</th>\n",
       "      <th class=\"col_heading level0 col3\" >Avg車齡</th>\n",
       "      <th class=\"col_heading level0 col4\" >Avg車數</th>\n",
       "      <th class=\"col_heading level0 col5\" >Avg連續通路使用</th>\n",
       "      <th class=\"col_heading level0 col6\" >保費/人</th>\n",
       "      <th class=\"col_heading level0 col7\" >總賠付/總保費</th>\n",
       "      <th class=\"col_heading level0 col8\" >賠付金/人</th>\n",
       "    </tr>\n",
       "  </thead>\n",
       "  <tbody>\n",
       "    <tr>\n",
       "      <th id=\"T_b1881_level0_row0\" class=\"row_heading level0 row0\" >main</th>\n",
       "      <td id=\"T_b1881_row0_col0\" class=\"data row0 col0\" >50.1%</td>\n",
       "      <td id=\"T_b1881_row0_col1\" class=\"data row0 col1\" >46.7</td>\n",
       "      <td id=\"T_b1881_row0_col2\" class=\"data row0 col2\" >46.6%</td>\n",
       "      <td id=\"T_b1881_row0_col3\" class=\"data row0 col3\" >8.35</td>\n",
       "      <td id=\"T_b1881_row0_col4\" class=\"data row0 col4\" >1.29</td>\n",
       "      <td id=\"T_b1881_row0_col5\" class=\"data row0 col5\" >3.11</td>\n",
       "      <td id=\"T_b1881_row0_col6\" class=\"data row0 col6\" >7,754</td>\n",
       "      <td id=\"T_b1881_row0_col7\" class=\"data row0 col7\" >59.2%</td>\n",
       "      <td id=\"T_b1881_row0_col8\" class=\"data row0 col8\" >54,697</td>\n",
       "    </tr>\n",
       "    <tr>\n",
       "      <th id=\"T_b1881_level0_row1\" class=\"row_heading level0 row1\" >CA</th>\n",
       "      <td id=\"T_b1881_row1_col0\" class=\"data row1 col0\" >51.5%</td>\n",
       "      <td id=\"T_b1881_row1_col1\" class=\"data row1 col1\" >49.8</td>\n",
       "      <td id=\"T_b1881_row1_col2\" class=\"data row1 col2\" >34.0%</td>\n",
       "      <td id=\"T_b1881_row1_col3\" class=\"data row1 col3\" >5.93</td>\n",
       "      <td id=\"T_b1881_row1_col4\" class=\"data row1 col4\" >1.18</td>\n",
       "      <td id=\"T_b1881_row1_col5\" class=\"data row1 col5\" >3.58</td>\n",
       "      <td id=\"T_b1881_row1_col6\" class=\"data row1 col6\" >10,814</td>\n",
       "      <td id=\"T_b1881_row1_col7\" class=\"data row1 col7\" >52.7%</td>\n",
       "      <td id=\"T_b1881_row1_col8\" class=\"data row1 col8\" >56,430</td>\n",
       "    </tr>\n",
       "    <tr>\n",
       "      <th id=\"T_b1881_level0_row2\" class=\"row_heading level0 row2\" >KA</th>\n",
       "      <td id=\"T_b1881_row2_col0\" class=\"data row2 col0\" >49.9%</td>\n",
       "      <td id=\"T_b1881_row2_col1\" class=\"data row2 col1\" >48.0</td>\n",
       "      <td id=\"T_b1881_row2_col2\" class=\"data row2 col2\" >45.8%</td>\n",
       "      <td id=\"T_b1881_row2_col3\" class=\"data row2 col3\" >9.78</td>\n",
       "      <td id=\"T_b1881_row2_col4\" class=\"data row2 col4\" >1.43</td>\n",
       "      <td id=\"T_b1881_row2_col5\" class=\"data row2 col5\" >3.47</td>\n",
       "      <td id=\"T_b1881_row2_col6\" class=\"data row2 col6\" >8,250</td>\n",
       "      <td id=\"T_b1881_row2_col7\" class=\"data row2 col7\" >62.9%</td>\n",
       "      <td id=\"T_b1881_row2_col8\" class=\"data row2 col8\" >55,106</td>\n",
       "    </tr>\n",
       "    <tr>\n",
       "      <th id=\"T_b1881_level0_row3\" class=\"row_heading level0 row3\" >JB</th>\n",
       "      <td id=\"T_b1881_row3_col0\" class=\"data row3 col0\" >50.5%</td>\n",
       "      <td id=\"T_b1881_row3_col1\" class=\"data row3 col1\" >45.5</td>\n",
       "      <td id=\"T_b1881_row3_col2\" class=\"data row3 col2\" >29.4%</td>\n",
       "      <td id=\"T_b1881_row3_col3\" class=\"data row3 col3\" >8.93</td>\n",
       "      <td id=\"T_b1881_row3_col4\" class=\"data row3 col4\" >1.35</td>\n",
       "      <td id=\"T_b1881_row3_col5\" class=\"data row3 col5\" >2.90</td>\n",
       "      <td id=\"T_b1881_row3_col6\" class=\"data row3 col6\" >6,590</td>\n",
       "      <td id=\"T_b1881_row3_col7\" class=\"data row3 col7\" >64.8%</td>\n",
       "      <td id=\"T_b1881_row3_col8\" class=\"data row3 col8\" >48,927</td>\n",
       "    </tr>\n",
       "    <tr>\n",
       "      <th id=\"T_b1881_level0_row4\" class=\"row_heading level0 row4\" >BA</th>\n",
       "      <td id=\"T_b1881_row4_col0\" class=\"data row4 col0\" >52.8%</td>\n",
       "      <td id=\"T_b1881_row4_col1\" class=\"data row4 col1\" >45.9</td>\n",
       "      <td id=\"T_b1881_row4_col2\" class=\"data row4 col2\" >64.5%</td>\n",
       "      <td id=\"T_b1881_row4_col3\" class=\"data row4 col3\" >8.91</td>\n",
       "      <td id=\"T_b1881_row4_col4\" class=\"data row4 col4\" >1.32</td>\n",
       "      <td id=\"T_b1881_row4_col5\" class=\"data row4 col5\" >2.77</td>\n",
       "      <td id=\"T_b1881_row4_col6\" class=\"data row4 col6\" >7,349</td>\n",
       "      <td id=\"T_b1881_row4_col7\" class=\"data row4 col7\" >61.3%</td>\n",
       "      <td id=\"T_b1881_row4_col8\" class=\"data row4 col8\" >57,302</td>\n",
       "    </tr>\n",
       "    <tr>\n",
       "      <th id=\"T_b1881_level0_row5\" class=\"row_heading level0 row5\" >KB</th>\n",
       "      <td id=\"T_b1881_row5_col0\" class=\"data row5 col0\" >48.4%</td>\n",
       "      <td id=\"T_b1881_row5_col1\" class=\"data row5 col1\" >45.2</td>\n",
       "      <td id=\"T_b1881_row5_col2\" class=\"data row5 col2\" >60.7%</td>\n",
       "      <td id=\"T_b1881_row5_col3\" class=\"data row5 col3\" >8.72</td>\n",
       "      <td id=\"T_b1881_row5_col4\" class=\"data row5 col4\" >1.36</td>\n",
       "      <td id=\"T_b1881_row5_col5\" class=\"data row5 col5\" >2.80</td>\n",
       "      <td id=\"T_b1881_row5_col6\" class=\"data row5 col6\" >6,651</td>\n",
       "      <td id=\"T_b1881_row5_col7\" class=\"data row5 col7\" >60.2%</td>\n",
       "      <td id=\"T_b1881_row5_col8\" class=\"data row5 col8\" >57,634</td>\n",
       "    </tr>\n",
       "  </tbody>\n",
       "</table>\n"
      ],
      "text/plain": [
       "<pandas.io.formats.style.Styler at 0x26e88703940>"
      ]
     },
     "execution_count": 8,
     "metadata": {},
     "output_type": "execute_result"
    }
   ],
   "source": [
    "plot_data[[\"main\", \"CA\", \"KA\", \"JB\", \"BA\", \"KB\"]].T.style.format(\n",
    "        precision=2, \n",
    "        formatter={\"女性占比\": '{:.1%}', \"Avg年齡\": '{:,.1f}', \"未婚占比\": '{:.1%}', \"保費/人\": '{:,.0f}', \"總賠付/總保費\": '{:.1%}', \"賠付金/人\": '{:,.0f}'}\n",
    "    ).apply(lambda row: row_enhance(row, \"JB\"), axis=1)"
   ]
  },
  {
   "cell_type": "code",
   "execution_count": 9,
   "metadata": {},
   "outputs": [
    {
     "data": {
      "text/html": [
       "<style type=\"text/css\">\n",
       "#T_b3988_row0_col0, #T_b3988_row0_col1, #T_b3988_row0_col2, #T_b3988_row0_col3, #T_b3988_row0_col4, #T_b3988_row1_col0, #T_b3988_row1_col1, #T_b3988_row1_col2, #T_b3988_row1_col3, #T_b3988_row1_col4, #T_b3988_row2_col0, #T_b3988_row2_col1, #T_b3988_row2_col2, #T_b3988_row2_col3, #T_b3988_row2_col4, #T_b3988_row4_col0, #T_b3988_row4_col1, #T_b3988_row4_col2, #T_b3988_row4_col3, #T_b3988_row4_col4, #T_b3988_row5_col0, #T_b3988_row5_col1, #T_b3988_row5_col2, #T_b3988_row5_col3, #T_b3988_row5_col4 {\n",
       "  background-color: None;\n",
       "}\n",
       "#T_b3988_row3_col0, #T_b3988_row3_col1, #T_b3988_row3_col2, #T_b3988_row3_col3, #T_b3988_row3_col4 {\n",
       "  background-color: #A0B0AA;\n",
       "  color: black;\n",
       "}\n",
       "</style>\n",
       "<table id=\"T_b3988_\">\n",
       "  <thead>\n",
       "    <tr>\n",
       "      <th class=\"index_name level0\" >ft_name</th>\n",
       "      <th class=\"col_heading level0 col0\" >車險(任意)</th>\n",
       "      <th class=\"col_heading level0 col1\" >住火</th>\n",
       "      <th class=\"col_heading level0 col2\" >團傷</th>\n",
       "      <th class=\"col_heading level0 col3\" >個傷</th>\n",
       "      <th class=\"col_heading level0 col4\" >旅平</th>\n",
       "    </tr>\n",
       "  </thead>\n",
       "  <tbody>\n",
       "    <tr>\n",
       "      <th id=\"T_b3988_level0_row0\" class=\"row_heading level0 row0\" >main</th>\n",
       "      <td id=\"T_b3988_row0_col0\" class=\"data row0 col0\" >100.0%</td>\n",
       "      <td id=\"T_b3988_row0_col1\" class=\"data row0 col1\" >1.9%</td>\n",
       "      <td id=\"T_b3988_row0_col2\" class=\"data row0 col2\" >2.1%</td>\n",
       "      <td id=\"T_b3988_row0_col3\" class=\"data row0 col3\" >2.5%</td>\n",
       "      <td id=\"T_b3988_row0_col4\" class=\"data row0 col4\" >5.0%</td>\n",
       "    </tr>\n",
       "    <tr>\n",
       "      <th id=\"T_b3988_level0_row1\" class=\"row_heading level0 row1\" >CA</th>\n",
       "      <td id=\"T_b3988_row1_col0\" class=\"data row1 col0\" >100.0%</td>\n",
       "      <td id=\"T_b3988_row1_col1\" class=\"data row1 col1\" >1.0%</td>\n",
       "      <td id=\"T_b3988_row1_col2\" class=\"data row1 col2\" >1.7%</td>\n",
       "      <td id=\"T_b3988_row1_col3\" class=\"data row1 col3\" >1.0%</td>\n",
       "      <td id=\"T_b3988_row1_col4\" class=\"data row1 col4\" >2.6%</td>\n",
       "    </tr>\n",
       "    <tr>\n",
       "      <th id=\"T_b3988_level0_row2\" class=\"row_heading level0 row2\" >KA</th>\n",
       "      <td id=\"T_b3988_row2_col0\" class=\"data row2 col0\" >100.0%</td>\n",
       "      <td id=\"T_b3988_row2_col1\" class=\"data row2 col1\" >3.2%</td>\n",
       "      <td id=\"T_b3988_row2_col2\" class=\"data row2 col2\" >2.8%</td>\n",
       "      <td id=\"T_b3988_row2_col3\" class=\"data row2 col3\" >3.8%</td>\n",
       "      <td id=\"T_b3988_row2_col4\" class=\"data row2 col4\" >7.3%</td>\n",
       "    </tr>\n",
       "    <tr>\n",
       "      <th id=\"T_b3988_level0_row3\" class=\"row_heading level0 row3\" >JB</th>\n",
       "      <td id=\"T_b3988_row3_col0\" class=\"data row3 col0\" >100.0%</td>\n",
       "      <td id=\"T_b3988_row3_col1\" class=\"data row3 col1\" >1.9%</td>\n",
       "      <td id=\"T_b3988_row3_col2\" class=\"data row3 col2\" >1.7%</td>\n",
       "      <td id=\"T_b3988_row3_col3\" class=\"data row3 col3\" >1.6%</td>\n",
       "      <td id=\"T_b3988_row3_col4\" class=\"data row3 col4\" >6.9%</td>\n",
       "    </tr>\n",
       "    <tr>\n",
       "      <th id=\"T_b3988_level0_row4\" class=\"row_heading level0 row4\" >BA</th>\n",
       "      <td id=\"T_b3988_row4_col0\" class=\"data row4 col0\" >100.0%</td>\n",
       "      <td id=\"T_b3988_row4_col1\" class=\"data row4 col1\" >2.1%</td>\n",
       "      <td id=\"T_b3988_row4_col2\" class=\"data row4 col2\" >1.9%</td>\n",
       "      <td id=\"T_b3988_row4_col3\" class=\"data row4 col3\" >3.8%</td>\n",
       "      <td id=\"T_b3988_row4_col4\" class=\"data row4 col4\" >4.3%</td>\n",
       "    </tr>\n",
       "    <tr>\n",
       "      <th id=\"T_b3988_level0_row5\" class=\"row_heading level0 row5\" >KB</th>\n",
       "      <td id=\"T_b3988_row5_col0\" class=\"data row5 col0\" >100.0%</td>\n",
       "      <td id=\"T_b3988_row5_col1\" class=\"data row5 col1\" >1.7%</td>\n",
       "      <td id=\"T_b3988_row5_col2\" class=\"data row5 col2\" >2.8%</td>\n",
       "      <td id=\"T_b3988_row5_col3\" class=\"data row5 col3\" >2.9%</td>\n",
       "      <td id=\"T_b3988_row5_col4\" class=\"data row5 col4\" >3.8%</td>\n",
       "    </tr>\n",
       "  </tbody>\n",
       "</table>\n"
      ],
      "text/plain": [
       "<pandas.io.formats.style.Styler at 0x26e88024ac0>"
      ]
     },
     "execution_count": 9,
     "metadata": {},
     "output_type": "execute_result"
    }
   ],
   "source": [
    "# 是\"曾買過\"\n",
    "ib_data[[\"main\", \"CA\", \"KA\", \"JB\", \"BA\", \"KB\"]].T.style.format(precision=2, formatter='{:.1%}').apply(lambda row: row_enhance(row, \"JB\"), axis=1)"
   ]
  },
  {
   "cell_type": "code",
   "execution_count": 10,
   "metadata": {},
   "outputs": [
    {
     "data": {
      "text/html": [
       "<style type=\"text/css\">\n",
       "#T_8da80_row0_col0, #T_8da80_row0_col1, #T_8da80_row0_col2, #T_8da80_row0_col3, #T_8da80_row0_col4, #T_8da80_row0_col5, #T_8da80_row0_col6, #T_8da80_row0_col7, #T_8da80_row1_col0, #T_8da80_row1_col1, #T_8da80_row1_col2, #T_8da80_row1_col3, #T_8da80_row1_col4, #T_8da80_row1_col5, #T_8da80_row1_col6, #T_8da80_row1_col7, #T_8da80_row2_col0, #T_8da80_row2_col1, #T_8da80_row2_col2, #T_8da80_row2_col3, #T_8da80_row2_col4, #T_8da80_row2_col5, #T_8da80_row2_col6, #T_8da80_row2_col7, #T_8da80_row4_col0, #T_8da80_row4_col1, #T_8da80_row4_col2, #T_8da80_row4_col3, #T_8da80_row4_col4, #T_8da80_row4_col5, #T_8da80_row4_col6, #T_8da80_row4_col7, #T_8da80_row5_col0, #T_8da80_row5_col1, #T_8da80_row5_col2, #T_8da80_row5_col3, #T_8da80_row5_col4, #T_8da80_row5_col5, #T_8da80_row5_col6, #T_8da80_row5_col7 {\n",
       "  background-color: None;\n",
       "}\n",
       "#T_8da80_row3_col0, #T_8da80_row3_col1, #T_8da80_row3_col2, #T_8da80_row3_col3, #T_8da80_row3_col4, #T_8da80_row3_col5, #T_8da80_row3_col6, #T_8da80_row3_col7 {\n",
       "  background-color: #A0B0AA;\n",
       "  color: black;\n",
       "}\n",
       "</style>\n",
       "<table id=\"T_8da80_\">\n",
       "  <thead>\n",
       "    <tr>\n",
       "      <th class=\"index_name level0\" >ft_name</th>\n",
       "      <th class=\"col_heading level0 col0\" >小客車</th>\n",
       "      <th class=\"col_heading level0 col1\" >機車</th>\n",
       "      <th class=\"col_heading level0 col2\" >進口車</th>\n",
       "      <th class=\"col_heading level0 col3\" >小貨車</th>\n",
       "      <th class=\"col_heading level0 col4\" >未填</th>\n",
       "      <th class=\"col_heading level0 col5\" >電動自行車</th>\n",
       "      <th class=\"col_heading level0 col6\" >其他</th>\n",
       "      <th class=\"col_heading level0 col7\" >大型重機</th>\n",
       "    </tr>\n",
       "  </thead>\n",
       "  <tbody>\n",
       "    <tr>\n",
       "      <th id=\"T_8da80_level0_row0\" class=\"row_heading level0 row0\" >main</th>\n",
       "      <td id=\"T_8da80_row0_col0\" class=\"data row0 col0\" >50.3%</td>\n",
       "      <td id=\"T_8da80_row0_col1\" class=\"data row0 col1\" >25.9%</td>\n",
       "      <td id=\"T_8da80_row0_col2\" class=\"data row0 col2\" >13.6%</td>\n",
       "      <td id=\"T_8da80_row0_col3\" class=\"data row0 col3\" >5.1%</td>\n",
       "      <td id=\"T_8da80_row0_col4\" class=\"data row0 col4\" >3.2%</td>\n",
       "      <td id=\"T_8da80_row0_col5\" class=\"data row0 col5\" >0.7%</td>\n",
       "      <td id=\"T_8da80_row0_col6\" class=\"data row0 col6\" >0.6%</td>\n",
       "      <td id=\"T_8da80_row0_col7\" class=\"data row0 col7\" >0.5%</td>\n",
       "    </tr>\n",
       "    <tr>\n",
       "      <th id=\"T_8da80_level0_row1\" class=\"row_heading level0 row1\" >CA</th>\n",
       "      <td id=\"T_8da80_row1_col0\" class=\"data row1 col0\" >58.7%</td>\n",
       "      <td id=\"T_8da80_row1_col1\" class=\"data row1 col1\" >2.5%</td>\n",
       "      <td id=\"T_8da80_row1_col2\" class=\"data row1 col2\" >27.1%</td>\n",
       "      <td id=\"T_8da80_row1_col3\" class=\"data row1 col3\" >11.4%</td>\n",
       "      <td id=\"T_8da80_row1_col4\" class=\"data row1 col4\" >0.1%</td>\n",
       "      <td id=\"T_8da80_row1_col5\" class=\"data row1 col5\" >0.0%</td>\n",
       "      <td id=\"T_8da80_row1_col6\" class=\"data row1 col6\" >0.1%</td>\n",
       "      <td id=\"T_8da80_row1_col7\" class=\"data row1 col7\" >0.1%</td>\n",
       "    </tr>\n",
       "    <tr>\n",
       "      <th id=\"T_8da80_level0_row2\" class=\"row_heading level0 row2\" >KA</th>\n",
       "      <td id=\"T_8da80_row2_col0\" class=\"data row2 col0\" >54.0%</td>\n",
       "      <td id=\"T_8da80_row2_col1\" class=\"data row2 col1\" >29.1%</td>\n",
       "      <td id=\"T_8da80_row2_col2\" class=\"data row2 col2\" >11.2%</td>\n",
       "      <td id=\"T_8da80_row2_col3\" class=\"data row2 col3\" >4.0%</td>\n",
       "      <td id=\"T_8da80_row2_col4\" class=\"data row2 col4\" >0.1%</td>\n",
       "      <td id=\"T_8da80_row2_col5\" class=\"data row2 col5\" >0.0%</td>\n",
       "      <td id=\"T_8da80_row2_col6\" class=\"data row2 col6\" >0.7%</td>\n",
       "      <td id=\"T_8da80_row2_col7\" class=\"data row2 col7\" >0.9%</td>\n",
       "    </tr>\n",
       "    <tr>\n",
       "      <th id=\"T_8da80_level0_row3\" class=\"row_heading level0 row3\" >JB</th>\n",
       "      <td id=\"T_8da80_row3_col0\" class=\"data row3 col0\" >53.2%</td>\n",
       "      <td id=\"T_8da80_row3_col1\" class=\"data row3 col1\" >33.8%</td>\n",
       "      <td id=\"T_8da80_row3_col2\" class=\"data row3 col2\" >10.4%</td>\n",
       "      <td id=\"T_8da80_row3_col3\" class=\"data row3 col3\" >1.5%</td>\n",
       "      <td id=\"T_8da80_row3_col4\" class=\"data row3 col4\" >0.2%</td>\n",
       "      <td id=\"T_8da80_row3_col5\" class=\"data row3 col5\" >0.0%</td>\n",
       "      <td id=\"T_8da80_row3_col6\" class=\"data row3 col6\" >0.0%</td>\n",
       "      <td id=\"T_8da80_row3_col7\" class=\"data row3 col7\" >0.8%</td>\n",
       "    </tr>\n",
       "    <tr>\n",
       "      <th id=\"T_8da80_level0_row4\" class=\"row_heading level0 row4\" >BA</th>\n",
       "      <td id=\"T_8da80_row4_col0\" class=\"data row4 col0\" >43.5%</td>\n",
       "      <td id=\"T_8da80_row4_col1\" class=\"data row4 col1\" >40.3%</td>\n",
       "      <td id=\"T_8da80_row4_col2\" class=\"data row4 col2\" >7.7%</td>\n",
       "      <td id=\"T_8da80_row4_col3\" class=\"data row4 col3\" >3.5%</td>\n",
       "      <td id=\"T_8da80_row4_col4\" class=\"data row4 col4\" >0.2%</td>\n",
       "      <td id=\"T_8da80_row4_col5\" class=\"data row4 col5\" >1.8%</td>\n",
       "      <td id=\"T_8da80_row4_col6\" class=\"data row4 col6\" >2.4%</td>\n",
       "      <td id=\"T_8da80_row4_col7\" class=\"data row4 col7\" >0.5%</td>\n",
       "    </tr>\n",
       "    <tr>\n",
       "      <th id=\"T_8da80_level0_row5\" class=\"row_heading level0 row5\" >KB</th>\n",
       "      <td id=\"T_8da80_row5_col0\" class=\"data row5 col0\" >42.0%</td>\n",
       "      <td id=\"T_8da80_row5_col1\" class=\"data row5 col1\" >40.0%</td>\n",
       "      <td id=\"T_8da80_row5_col2\" class=\"data row5 col2\" >10.5%</td>\n",
       "      <td id=\"T_8da80_row5_col3\" class=\"data row5 col3\" >5.5%</td>\n",
       "      <td id=\"T_8da80_row5_col4\" class=\"data row5 col4\" >0.2%</td>\n",
       "      <td id=\"T_8da80_row5_col5\" class=\"data row5 col5\" >0.9%</td>\n",
       "      <td id=\"T_8da80_row5_col6\" class=\"data row5 col6\" >0.5%</td>\n",
       "      <td id=\"T_8da80_row5_col7\" class=\"data row5 col7\" >0.5%</td>\n",
       "    </tr>\n",
       "  </tbody>\n",
       "</table>\n"
      ],
      "text/plain": [
       "<pandas.io.formats.style.Styler at 0x26e88703b80>"
      ]
     },
     "execution_count": 10,
     "metadata": {},
     "output_type": "execute_result"
    }
   ],
   "source": [
    "ct_data[[\"main\", \"CA\", \"KA\", \"JB\", \"BA\", \"KB\"]].T.style.format(precision=2, formatter='{:.1%}').apply(lambda row: row_enhance(row, \"JB\"), axis=1)"
   ]
  },
  {
   "cell_type": "code",
   "execution_count": 12,
   "metadata": {},
   "outputs": [
    {
     "data": {
      "application/vnd.plotly.v1+json": {
       "config": {
        "plotlyServerURL": "https://plot.ly"
       },
       "data": [
        {
         "fill": "toself",
         "hovertemplate": "%{meta:.2f}",
         "legendgroup": "main",
         "line": {
          "color": "red",
          "width": 0
         },
         "marker": {
          "size": 0.1
         },
         "meta": [
          0.5006674252556911,
          46.74174701721465,
          0.46617558008770354,
          8.350771570128321,
          1.294293946592671,
          3.114326020268966,
          7753.796342802388,
          0.5920070338949239,
          54696.87042293725
         ],
         "mode": "lines+markers",
         "name": "main",
         "opacity": 0.2,
         "r": [
          1,
          1,
          1,
          1,
          1,
          1,
          1,
          1,
          1
         ],
         "showlegend": true,
         "subplot": "polar",
         "theta": [
          "女性占比",
          "Avg年齡",
          "未婚占比",
          "Avg車齡",
          "Avg車數",
          "Avg連續通路使用",
          "保費/人",
          "總賠付/總保費",
          "賠付金/人"
         ],
         "type": "scatterpolar"
        },
        {
         "hovertemplate": "%{meta:.2f}",
         "legendgroup": "KA",
         "line": {
          "color": "rgb(229, 134, 6)",
          "width": 1
         },
         "meta": [
          0.498747857412626,
          47.97508497719416,
          0.45837715348188607,
          9.78420706775701,
          1.4269254234333693,
          3.4662153917666543,
          8250.168002091747,
          0.6288768816456086,
          55106.09991360158
         ],
         "mode": "lines+markers",
         "name": "KA",
         "r": [
          0.9961659821545515,
          1.0263862187163282,
          0.9832714819503194,
          1.1716530605095525,
          1.1024739991945884,
          1.1129905376660911,
          1.0640165974632705,
          1.0622794082497824,
          1.0074817715803484
         ],
         "showlegend": true,
         "subplot": "polar",
         "theta": [
          "女性占比",
          "Avg年齡",
          "未婚占比",
          "Avg車齡",
          "Avg車數",
          "Avg連續通路使用",
          "保費/人",
          "總賠付/總保費",
          "賠付金/人"
         ],
         "type": "scatterpolar"
        },
        {
         "hovertemplate": "%{meta:.2f}",
         "legendgroup": "KB",
         "line": {
          "color": "rgb(93, 105, 177)",
          "width": 1
         },
         "meta": [
          0.4840749683799011,
          45.20820397838335,
          0.6066603426468897,
          8.716614190004972,
          1.3608715649074394,
          2.801167069104289,
          6651.335819822927,
          0.6020277019371347,
          57633.92035581299
         ],
         "mode": "lines+markers",
         "name": "KB",
         "r": [
          0.9668593240965973,
          0.9671911484552235,
          1.3013559022820462,
          1.0438094392601172,
          1.0514393337696117,
          0.8994456748822875,
          0.857816677890587,
          1.0169266030105808,
          1.05369685523441
         ],
         "showlegend": true,
         "subplot": "polar",
         "theta": [
          "女性占比",
          "Avg年齡",
          "未婚占比",
          "Avg車齡",
          "Avg車數",
          "Avg連續通路使用",
          "保費/人",
          "總賠付/總保費",
          "賠付金/人"
         ],
         "type": "scatterpolar",
         "visible": "legendonly"
        },
        {
         "hovertemplate": "%{meta:.2f}",
         "legendgroup": "CA",
         "line": {
          "color": "rgb(82, 188, 163)",
          "width": 1
         },
         "meta": [
          0.5150565785582053,
          49.82712046358269,
          0.33952612034308627,
          5.928449744463373,
          1.1794192071333895,
          3.5762632956873226,
          10814.277251366539,
          0.5267646533297942,
          56430.470511638
         ],
         "mode": "lines+markers",
         "name": "CA",
         "r": [
          1.0287399430773145,
          1.0660089458194988,
          0.7283224065044545,
          0.709928381428864,
          0.9112452470617682,
          1.1483265632473705,
          1.394707414698234,
          0.8897945854867837,
          1.0316946851857498
         ],
         "showlegend": true,
         "subplot": "polar",
         "theta": [
          "女性占比",
          "Avg年齡",
          "未婚占比",
          "Avg車齡",
          "Avg車數",
          "Avg連續通路使用",
          "保費/人",
          "總賠付/總保費",
          "賠付金/人"
         ],
         "type": "scatterpolar",
         "visible": "legendonly"
        },
        {
         "hovertemplate": "%{meta:.2f}",
         "legendgroup": "JB",
         "line": {
          "color": "rgb(153, 201, 69)",
          "width": 1
         },
         "meta": [
          0.5051849599809654,
          45.54482065788517,
          0.2939333654983708,
          8.926507138937605,
          1.3456441709681897,
          2.8995723812482237,
          6589.754697527478,
          0.648092551619207,
          48927.118573483756
         ],
         "mode": "lines+markers",
         "name": "JB",
         "r": [
          1.0090230250609318,
          0.9743927765710455,
          0.6305207266392459,
          1.0689439968479988,
          1.0396743139459952,
          0.931043301946212,
          0.8498746170505943,
          1.0947379245737776,
          0.8945140406601044
         ],
         "showlegend": true,
         "subplot": "polar",
         "theta": [
          "女性占比",
          "Avg年齡",
          "未婚占比",
          "Avg車齡",
          "Avg車數",
          "Avg連續通路使用",
          "保費/人",
          "總賠付/總保費",
          "賠付金/人"
         ],
         "type": "scatterpolar"
        },
        {
         "hovertemplate": "%{meta:.2f}",
         "legendgroup": "BA",
         "line": {
          "color": "rgb(204, 97, 176)",
          "width": 1
         },
         "meta": [
          0.5276228455437897,
          45.8645937182838,
          0.6445540197055839,
          8.907319926548988,
          1.3163132415415981,
          2.772586425241829,
          7349.1990946568585,
          0.6125524364131532,
          57302.223505201786
         ],
         "mode": "lines+markers",
         "name": "BA",
         "r": [
          1.053838973594762,
          0.9812340497541138,
          1.3826421786922456,
          1.0666463394126962,
          1.0170125920830384,
          0.890268522690626,
          0.9478194641362867,
          1.0347046594751708,
          1.0476325804770719
         ],
         "showlegend": true,
         "subplot": "polar",
         "theta": [
          "女性占比",
          "Avg年齡",
          "未婚占比",
          "Avg車齡",
          "Avg車數",
          "Avg連續通路使用",
          "保費/人",
          "總賠付/總保費",
          "賠付金/人"
         ],
         "type": "scatterpolar",
         "visible": "legendonly"
        },
        {
         "fill": "toself",
         "hovertemplate": "%{meta:.2f}",
         "legendgroup": "main",
         "line": {
          "color": "red",
          "width": 0
         },
         "marker": {
          "size": 0.1
         },
         "meta": [
          1,
          0.019133744568436042,
          0.0211353549065405,
          0.02506271668030796,
          0.05019463797336953
         ],
         "mode": "lines+markers",
         "name": "main",
         "opacity": 0.2,
         "r": [
          1,
          1,
          1,
          1,
          1
         ],
         "showlegend": false,
         "subplot": "polar2",
         "theta": [
          "車險(任意)",
          "住火",
          "團傷",
          "個傷",
          "旅平"
         ],
         "type": "scatterpolar"
        },
        {
         "hovertemplate": "%{meta:.2f}",
         "legendgroup": "KA",
         "line": {
          "color": "rgb(229, 134, 6)",
          "width": 1
         },
         "meta": [
          1,
          0.03197466662793062,
          0.02751227448360013,
          0.03816274948432643,
          0.07286830713808432
         ],
         "mode": "lines+markers",
         "name": "KA",
         "r": [
          1,
          1.6711139063013098,
          1.3017181213780442,
          1.5226900567531572,
          1.4517149655854509
         ],
         "showlegend": false,
         "subplot": "polar2",
         "theta": [
          "車險(任意)",
          "住火",
          "團傷",
          "個傷",
          "旅平"
         ],
         "type": "scatterpolar"
        },
        {
         "hovertemplate": "%{meta:.2f}",
         "legendgroup": "KB",
         "line": {
          "color": "rgb(93, 105, 177)",
          "width": 1
         },
         "meta": [
          1,
          0.01660055191445326,
          0.02761009543520754,
          0.028846153846153848,
          0.037901000344946534
         ],
         "mode": "lines+markers",
         "name": "KB",
         "r": [
          1,
          0.8676060169549008,
          1.3063464302964405,
          1.1509587812888047,
          0.755080659512968
         ],
         "showlegend": false,
         "subplot": "polar2",
         "theta": [
          "車險(任意)",
          "住火",
          "團傷",
          "個傷",
          "旅平"
         ],
         "type": "scatterpolar",
         "visible": "legendonly"
        },
        {
         "hovertemplate": "%{meta:.2f}",
         "legendgroup": "CA",
         "line": {
          "color": "rgb(82, 188, 163)",
          "width": 1
         },
         "meta": [
          1,
          0.009864277185641205,
          0.016776391460088292,
          0.01047223652356801,
          0.025698605527500574
         ],
         "mode": "lines+markers",
         "name": "CA",
         "r": [
          1,
          0.5155434761010553,
          0.7937596285594762,
          0.4178412363331767,
          0.51197909906502
         ],
         "showlegend": false,
         "subplot": "polar2",
         "theta": [
          "車險(任意)",
          "住火",
          "團傷",
          "個傷",
          "旅平"
         ],
         "type": "scatterpolar",
         "visible": "legendonly"
        },
        {
         "hovertemplate": "%{meta:.2f}",
         "legendgroup": "JB",
         "line": {
          "color": "rgb(153, 201, 69)",
          "width": 1
         },
         "meta": [
          1,
          0.01910074486295711,
          0.016622274508767177,
          0.015776289961203678,
          0.06907992571198192
         ],
         "mode": "lines+markers",
         "name": "JB",
         "r": [
          1,
          0.9982753137860234,
          0.7864677258683404,
          0.6294724615228673,
          1.376241138518259
         ],
         "showlegend": false,
         "subplot": "polar2",
         "theta": [
          "車險(任意)",
          "住火",
          "團傷",
          "個傷",
          "旅平"
         ],
         "type": "scatterpolar"
        },
        {
         "hovertemplate": "%{meta:.2f}",
         "legendgroup": "BA",
         "line": {
          "color": "rgb(204, 97, 176)",
          "width": 1
         },
         "meta": [
          1,
          0.020882170667960016,
          0.01879844439055497,
          0.03809087561411545,
          0.04309361499564394
         ],
         "mode": "lines+markers",
         "name": "BA",
         "r": [
          1,
          1.0913791910031172,
          0.8894312148379229,
          1.5198222962015866,
          0.8585302481613076
         ],
         "showlegend": false,
         "subplot": "polar2",
         "theta": [
          "車險(任意)",
          "住火",
          "團傷",
          "個傷",
          "旅平"
         ],
         "type": "scatterpolar",
         "visible": "legendonly"
        },
        {
         "fill": "toself",
         "hovertemplate": "%{meta:.2f}",
         "legendgroup": "main",
         "line": {
          "color": "red",
          "width": 0
         },
         "marker": {
          "size": 0.1
         },
         "meta": [
          0.502687474926136,
          0.2589972227578701,
          0.13630097059403723,
          0.05131580988857785,
          0.032120035374927684,
          0.006651638971821964,
          0.006441073926062855,
          0.005485773560566265
         ],
         "mode": "lines+markers",
         "name": "main",
         "opacity": 0.2,
         "r": [
          1,
          1,
          1,
          1,
          1,
          1,
          1,
          1
         ],
         "showlegend": false,
         "subplot": "polar3",
         "theta": [
          "小客車",
          "機車",
          "進口車",
          "小貨車",
          "未填",
          "電動自行車",
          "其他",
          "大型重機"
         ],
         "type": "scatterpolar"
        },
        {
         "hovertemplate": "%{meta:.2f}",
         "legendgroup": "KA",
         "line": {
          "color": "rgb(229, 134, 6)",
          "width": 1
         },
         "meta": [
          0.5401038082782317,
          0.2912054610992376,
          0.11159617759509304,
          0.0400696308380764,
          0.0013989965503570403,
          0.00032810342549090195,
          0.0065802964779008676,
          0.008717525735612438
         ],
         "mode": "lines+markers",
         "name": "KA",
         "r": [
          1.0744325952374159,
          1.1243574660701214,
          0.8187482239394636,
          0.7808437774845549,
          0.04355526181795776,
          0.049326703821544075,
          1.0216148042137303,
          1.589115124670326
         ],
         "showlegend": false,
         "subplot": "polar3",
         "theta": [
          "小客車",
          "機車",
          "進口車",
          "小貨車",
          "未填",
          "電動自行車",
          "其他",
          "大型重機"
         ],
         "type": "scatterpolar"
        },
        {
         "hovertemplate": "%{meta:.2f}",
         "legendgroup": "KB",
         "line": {
          "color": "rgb(93, 105, 177)",
          "width": 1
         },
         "meta": [
          0.4198603183606906,
          0.3995698467283535,
          0.1051984731922336,
          0.055199064062112245,
          0.001642618262606209,
          0.009004856950402382,
          0.004904219992673213,
          0.004620602450928256
         ],
         "mode": "lines+markers",
         "name": "KB",
         "r": [
          0.8352313103133993,
          1.5427572638564588,
          0.771810154643431,
          1.0756736409688576,
          0.051139989213349585,
          1.3537801718567783,
          0.7613978738590487,
          0.8422882205971509
         ],
         "showlegend": false,
         "subplot": "polar3",
         "theta": [
          "小客車",
          "機車",
          "進口車",
          "小貨車",
          "未填",
          "電動自行車",
          "其他",
          "大型重機"
         ],
         "type": "scatterpolar",
         "visible": "legendonly"
        },
        {
         "hovertemplate": "%{meta:.2f}",
         "legendgroup": "CA",
         "line": {
          "color": "rgb(82, 188, 163)",
          "width": 1
         },
         "meta": [
          0.5871572544034864,
          0.025059015798075176,
          0.2712048302160886,
          0.11415925186126748,
          0.000703649900127111,
          0.00039041220265117126,
          0.0006627928091519884,
          0.0006627928091519884
         ],
         "mode": "lines+markers",
         "name": "CA",
         "r": [
          1.1680363718824749,
          0.0967539942368502,
          1.9897498090740156,
          2.2246409461166405,
          0.021906884345350607,
          0.058694136032496166,
          0.10290097843312977,
          0.12082030033401017
         ],
         "showlegend": false,
         "subplot": "polar3",
         "theta": [
          "小客車",
          "機車",
          "進口車",
          "小貨車",
          "未填",
          "電動自行車",
          "其他",
          "大型重機"
         ],
         "type": "scatterpolar",
         "visible": "legendonly"
        },
        {
         "hovertemplate": "%{meta:.2f}",
         "legendgroup": "JB",
         "line": {
          "color": "rgb(153, 201, 69)",
          "width": 1
         },
         "meta": [
          0.5320204183507512,
          0.3377562358094073,
          0.10372350418404427,
          0.015496261466535698,
          0.002259759638867866,
          0.0003059532052623951,
          0.00031668840544704055,
          0.008121178939684278
         ],
         "mode": "lines+markers",
         "name": "JB",
         "r": [
          1.05835224645079,
          1.3040921142431203,
          0.7609887422810611,
          0.30197830844300755,
          0.07035358499735007,
          0.04599666436475142,
          0.049167019208645885,
          1.480407247951732
         ],
         "showlegend": false,
         "subplot": "polar3",
         "theta": [
          "小客車",
          "機車",
          "進口車",
          "小貨車",
          "未填",
          "電動自行車",
          "其他",
          "大型重機"
         ],
         "type": "scatterpolar"
        },
        {
         "hovertemplate": "%{meta:.2f}",
         "legendgroup": "BA",
         "line": {
          "color": "rgb(204, 97, 176)",
          "width": 1
         },
         "meta": [
          0.4351644452329733,
          0.40316988608221893,
          0.07682981821945252,
          0.03522506339032919,
          0.001604163432466198,
          0.018377651120327042,
          0.024217693109489697,
          0.00541127941274312
         ],
         "mode": "lines+markers",
         "name": "BA",
         "r": [
          0.8656759257765785,
          1.5566571787494885,
          0.5636777044551259,
          0.686436859650339,
          0.049942766679465705,
          2.762875615796265,
          3.759884358957033,
          0.9864204843673031
         ],
         "showlegend": false,
         "subplot": "polar3",
         "theta": [
          "小客車",
          "機車",
          "進口車",
          "小貨車",
          "未填",
          "電動自行車",
          "其他",
          "大型重機"
         ],
         "type": "scatterpolar",
         "visible": "legendonly"
        }
       ],
       "layout": {
        "annotations": [
         {
          "font": {
           "size": 16
          },
          "showarrow": false,
          "text": "歷年曾買過的險別(人數%)",
          "x": 0.5,
          "xanchor": "center",
          "xref": "paper",
          "y": 1,
          "yanchor": "bottom",
          "yref": "paper"
         },
         {
          "font": {
           "size": 16
          },
          "showarrow": false,
          "text": "此年投保車種(保單%)",
          "x": 0.8555555555555556,
          "xanchor": "center",
          "xref": "paper",
          "y": 1,
          "yanchor": "bottom",
          "yref": "paper"
         }
        ],
        "polar": {
         "domain": {
          "x": [
           0,
           0.2888888888888889
          ],
          "y": [
           0,
           1
          ]
         }
        },
        "polar2": {
         "domain": {
          "x": [
           0.35555555555555557,
           0.6444444444444445
          ],
          "y": [
           0,
           1
          ]
         }
        },
        "polar3": {
         "domain": {
          "x": [
           0.7111111111111111,
           1
          ],
          "y": [
           0,
           1
          ]
         }
        },
        "template": {
         "data": {
          "bar": [
           {
            "error_x": {
             "color": "#2a3f5f"
            },
            "error_y": {
             "color": "#2a3f5f"
            },
            "marker": {
             "line": {
              "color": "#E5ECF6",
              "width": 0.5
             },
             "pattern": {
              "fillmode": "overlay",
              "size": 10,
              "solidity": 0.2
             }
            },
            "type": "bar"
           }
          ],
          "barpolar": [
           {
            "marker": {
             "line": {
              "color": "#E5ECF6",
              "width": 0.5
             },
             "pattern": {
              "fillmode": "overlay",
              "size": 10,
              "solidity": 0.2
             }
            },
            "type": "barpolar"
           }
          ],
          "carpet": [
           {
            "aaxis": {
             "endlinecolor": "#2a3f5f",
             "gridcolor": "white",
             "linecolor": "white",
             "minorgridcolor": "white",
             "startlinecolor": "#2a3f5f"
            },
            "baxis": {
             "endlinecolor": "#2a3f5f",
             "gridcolor": "white",
             "linecolor": "white",
             "minorgridcolor": "white",
             "startlinecolor": "#2a3f5f"
            },
            "type": "carpet"
           }
          ],
          "choropleth": [
           {
            "colorbar": {
             "outlinewidth": 0,
             "ticks": ""
            },
            "type": "choropleth"
           }
          ],
          "contour": [
           {
            "colorbar": {
             "outlinewidth": 0,
             "ticks": ""
            },
            "colorscale": [
             [
              0,
              "#0d0887"
             ],
             [
              0.1111111111111111,
              "#46039f"
             ],
             [
              0.2222222222222222,
              "#7201a8"
             ],
             [
              0.3333333333333333,
              "#9c179e"
             ],
             [
              0.4444444444444444,
              "#bd3786"
             ],
             [
              0.5555555555555556,
              "#d8576b"
             ],
             [
              0.6666666666666666,
              "#ed7953"
             ],
             [
              0.7777777777777778,
              "#fb9f3a"
             ],
             [
              0.8888888888888888,
              "#fdca26"
             ],
             [
              1,
              "#f0f921"
             ]
            ],
            "type": "contour"
           }
          ],
          "contourcarpet": [
           {
            "colorbar": {
             "outlinewidth": 0,
             "ticks": ""
            },
            "type": "contourcarpet"
           }
          ],
          "heatmap": [
           {
            "colorbar": {
             "outlinewidth": 0,
             "ticks": ""
            },
            "colorscale": [
             [
              0,
              "#0d0887"
             ],
             [
              0.1111111111111111,
              "#46039f"
             ],
             [
              0.2222222222222222,
              "#7201a8"
             ],
             [
              0.3333333333333333,
              "#9c179e"
             ],
             [
              0.4444444444444444,
              "#bd3786"
             ],
             [
              0.5555555555555556,
              "#d8576b"
             ],
             [
              0.6666666666666666,
              "#ed7953"
             ],
             [
              0.7777777777777778,
              "#fb9f3a"
             ],
             [
              0.8888888888888888,
              "#fdca26"
             ],
             [
              1,
              "#f0f921"
             ]
            ],
            "type": "heatmap"
           }
          ],
          "heatmapgl": [
           {
            "colorbar": {
             "outlinewidth": 0,
             "ticks": ""
            },
            "colorscale": [
             [
              0,
              "#0d0887"
             ],
             [
              0.1111111111111111,
              "#46039f"
             ],
             [
              0.2222222222222222,
              "#7201a8"
             ],
             [
              0.3333333333333333,
              "#9c179e"
             ],
             [
              0.4444444444444444,
              "#bd3786"
             ],
             [
              0.5555555555555556,
              "#d8576b"
             ],
             [
              0.6666666666666666,
              "#ed7953"
             ],
             [
              0.7777777777777778,
              "#fb9f3a"
             ],
             [
              0.8888888888888888,
              "#fdca26"
             ],
             [
              1,
              "#f0f921"
             ]
            ],
            "type": "heatmapgl"
           }
          ],
          "histogram": [
           {
            "marker": {
             "pattern": {
              "fillmode": "overlay",
              "size": 10,
              "solidity": 0.2
             }
            },
            "type": "histogram"
           }
          ],
          "histogram2d": [
           {
            "colorbar": {
             "outlinewidth": 0,
             "ticks": ""
            },
            "colorscale": [
             [
              0,
              "#0d0887"
             ],
             [
              0.1111111111111111,
              "#46039f"
             ],
             [
              0.2222222222222222,
              "#7201a8"
             ],
             [
              0.3333333333333333,
              "#9c179e"
             ],
             [
              0.4444444444444444,
              "#bd3786"
             ],
             [
              0.5555555555555556,
              "#d8576b"
             ],
             [
              0.6666666666666666,
              "#ed7953"
             ],
             [
              0.7777777777777778,
              "#fb9f3a"
             ],
             [
              0.8888888888888888,
              "#fdca26"
             ],
             [
              1,
              "#f0f921"
             ]
            ],
            "type": "histogram2d"
           }
          ],
          "histogram2dcontour": [
           {
            "colorbar": {
             "outlinewidth": 0,
             "ticks": ""
            },
            "colorscale": [
             [
              0,
              "#0d0887"
             ],
             [
              0.1111111111111111,
              "#46039f"
             ],
             [
              0.2222222222222222,
              "#7201a8"
             ],
             [
              0.3333333333333333,
              "#9c179e"
             ],
             [
              0.4444444444444444,
              "#bd3786"
             ],
             [
              0.5555555555555556,
              "#d8576b"
             ],
             [
              0.6666666666666666,
              "#ed7953"
             ],
             [
              0.7777777777777778,
              "#fb9f3a"
             ],
             [
              0.8888888888888888,
              "#fdca26"
             ],
             [
              1,
              "#f0f921"
             ]
            ],
            "type": "histogram2dcontour"
           }
          ],
          "mesh3d": [
           {
            "colorbar": {
             "outlinewidth": 0,
             "ticks": ""
            },
            "type": "mesh3d"
           }
          ],
          "parcoords": [
           {
            "line": {
             "colorbar": {
              "outlinewidth": 0,
              "ticks": ""
             }
            },
            "type": "parcoords"
           }
          ],
          "pie": [
           {
            "automargin": true,
            "type": "pie"
           }
          ],
          "scatter": [
           {
            "marker": {
             "colorbar": {
              "outlinewidth": 0,
              "ticks": ""
             }
            },
            "type": "scatter"
           }
          ],
          "scatter3d": [
           {
            "line": {
             "colorbar": {
              "outlinewidth": 0,
              "ticks": ""
             }
            },
            "marker": {
             "colorbar": {
              "outlinewidth": 0,
              "ticks": ""
             }
            },
            "type": "scatter3d"
           }
          ],
          "scattercarpet": [
           {
            "marker": {
             "colorbar": {
              "outlinewidth": 0,
              "ticks": ""
             }
            },
            "type": "scattercarpet"
           }
          ],
          "scattergeo": [
           {
            "marker": {
             "colorbar": {
              "outlinewidth": 0,
              "ticks": ""
             }
            },
            "type": "scattergeo"
           }
          ],
          "scattergl": [
           {
            "marker": {
             "colorbar": {
              "outlinewidth": 0,
              "ticks": ""
             }
            },
            "type": "scattergl"
           }
          ],
          "scattermapbox": [
           {
            "marker": {
             "colorbar": {
              "outlinewidth": 0,
              "ticks": ""
             }
            },
            "type": "scattermapbox"
           }
          ],
          "scatterpolar": [
           {
            "marker": {
             "colorbar": {
              "outlinewidth": 0,
              "ticks": ""
             }
            },
            "type": "scatterpolar"
           }
          ],
          "scatterpolargl": [
           {
            "marker": {
             "colorbar": {
              "outlinewidth": 0,
              "ticks": ""
             }
            },
            "type": "scatterpolargl"
           }
          ],
          "scatterternary": [
           {
            "marker": {
             "colorbar": {
              "outlinewidth": 0,
              "ticks": ""
             }
            },
            "type": "scatterternary"
           }
          ],
          "surface": [
           {
            "colorbar": {
             "outlinewidth": 0,
             "ticks": ""
            },
            "colorscale": [
             [
              0,
              "#0d0887"
             ],
             [
              0.1111111111111111,
              "#46039f"
             ],
             [
              0.2222222222222222,
              "#7201a8"
             ],
             [
              0.3333333333333333,
              "#9c179e"
             ],
             [
              0.4444444444444444,
              "#bd3786"
             ],
             [
              0.5555555555555556,
              "#d8576b"
             ],
             [
              0.6666666666666666,
              "#ed7953"
             ],
             [
              0.7777777777777778,
              "#fb9f3a"
             ],
             [
              0.8888888888888888,
              "#fdca26"
             ],
             [
              1,
              "#f0f921"
             ]
            ],
            "type": "surface"
           }
          ],
          "table": [
           {
            "cells": {
             "fill": {
              "color": "#EBF0F8"
             },
             "line": {
              "color": "white"
             }
            },
            "header": {
             "fill": {
              "color": "#C8D4E3"
             },
             "line": {
              "color": "white"
             }
            },
            "type": "table"
           }
          ]
         },
         "layout": {
          "annotationdefaults": {
           "arrowcolor": "#2a3f5f",
           "arrowhead": 0,
           "arrowwidth": 1
          },
          "autotypenumbers": "strict",
          "coloraxis": {
           "colorbar": {
            "outlinewidth": 0,
            "ticks": ""
           }
          },
          "colorscale": {
           "diverging": [
            [
             0,
             "#8e0152"
            ],
            [
             0.1,
             "#c51b7d"
            ],
            [
             0.2,
             "#de77ae"
            ],
            [
             0.3,
             "#f1b6da"
            ],
            [
             0.4,
             "#fde0ef"
            ],
            [
             0.5,
             "#f7f7f7"
            ],
            [
             0.6,
             "#e6f5d0"
            ],
            [
             0.7,
             "#b8e186"
            ],
            [
             0.8,
             "#7fbc41"
            ],
            [
             0.9,
             "#4d9221"
            ],
            [
             1,
             "#276419"
            ]
           ],
           "sequential": [
            [
             0,
             "#0d0887"
            ],
            [
             0.1111111111111111,
             "#46039f"
            ],
            [
             0.2222222222222222,
             "#7201a8"
            ],
            [
             0.3333333333333333,
             "#9c179e"
            ],
            [
             0.4444444444444444,
             "#bd3786"
            ],
            [
             0.5555555555555556,
             "#d8576b"
            ],
            [
             0.6666666666666666,
             "#ed7953"
            ],
            [
             0.7777777777777778,
             "#fb9f3a"
            ],
            [
             0.8888888888888888,
             "#fdca26"
            ],
            [
             1,
             "#f0f921"
            ]
           ],
           "sequentialminus": [
            [
             0,
             "#0d0887"
            ],
            [
             0.1111111111111111,
             "#46039f"
            ],
            [
             0.2222222222222222,
             "#7201a8"
            ],
            [
             0.3333333333333333,
             "#9c179e"
            ],
            [
             0.4444444444444444,
             "#bd3786"
            ],
            [
             0.5555555555555556,
             "#d8576b"
            ],
            [
             0.6666666666666666,
             "#ed7953"
            ],
            [
             0.7777777777777778,
             "#fb9f3a"
            ],
            [
             0.8888888888888888,
             "#fdca26"
            ],
            [
             1,
             "#f0f921"
            ]
           ]
          },
          "colorway": [
           "#636efa",
           "#EF553B",
           "#00cc96",
           "#ab63fa",
           "#FFA15A",
           "#19d3f3",
           "#FF6692",
           "#B6E880",
           "#FF97FF",
           "#FECB52"
          ],
          "font": {
           "color": "#2a3f5f"
          },
          "geo": {
           "bgcolor": "white",
           "lakecolor": "white",
           "landcolor": "#E5ECF6",
           "showlakes": true,
           "showland": true,
           "subunitcolor": "white"
          },
          "hoverlabel": {
           "align": "left"
          },
          "hovermode": "closest",
          "mapbox": {
           "style": "light"
          },
          "paper_bgcolor": "white",
          "plot_bgcolor": "#E5ECF6",
          "polar": {
           "angularaxis": {
            "gridcolor": "white",
            "linecolor": "white",
            "ticks": ""
           },
           "bgcolor": "#E5ECF6",
           "radialaxis": {
            "gridcolor": "white",
            "linecolor": "white",
            "ticks": ""
           }
          },
          "scene": {
           "xaxis": {
            "backgroundcolor": "#E5ECF6",
            "gridcolor": "white",
            "gridwidth": 2,
            "linecolor": "white",
            "showbackground": true,
            "ticks": "",
            "zerolinecolor": "white"
           },
           "yaxis": {
            "backgroundcolor": "#E5ECF6",
            "gridcolor": "white",
            "gridwidth": 2,
            "linecolor": "white",
            "showbackground": true,
            "ticks": "",
            "zerolinecolor": "white"
           },
           "zaxis": {
            "backgroundcolor": "#E5ECF6",
            "gridcolor": "white",
            "gridwidth": 2,
            "linecolor": "white",
            "showbackground": true,
            "ticks": "",
            "zerolinecolor": "white"
           }
          },
          "shapedefaults": {
           "line": {
            "color": "#2a3f5f"
           }
          },
          "ternary": {
           "aaxis": {
            "gridcolor": "white",
            "linecolor": "white",
            "ticks": ""
           },
           "baxis": {
            "gridcolor": "white",
            "linecolor": "white",
            "ticks": ""
           },
           "bgcolor": "#E5ECF6",
           "caxis": {
            "gridcolor": "white",
            "linecolor": "white",
            "ticks": ""
           }
          },
          "title": {
           "x": 0.05
          },
          "xaxis": {
           "automargin": true,
           "gridcolor": "white",
           "linecolor": "white",
           "ticks": "",
           "title": {
            "standoff": 15
           },
           "zerolinecolor": "white",
           "zerolinewidth": 2
          },
          "yaxis": {
           "automargin": true,
           "gridcolor": "white",
           "linecolor": "white",
           "ticks": "",
           "title": {
            "standoff": 15
           },
           "zerolinecolor": "white",
           "zerolinewidth": 2
          }
         }
        },
        "title": {
         "text": "<b>2020年 使用各通路族群描述: </b>"
        }
       }
      }
     },
     "metadata": {},
     "output_type": "display_data"
    }
   ],
   "source": [
    "radar_dict['agg']"
   ]
  },
  {
   "cell_type": "markdown",
   "metadata": {},
   "source": [
    "\n",
    "***\n",
    "### **考慮**前一年使用的通路\n",
    "\n",
    "例: 2019年使用 {KA} 買過車險的客戶，2020年轉移去使用 {JB, KB, CA, ...} 的客戶特徵有甚麼不同？\n"
   ]
  },
  {
   "cell_type": "markdown",
   "metadata": {},
   "source": [
    "##### - 從KA出發\n",
    "KA→JB(改變行為) v.s. KA→KA(未改變行為):"
   ]
  },
  {
   "cell_type": "code",
   "execution_count": 47,
   "metadata": {},
   "outputs": [
    {
     "data": {
      "text/html": [
       "<style type=\"text/css\">\n",
       "#T_e0f67_row0_col0, #T_e0f67_row0_col1, #T_e0f67_row0_col2, #T_e0f67_row0_col3, #T_e0f67_row0_col4, #T_e0f67_row0_col5, #T_e0f67_row0_col6, #T_e0f67_row0_col7, #T_e0f67_row0_col8, #T_e0f67_row1_col0, #T_e0f67_row1_col1, #T_e0f67_row1_col2, #T_e0f67_row1_col3, #T_e0f67_row1_col4, #T_e0f67_row1_col5, #T_e0f67_row1_col6, #T_e0f67_row1_col7, #T_e0f67_row1_col8 {\n",
       "  background-color: None;\n",
       "}\n",
       "#T_e0f67_row2_col0, #T_e0f67_row2_col1, #T_e0f67_row2_col2, #T_e0f67_row2_col3, #T_e0f67_row2_col4, #T_e0f67_row2_col5, #T_e0f67_row2_col6, #T_e0f67_row2_col7, #T_e0f67_row2_col8 {\n",
       "  background-color: #A0B0AA;\n",
       "  color: black;\n",
       "}\n",
       "#T_e0f67_row3_col0 {\n",
       "  background-color: None;\n",
       "  background-color: #f3c8b2;\n",
       "  color: #000000;\n",
       "}\n",
       "#T_e0f67_row3_col1 {\n",
       "  background-color: None;\n",
       "  background-color: #ead4c8;\n",
       "  color: #000000;\n",
       "}\n",
       "#T_e0f67_row3_col2 {\n",
       "  background-color: None;\n",
       "  background-color: #93b5fe;\n",
       "  color: #000000;\n",
       "}\n",
       "#T_e0f67_row3_col3 {\n",
       "  background-color: None;\n",
       "  background-color: #e4d9d2;\n",
       "  color: #000000;\n",
       "}\n",
       "#T_e0f67_row3_col4 {\n",
       "  background-color: None;\n",
       "  background-color: #b40426;\n",
       "  color: #f1f1f1;\n",
       "}\n",
       "#T_e0f67_row3_col5 {\n",
       "  background-color: None;\n",
       "  background-color: #3b4cc0;\n",
       "  color: #f1f1f1;\n",
       "}\n",
       "#T_e0f67_row3_col6 {\n",
       "  background-color: None;\n",
       "  background-color: #f08a6c;\n",
       "  color: #f1f1f1;\n",
       "}\n",
       "#T_e0f67_row3_col7 {\n",
       "  background-color: None;\n",
       "  background-color: #edd2c3;\n",
       "  color: #000000;\n",
       "}\n",
       "#T_e0f67_row3_col8 {\n",
       "  background-color: None;\n",
       "  background-color: #c9d7f0;\n",
       "  color: #000000;\n",
       "}\n",
       "</style>\n",
       "<table id=\"T_e0f67_\">\n",
       "  <thead>\n",
       "    <tr>\n",
       "      <th class=\"index_name level0\" >ft_name</th>\n",
       "      <th class=\"col_heading level0 col0\" >女性占比</th>\n",
       "      <th class=\"col_heading level0 col1\" >Avg年齡</th>\n",
       "      <th class=\"col_heading level0 col2\" >未婚占比</th>\n",
       "      <th class=\"col_heading level0 col3\" >Avg車齡</th>\n",
       "      <th class=\"col_heading level0 col4\" >Avg車數</th>\n",
       "      <th class=\"col_heading level0 col5\" >Avg連續通路使用</th>\n",
       "      <th class=\"col_heading level0 col6\" >保費/人</th>\n",
       "      <th class=\"col_heading level0 col7\" >總賠付/總保費</th>\n",
       "      <th class=\"col_heading level0 col8\" >賠付金/人</th>\n",
       "    </tr>\n",
       "  </thead>\n",
       "  <tbody>\n",
       "    <tr>\n",
       "      <th id=\"T_e0f67_level0_row0\" class=\"row_heading level0 row0\" >main</th>\n",
       "      <td id=\"T_e0f67_row0_col0\" class=\"data row0 col0\" >50.1%</td>\n",
       "      <td id=\"T_e0f67_row0_col1\" class=\"data row0 col1\" >46.7</td>\n",
       "      <td id=\"T_e0f67_row0_col2\" class=\"data row0 col2\" >46.6%</td>\n",
       "      <td id=\"T_e0f67_row0_col3\" class=\"data row0 col3\" >8.35</td>\n",
       "      <td id=\"T_e0f67_row0_col4\" class=\"data row0 col4\" >1.29</td>\n",
       "      <td id=\"T_e0f67_row0_col5\" class=\"data row0 col5\" >3.11</td>\n",
       "      <td id=\"T_e0f67_row0_col6\" class=\"data row0 col6\" >7,754</td>\n",
       "      <td id=\"T_e0f67_row0_col7\" class=\"data row0 col7\" >59.2%</td>\n",
       "      <td id=\"T_e0f67_row0_col8\" class=\"data row0 col8\" >54,697</td>\n",
       "    </tr>\n",
       "    <tr>\n",
       "      <th id=\"T_e0f67_level0_row1\" class=\"row_heading level0 row1\" >('KA', 'KA')</th>\n",
       "      <td id=\"T_e0f67_row1_col0\" class=\"data row1 col0\" >50.6%</td>\n",
       "      <td id=\"T_e0f67_row1_col1\" class=\"data row1 col1\" >49.2</td>\n",
       "      <td id=\"T_e0f67_row1_col2\" class=\"data row1 col2\" >41.3%</td>\n",
       "      <td id=\"T_e0f67_row1_col3\" class=\"data row1 col3\" >10.39</td>\n",
       "      <td id=\"T_e0f67_row1_col4\" class=\"data row1 col4\" >1.49</td>\n",
       "      <td id=\"T_e0f67_row1_col5\" class=\"data row1 col5\" >4.10</td>\n",
       "      <td id=\"T_e0f67_row1_col6\" class=\"data row1 col6\" >8,157</td>\n",
       "      <td id=\"T_e0f67_row1_col7\" class=\"data row1 col7\" >61.1%</td>\n",
       "      <td id=\"T_e0f67_row1_col8\" class=\"data row1 col8\" >53,146</td>\n",
       "    </tr>\n",
       "    <tr>\n",
       "      <th id=\"T_e0f67_level0_row2\" class=\"row_heading level0 row2\" >('KA', 'JB')</th>\n",
       "      <td id=\"T_e0f67_row2_col0\" class=\"data row2 col0\" >51.1%</td>\n",
       "      <td id=\"T_e0f67_row2_col1\" class=\"data row2 col1\" >47.6</td>\n",
       "      <td id=\"T_e0f67_row2_col2\" class=\"data row2 col2\" >30.7%</td>\n",
       "      <td id=\"T_e0f67_row2_col3\" class=\"data row2 col3\" >9.84</td>\n",
       "      <td id=\"T_e0f67_row2_col4\" class=\"data row2 col4\" >1.95</td>\n",
       "      <td id=\"T_e0f67_row2_col5\" class=\"data row2 col5\" >2.20</td>\n",
       "      <td id=\"T_e0f67_row2_col6\" class=\"data row2 col6\" >9,357</td>\n",
       "      <td id=\"T_e0f67_row2_col7\" class=\"data row2 col7\" >59.7%</td>\n",
       "      <td id=\"T_e0f67_row2_col8\" class=\"data row2 col8\" >46,167</td>\n",
       "    </tr>\n",
       "    <tr>\n",
       "      <th id=\"T_e0f67_level0_row3\" class=\"row_heading level0 row3\" >('KA', 'JB')/('KA', 'KA')-1</th>\n",
       "      <td id=\"T_e0f67_row3_col0\" class=\"data row3 col0\" >1.0%</td>\n",
       "      <td id=\"T_e0f67_row3_col1\" class=\"data row3 col1\" >-3.1%</td>\n",
       "      <td id=\"T_e0f67_row3_col2\" class=\"data row3 col2\" >-25.7%</td>\n",
       "      <td id=\"T_e0f67_row3_col3\" class=\"data row3 col3\" >-5.4%</td>\n",
       "      <td id=\"T_e0f67_row3_col4\" class=\"data row3 col4\" >31.1%</td>\n",
       "      <td id=\"T_e0f67_row3_col5\" class=\"data row3 col5\" >-46.3%</td>\n",
       "      <td id=\"T_e0f67_row3_col6\" class=\"data row3 col6\" >14.7%</td>\n",
       "      <td id=\"T_e0f67_row3_col7\" class=\"data row3 col7\" >-2.4%</td>\n",
       "      <td id=\"T_e0f67_row3_col8\" class=\"data row3 col8\" >-13.1%</td>\n",
       "    </tr>\n",
       "  </tbody>\n",
       "</table>\n"
      ],
      "text/plain": [
       "<pandas.io.formats.style.Styler at 0x2007f4b1130>"
      ]
     },
     "execution_count": 47,
     "metadata": {},
     "output_type": "execute_result"
    }
   ],
   "source": [
    "# 詳細比較數字\n",
    "base, compare = \"('KA', 'KA')\", \"('KA', 'JB')\"\n",
    "compare_table(plot_data, base, compare, default_cols=[\"main\"])\n",
    "# compare_table(plot_data, \"JB\", \"('KA', 'JB')\")"
   ]
  },
  {
   "cell_type": "code",
   "execution_count": 55,
   "metadata": {},
   "outputs": [
    {
     "data": {
      "text/html": [
       "<style type=\"text/css\">\n",
       "#T_ca64e_row0_col0, #T_ca64e_row0_col1, #T_ca64e_row0_col2, #T_ca64e_row0_col3, #T_ca64e_row0_col4, #T_ca64e_row1_col0, #T_ca64e_row1_col1, #T_ca64e_row1_col2, #T_ca64e_row1_col3, #T_ca64e_row1_col4 {\n",
       "  background-color: None;\n",
       "}\n",
       "#T_ca64e_row2_col0, #T_ca64e_row2_col1, #T_ca64e_row2_col2, #T_ca64e_row2_col3, #T_ca64e_row2_col4 {\n",
       "  background-color: #A0B0AA;\n",
       "  color: black;\n",
       "}\n",
       "#T_ca64e_row3_col0 {\n",
       "  background-color: None;\n",
       "  background-color: #f39778;\n",
       "  color: #000000;\n",
       "}\n",
       "#T_ca64e_row3_col1 {\n",
       "  background-color: None;\n",
       "  background-color: #e9d5cb;\n",
       "  color: #000000;\n",
       "}\n",
       "#T_ca64e_row3_col2 {\n",
       "  background-color: None;\n",
       "  background-color: #ea7b60;\n",
       "  color: #f1f1f1;\n",
       "}\n",
       "#T_ca64e_row3_col3 {\n",
       "  background-color: None;\n",
       "  background-color: #3b4cc0;\n",
       "  color: #f1f1f1;\n",
       "}\n",
       "#T_ca64e_row3_col4 {\n",
       "  background-color: None;\n",
       "  background-color: #b40426;\n",
       "  color: #f1f1f1;\n",
       "}\n",
       "</style>\n",
       "<table id=\"T_ca64e_\">\n",
       "  <thead>\n",
       "    <tr>\n",
       "      <th class=\"index_name level0\" >ft_name</th>\n",
       "      <th class=\"col_heading level0 col0\" >車險(任意)</th>\n",
       "      <th class=\"col_heading level0 col1\" >住火</th>\n",
       "      <th class=\"col_heading level0 col2\" >團傷</th>\n",
       "      <th class=\"col_heading level0 col3\" >個傷</th>\n",
       "      <th class=\"col_heading level0 col4\" >旅平</th>\n",
       "    </tr>\n",
       "  </thead>\n",
       "  <tbody>\n",
       "    <tr>\n",
       "      <th id=\"T_ca64e_level0_row0\" class=\"row_heading level0 row0\" >main</th>\n",
       "      <td id=\"T_ca64e_row0_col0\" class=\"data row0 col0\" >1.00</td>\n",
       "      <td id=\"T_ca64e_row0_col1\" class=\"data row0 col1\" >0.02</td>\n",
       "      <td id=\"T_ca64e_row0_col2\" class=\"data row0 col2\" >0.02</td>\n",
       "      <td id=\"T_ca64e_row0_col3\" class=\"data row0 col3\" >0.03</td>\n",
       "      <td id=\"T_ca64e_row0_col4\" class=\"data row0 col4\" >0.05</td>\n",
       "    </tr>\n",
       "    <tr>\n",
       "      <th id=\"T_ca64e_level0_row1\" class=\"row_heading level0 row1\" >('KA', 'KA')</th>\n",
       "      <td id=\"T_ca64e_row1_col0\" class=\"data row1 col0\" >1.00</td>\n",
       "      <td id=\"T_ca64e_row1_col1\" class=\"data row1 col1\" >0.04</td>\n",
       "      <td id=\"T_ca64e_row1_col2\" class=\"data row1 col2\" >0.03</td>\n",
       "      <td id=\"T_ca64e_row1_col3\" class=\"data row1 col3\" >0.04</td>\n",
       "      <td id=\"T_ca64e_row1_col4\" class=\"data row1 col4\" >0.08</td>\n",
       "    </tr>\n",
       "    <tr>\n",
       "      <th id=\"T_ca64e_level0_row2\" class=\"row_heading level0 row2\" >('KA', 'JB')</th>\n",
       "      <td id=\"T_ca64e_row2_col0\" class=\"data row2 col0\" >1.00</td>\n",
       "      <td id=\"T_ca64e_row2_col1\" class=\"data row2 col1\" >0.03</td>\n",
       "      <td id=\"T_ca64e_row2_col2\" class=\"data row2 col2\" >0.03</td>\n",
       "      <td id=\"T_ca64e_row2_col3\" class=\"data row2 col3\" >0.03</td>\n",
       "      <td id=\"T_ca64e_row2_col4\" class=\"data row2 col4\" >0.09</td>\n",
       "    </tr>\n",
       "    <tr>\n",
       "      <th id=\"T_ca64e_level0_row3\" class=\"row_heading level0 row3\" >('KA', 'JB')/('KA', 'KA')-1</th>\n",
       "      <td id=\"T_ca64e_row3_col0\" class=\"data row3 col0\" >0.0%</td>\n",
       "      <td id=\"T_ca64e_row3_col1\" class=\"data row3 col1\" >-9.3%</td>\n",
       "      <td id=\"T_ca64e_row3_col2\" class=\"data row3 col2\" >2.9%</td>\n",
       "      <td id=\"T_ca64e_row3_col3\" class=\"data row3 col3\" >-33.5%</td>\n",
       "      <td id=\"T_ca64e_row3_col4\" class=\"data row3 col4\" >10.8%</td>\n",
       "    </tr>\n",
       "  </tbody>\n",
       "</table>\n"
      ],
      "text/plain": [
       "<pandas.io.formats.style.Styler at 0x2007f410fd0>"
      ]
     },
     "execution_count": 55,
     "metadata": {},
     "output_type": "execute_result"
    }
   ],
   "source": [
    "base, compare = \"('KA', 'KA')\", \"('KA', 'JB')\"\n",
    "compare_table(ib_data, base, compare)\n",
    "# compare_table(ib_data, \"JB\", \"('KA', 'JB')\")"
   ]
  },
  {
   "cell_type": "code",
   "execution_count": 51,
   "metadata": {},
   "outputs": [
    {
     "data": {
      "text/html": [
       "<style type=\"text/css\">\n",
       "#T_e1dfa_row0_col0, #T_e1dfa_row0_col1, #T_e1dfa_row0_col2, #T_e1dfa_row0_col3, #T_e1dfa_row0_col4, #T_e1dfa_row0_col5, #T_e1dfa_row0_col6, #T_e1dfa_row0_col7, #T_e1dfa_row1_col0, #T_e1dfa_row1_col1, #T_e1dfa_row1_col2, #T_e1dfa_row1_col3, #T_e1dfa_row1_col4, #T_e1dfa_row1_col5, #T_e1dfa_row1_col6, #T_e1dfa_row1_col7 {\n",
       "  background-color: None;\n",
       "}\n",
       "#T_e1dfa_row2_col0, #T_e1dfa_row2_col1, #T_e1dfa_row2_col2, #T_e1dfa_row2_col3, #T_e1dfa_row2_col4, #T_e1dfa_row2_col5, #T_e1dfa_row2_col6, #T_e1dfa_row2_col7 {\n",
       "  background-color: #A0B0AA;\n",
       "  color: black;\n",
       "}\n",
       "#T_e1dfa_row3_col0 {\n",
       "  background-color: None;\n",
       "  background-color: #bbd1f8;\n",
       "  color: #000000;\n",
       "}\n",
       "#T_e1dfa_row3_col1 {\n",
       "  background-color: None;\n",
       "  background-color: #e8d6cc;\n",
       "  color: #000000;\n",
       "}\n",
       "#T_e1dfa_row3_col2 {\n",
       "  background-color: None;\n",
       "  background-color: #aac7fd;\n",
       "  color: #000000;\n",
       "}\n",
       "#T_e1dfa_row3_col3 {\n",
       "  background-color: None;\n",
       "  background-color: #4961d2;\n",
       "  color: #f1f1f1;\n",
       "}\n",
       "#T_e1dfa_row3_col4 {\n",
       "  background-color: None;\n",
       "  background-color: #d6dce4;\n",
       "  color: #000000;\n",
       "}\n",
       "#T_e1dfa_row3_col5 {\n",
       "  background-color: None;\n",
       "  background-color: #000000;\n",
       "  color: #f1f1f1;\n",
       "}\n",
       "#T_e1dfa_row3_col6 {\n",
       "  background-color: None;\n",
       "  background-color: #3b4cc0;\n",
       "  color: #f1f1f1;\n",
       "}\n",
       "#T_e1dfa_row3_col7 {\n",
       "  background-color: None;\n",
       "  background-color: #b40426;\n",
       "  color: #f1f1f1;\n",
       "}\n",
       "</style>\n",
       "<table id=\"T_e1dfa_\">\n",
       "  <thead>\n",
       "    <tr>\n",
       "      <th class=\"index_name level0\" >ft_name</th>\n",
       "      <th class=\"col_heading level0 col0\" >小客車</th>\n",
       "      <th class=\"col_heading level0 col1\" >機車</th>\n",
       "      <th class=\"col_heading level0 col2\" >進口車</th>\n",
       "      <th class=\"col_heading level0 col3\" >小貨車</th>\n",
       "      <th class=\"col_heading level0 col4\" >未填</th>\n",
       "      <th class=\"col_heading level0 col5\" >電動自行車</th>\n",
       "      <th class=\"col_heading level0 col6\" >其他</th>\n",
       "      <th class=\"col_heading level0 col7\" >大型重機</th>\n",
       "    </tr>\n",
       "  </thead>\n",
       "  <tbody>\n",
       "    <tr>\n",
       "      <th id=\"T_e1dfa_level0_row0\" class=\"row_heading level0 row0\" >main</th>\n",
       "      <td id=\"T_e1dfa_row0_col0\" class=\"data row0 col0\" >0.50</td>\n",
       "      <td id=\"T_e1dfa_row0_col1\" class=\"data row0 col1\" >0.26</td>\n",
       "      <td id=\"T_e1dfa_row0_col2\" class=\"data row0 col2\" >0.14</td>\n",
       "      <td id=\"T_e1dfa_row0_col3\" class=\"data row0 col3\" >0.05</td>\n",
       "      <td id=\"T_e1dfa_row0_col4\" class=\"data row0 col4\" >0.03</td>\n",
       "      <td id=\"T_e1dfa_row0_col5\" class=\"data row0 col5\" >0.01</td>\n",
       "      <td id=\"T_e1dfa_row0_col6\" class=\"data row0 col6\" >0.01</td>\n",
       "      <td id=\"T_e1dfa_row0_col7\" class=\"data row0 col7\" >0.01</td>\n",
       "    </tr>\n",
       "    <tr>\n",
       "      <th id=\"T_e1dfa_level0_row1\" class=\"row_heading level0 row1\" >('KA', 'KA')</th>\n",
       "      <td id=\"T_e1dfa_row1_col0\" class=\"data row1 col0\" >0.56</td>\n",
       "      <td id=\"T_e1dfa_row1_col1\" class=\"data row1 col1\" >0.26</td>\n",
       "      <td id=\"T_e1dfa_row1_col2\" class=\"data row1 col2\" >0.12</td>\n",
       "      <td id=\"T_e1dfa_row1_col3\" class=\"data row1 col3\" >0.04</td>\n",
       "      <td id=\"T_e1dfa_row1_col4\" class=\"data row1 col4\" >0.00</td>\n",
       "      <td id=\"T_e1dfa_row1_col5\" class=\"data row1 col5\" >0.00</td>\n",
       "      <td id=\"T_e1dfa_row1_col6\" class=\"data row1 col6\" >0.01</td>\n",
       "      <td id=\"T_e1dfa_row1_col7\" class=\"data row1 col7\" >0.01</td>\n",
       "    </tr>\n",
       "    <tr>\n",
       "      <th id=\"T_e1dfa_level0_row2\" class=\"row_heading level0 row2\" >('KA', 'JB')</th>\n",
       "      <td id=\"T_e1dfa_row2_col0\" class=\"data row2 col0\" >0.55</td>\n",
       "      <td id=\"T_e1dfa_row2_col1\" class=\"data row2 col1\" >0.31</td>\n",
       "      <td id=\"T_e1dfa_row2_col2\" class=\"data row2 col2\" >0.10</td>\n",
       "      <td id=\"T_e1dfa_row2_col3\" class=\"data row2 col3\" >0.02</td>\n",
       "      <td id=\"T_e1dfa_row2_col4\" class=\"data row2 col4\" >0.00</td>\n",
       "      <td id=\"T_e1dfa_row2_col5\" class=\"data row2 col5\" >nan</td>\n",
       "      <td id=\"T_e1dfa_row2_col6\" class=\"data row2 col6\" >0.00</td>\n",
       "      <td id=\"T_e1dfa_row2_col7\" class=\"data row2 col7\" >0.02</td>\n",
       "    </tr>\n",
       "    <tr>\n",
       "      <th id=\"T_e1dfa_level0_row3\" class=\"row_heading level0 row3\" >('KA', 'JB')/('KA', 'KA')-1</th>\n",
       "      <td id=\"T_e1dfa_row3_col0\" class=\"data row3 col0\" >-3.3%</td>\n",
       "      <td id=\"T_e1dfa_row3_col1\" class=\"data row3 col1\" >17.7%</td>\n",
       "      <td id=\"T_e1dfa_row3_col2\" class=\"data row3 col2\" >-10.1%</td>\n",
       "      <td id=\"T_e1dfa_row3_col3\" class=\"data row3 col3\" >-47.7%</td>\n",
       "      <td id=\"T_e1dfa_row3_col4\" class=\"data row3 col4\" >8.3%</td>\n",
       "      <td id=\"T_e1dfa_row3_col5\" class=\"data row3 col5\" >nan%</td>\n",
       "      <td id=\"T_e1dfa_row3_col6\" class=\"data row3 col6\" >-54.5%</td>\n",
       "      <td id=\"T_e1dfa_row3_col7\" class=\"data row3 col7\" >78.2%</td>\n",
       "    </tr>\n",
       "  </tbody>\n",
       "</table>\n"
      ],
      "text/plain": [
       "<pandas.io.formats.style.Styler at 0x2007f642a90>"
      ]
     },
     "execution_count": 51,
     "metadata": {},
     "output_type": "execute_result"
    }
   ],
   "source": [
    "base, compare = \"('KA', 'KA')\", \"('KA', 'JB')\"\n",
    "compare_table(ct_data, base, compare)\n",
    "# compare_table(ct_data, \"JB\", \"('KA', 'JB')\")"
   ]
  },
  {
   "cell_type": "code",
   "execution_count": 4,
   "metadata": {},
   "outputs": [
    {
     "data": {
      "application/vnd.plotly.v1+json": {
       "config": {
        "plotlyServerURL": "https://plot.ly"
       },
       "data": [
        {
         "fill": "toself",
         "hovertemplate": "%{meta:.2f}",
         "legendgroup": "main",
         "line": {
          "color": "red",
          "width": 0
         },
         "marker": {
          "size": 0.1
         },
         "meta": [
          0.5006674252556911,
          46.74174701721465,
          0.46617558008770354,
          8.350771570128321,
          1.294293946592671,
          3.114326020268966,
          7753.796342802388,
          0.5920070338949239,
          54696.87042293725
         ],
         "mode": "lines+markers",
         "name": "main",
         "opacity": 0.2,
         "r": [
          1,
          1,
          1,
          1,
          1,
          1,
          1,
          1,
          1
         ],
         "showlegend": true,
         "subplot": "polar",
         "theta": [
          "女性占比",
          "Avg年齡",
          "未婚占比",
          "Avg車齡",
          "Avg車數",
          "Avg連續通路使用",
          "保費/人",
          "總賠付/總保費",
          "賠付金/人"
         ],
         "type": "scatterpolar"
        },
        {
         "hovertemplate": "%{meta:.2f}",
         "legendgroup": "('KA', 'CA')",
         "line": {
          "color": "rgb(229, 134, 6)",
          "width": 1
         },
         "meta": [
          0.5591968612970228,
          49.484191091622435,
          0.2882529425340411,
          7.0167317345231455,
          2.234018001384722,
          1.8319870759289176,
          16083.022617124394,
          0.5911335591224608,
          60669.749631811486
         ],
         "mode": "lines+markers",
         "name": "('KA', 'CA')",
         "r": [
          1.116902824287881,
          1.0586722630071521,
          0.6183355689283657,
          0.8402495117484483,
          1.726051494921959,
          0.5882451175650196,
          2.0742126702945676,
          0.9985245533879616,
          1.1091996518756857
         ],
         "showlegend": true,
         "subplot": "polar",
         "theta": [
          "女性占比",
          "Avg年齡",
          "未婚占比",
          "Avg車齡",
          "Avg車數",
          "Avg連續通路使用",
          "保費/人",
          "總賠付/總保費",
          "賠付金/人"
         ],
         "type": "scatterpolar",
         "visible": "legendonly"
        },
        {
         "hovertemplate": "%{meta:.2f}",
         "legendgroup": "('KA', 'KA')",
         "line": {
          "color": "rgb(93, 105, 177)",
          "width": 1
         },
         "meta": [
          0.5061950346330454,
          49.17156977196669,
          0.41322281889641216,
          10.394210207907804,
          1.4855475134251692,
          4.099128336835552,
          8156.893789399954,
          0.6113305962560468,
          53145.5651128069
         ],
         "mode": "lines+markers",
         "name": "('KA', 'KA')",
         "r": [
          1.011040481362516,
          1.0519839952464154,
          0.8864102637436968,
          1.2447005789368135,
          1.147766716622594,
          1.316216834768485,
          1.0519871078341836,
          1.0326407648131974,
          0.9716381339894757
         ],
         "showlegend": true,
         "subplot": "polar",
         "theta": [
          "女性占比",
          "Avg年齡",
          "未婚占比",
          "Avg車齡",
          "Avg車數",
          "Avg連續通路使用",
          "保費/人",
          "總賠付/總保費",
          "賠付金/人"
         ],
         "type": "scatterpolar"
        },
        {
         "hovertemplate": "%{meta:.2f}",
         "legendgroup": "('KA', 'JB')",
         "line": {
          "color": "rgb(82, 188, 163)",
          "width": 1
         },
         "meta": [
          0.5114873035066505,
          47.630471584038695,
          0.30713422007255137,
          9.835965802057673,
          1.947037484885127,
          2.200725513905683,
          9357.498669891173,
          0.5965802516960513,
          46167.266
         ],
         "mode": "lines+markers",
         "name": "('KA', 'JB')",
         "r": [
          1.0216109091687635,
          1.0190135077000166,
          0.6588380713008797,
          1.177851138599224,
          1.5043240293372722,
          0.706645835915284,
          1.2068280176816164,
          1.0077249382850055,
          0.8440568106185407
         ],
         "showlegend": true,
         "subplot": "polar",
         "theta": [
          "女性占比",
          "Avg年齡",
          "未婚占比",
          "Avg車齡",
          "Avg車數",
          "Avg連續通路使用",
          "保費/人",
          "總賠付/總保費",
          "賠付金/人"
         ],
         "type": "scatterpolar"
        },
        {
         "hovertemplate": "%{meta:.2f}",
         "legendgroup": "('KA', 'BA')",
         "line": {
          "color": "rgb(153, 201, 69)",
          "width": 1
         },
         "meta": [
          0.5383022774327122,
          47.61438923395445,
          0.4855072463768116,
          9.446306641837369,
          2.018633540372671,
          2.0357142857142856,
          10647.381987577639,
          0.5485083134094045,
          51287.37727272727
         ],
         "mode": "lines+markers",
         "name": "('KA', 'BA')",
         "r": [
          1.0751693644894134,
          1.0186694394717084,
          1.0414686378155438,
          1.1311896825950674,
          1.559640718159024,
          0.6536612648981666,
          1.3731830856585856,
          0.9265233046314784,
          0.9376656630654283
         ],
         "showlegend": true,
         "subplot": "polar",
         "theta": [
          "女性占比",
          "Avg年齡",
          "未婚占比",
          "Avg車齡",
          "Avg車數",
          "Avg連續通路使用",
          "保費/人",
          "總賠付/總保費",
          "賠付金/人"
         ],
         "type": "scatterpolar",
         "visible": "legendonly"
        },
        {
         "hovertemplate": "%{meta:.2f}",
         "legendgroup": "('KA', 'KB')",
         "line": {
          "color": "rgb(204, 97, 176)",
          "width": 1
         },
         "meta": [
          0.526874798841326,
          48.79916317991632,
          0.4148696491792726,
          10.083078582988671,
          2.1345349211458,
          1.9333762471837785,
          11297.580302542645,
          0.7212183485063437,
          66098.96866840731
         ],
         "mode": "lines+markers",
         "name": "('KA', 'KB')",
         "r": [
          1.052344874588657,
          1.0440166723324213,
          0.8899429032752455,
          1.2074427492493045,
          1.6491886767802078,
          0.6208008521268444,
          1.457038565763962,
          1.2182597624918654,
          1.2084597922569362
         ],
         "showlegend": true,
         "subplot": "polar",
         "theta": [
          "女性占比",
          "Avg年齡",
          "未婚占比",
          "Avg車齡",
          "Avg車數",
          "Avg連續通路使用",
          "保費/人",
          "總賠付/總保費",
          "賠付金/人"
         ],
         "type": "scatterpolar",
         "visible": "legendonly"
        },
        {
         "fill": "toself",
         "hovertemplate": "%{meta:.2f}",
         "legendgroup": "main",
         "line": {
          "color": "red",
          "width": 0
         },
         "marker": {
          "size": 0.1
         },
         "meta": [
          1,
          0.019133744568436042,
          0.0211353549065405,
          0.02506271668030796,
          0.05019463797336953
         ],
         "mode": "lines+markers",
         "name": "main",
         "opacity": 0.2,
         "r": [
          1,
          1,
          1,
          1,
          1
         ],
         "showlegend": false,
         "subplot": "polar2",
         "theta": [
          "車險(任意)",
          "住火",
          "團傷",
          "個傷",
          "旅平"
         ],
         "type": "scatterpolar"
        },
        {
         "hovertemplate": "%{meta:.2f}",
         "legendgroup": "('KA', 'CA')",
         "line": {
          "color": "rgb(229, 134, 6)",
          "width": 1
         },
         "meta": [
          1,
          0.03877221324717286,
          0.02723286406646665,
          0.04731133164089545,
          0.11516270482344795
         ],
         "mode": "lines+markers",
         "name": "('KA', 'CA')",
         "r": [
          1,
          2.0263787419391703,
          1.288498072868378,
          1.8877176103605904,
          2.294322849475413
         ],
         "showlegend": false,
         "subplot": "polar2",
         "theta": [
          "車險(任意)",
          "住火",
          "團傷",
          "個傷",
          "旅平"
         ],
         "type": "scatterpolar",
         "visible": "legendonly"
        },
        {
         "hovertemplate": "%{meta:.2f}",
         "legendgroup": "('KA', 'KA')",
         "line": {
          "color": "rgb(93, 105, 177)",
          "width": 1
         },
         "meta": [
          1,
          0.03597945365398086,
          0.02797883103743482,
          0.04183983189353257,
          0.07920460736244066
         ],
         "mode": "lines+markers",
         "name": "('KA', 'KA')",
         "r": [
          1,
          1.880418834133195,
          1.3237928182969168,
          1.669405293417635,
          1.5779495691245387
         ],
         "showlegend": false,
         "subplot": "polar2",
         "theta": [
          "車險(任意)",
          "住火",
          "團傷",
          "個傷",
          "旅平"
         ],
         "type": "scatterpolar"
        },
        {
         "hovertemplate": "%{meta:.2f}",
         "legendgroup": "('KA', 'JB')",
         "line": {
          "color": "rgb(82, 188, 163)",
          "width": 1
         },
         "meta": [
          1,
          0.032648125755743655,
          0.028778718258766628,
          0.02781136638452237,
          0.08778718258766627
         ],
         "mode": "lines+markers",
         "name": "('KA', 'JB')",
         "r": [
          1,
          1.7063113620530712,
          1.361638751089097,
          1.1096708604767516,
          1.7489354666576387
         ],
         "showlegend": false,
         "subplot": "polar2",
         "theta": [
          "車險(任意)",
          "住火",
          "團傷",
          "個傷",
          "旅平"
         ],
         "type": "scatterpolar"
        },
        {
         "hovertemplate": "%{meta:.2f}",
         "legendgroup": "('KA', 'BA')",
         "line": {
          "color": "rgb(153, 201, 69)",
          "width": 1
         },
         "meta": [
          1,
          0.04606625258799172,
          0.028985507246376812,
          0.05331262939958592,
          0.07453416149068323
         ],
         "mode": "lines+markers",
         "name": "('KA', 'BA')",
         "r": [
          1,
          2.407592116808377,
          1.3714227830357852,
          2.127168817316369,
          1.4849028601466732
         ],
         "showlegend": false,
         "subplot": "polar2",
         "theta": [
          "車險(任意)",
          "住火",
          "團傷",
          "個傷",
          "旅平"
         ],
         "type": "scatterpolar",
         "visible": "legendonly"
        },
        {
         "hovertemplate": "%{meta:.2f}",
         "legendgroup": "('KA', 'KB')",
         "line": {
          "color": "rgb(204, 97, 176)",
          "width": 1
         },
         "meta": [
          1,
          0.04409398133247506,
          0.034438364982298034,
          0.05053105889925973,
          0.08303830061152237
         ],
         "mode": "lines+markers",
         "name": "('KA', 'KB')",
         "r": [
          1,
          2.304513953071927,
          1.6294197629792728,
          2.0161844202213928,
          1.6543261185702316
         ],
         "showlegend": false,
         "subplot": "polar2",
         "theta": [
          "車險(任意)",
          "住火",
          "團傷",
          "個傷",
          "旅平"
         ],
         "type": "scatterpolar",
         "visible": "legendonly"
        },
        {
         "fill": "toself",
         "hovertemplate": "%{meta:.2f}",
         "legendgroup": "main",
         "line": {
          "color": "red",
          "width": 0
         },
         "marker": {
          "size": 0.1
         },
         "meta": [
          0.502687474926136,
          0.2589972227578701,
          0.13630097059403723,
          0.05131580988857785,
          0.032120035374927684,
          0.006651638971821964,
          0.006441073926062855,
          0.005485773560566265
         ],
         "mode": "lines+markers",
         "name": "main",
         "opacity": 0.2,
         "r": [
          1,
          1,
          1,
          1,
          1,
          1,
          1,
          1
         ],
         "showlegend": false,
         "subplot": "polar3",
         "theta": [
          "小客車",
          "機車",
          "進口車",
          "小貨車",
          "未填",
          "電動自行車",
          "其他",
          "大型重機"
         ],
         "type": "scatterpolar"
        },
        {
         "hovertemplate": "%{meta:.2f}",
         "legendgroup": "('KA', 'CA')",
         "line": {
          "color": "rgb(229, 134, 6)",
          "width": 1
         },
         "meta": [
          0.579933110367893,
          0.1355629877369008,
          0.20702341137123745,
          0.07034559643255295,
          0.0005574136008918618,
          0.0004459308807134894,
          0.0004459308807134894,
          0.00568561872909699
         ],
         "mode": "lines+markers",
         "name": "('KA', 'CA')",
         "r": [
          1.1536653274544135,
          0.5234148316085812,
          1.5188696783960696,
          1.3708367184556676,
          0.017354078050828323,
          0.0670407523021869,
          0.06923238047448825,
          1.036429715212324
         ],
         "showlegend": false,
         "subplot": "polar3",
         "theta": [
          "小客車",
          "機車",
          "進口車",
          "小貨車",
          "未填",
          "電動自行車",
          "其他",
          "大型重機"
         ],
         "type": "scatterpolar",
         "visible": "legendonly"
        },
        {
         "hovertemplate": "%{meta:.2f}",
         "legendgroup": "('KA', 'KA')",
         "line": {
          "color": "rgb(93, 105, 177)",
          "width": 1
         },
         "meta": [
          0.5646186060424768,
          0.26327849237212086,
          0.11562069997008675,
          0.04069997008674843,
          0.0012025127131319174,
          0.00033502841758899194,
          0.005719413700269219,
          0.008525276697577027
         ],
         "mode": "lines+markers",
         "name": "('KA', 'KA')",
         "r": [
          1.1232000680451426,
          1.0165301757627463,
          0.848274957002726,
          0.7931273066745002,
          0.03743808806856349,
          0.050367799426315474,
          0.8879596424326781,
          1.5540701057841353
         ],
         "showlegend": false,
         "subplot": "polar3",
         "theta": [
          "小客車",
          "機車",
          "進口車",
          "小貨車",
          "未填",
          "電動自行車",
          "其他",
          "大型重機"
         ],
         "type": "scatterpolar"
        },
        {
         "hovertemplate": "%{meta:.2f}",
         "legendgroup": "('KA', 'JB')",
         "line": {
          "color": "rgb(82, 188, 163)",
          "width": 1
         },
         "meta": [
          0.5458755426917511,
          0.30984081041968164,
          0.10390738060781476,
          0.021273516642547032,
          0.0013024602026049203,
          null,
          0.0026049204052098407,
          0.015195369030390739
         ],
         "mode": "lines+markers",
         "name": "('KA', 'JB')",
         "r": [
          1.0859143502072757,
          1.196309393283896,
          0.7623377893419081,
          0.4145606722126821,
          0.0405497748493016,
          null,
          0.4044233050438087,
          2.769959215892646
         ],
         "showlegend": false,
         "subplot": "polar3",
         "theta": [
          "小客車",
          "機車",
          "進口車",
          "小貨車",
          "未填",
          "電動自行車",
          "其他",
          "大型重機"
         ],
         "type": "scatterpolar"
        },
        {
         "hovertemplate": "%{meta:.2f}",
         "legendgroup": "('KA', 'BA')",
         "line": {
          "color": "rgb(153, 201, 69)",
          "width": 1
         },
         "meta": [
          0.4759987612263859,
          0.35955404149891607,
          0.0842366057602973,
          0.04428615670486219,
          0.0021678538247135335,
          0.010529575720037163,
          0.010219882316506659,
          0.013007122948281201
         ],
         "mode": "lines+markers",
         "name": "('KA', 'BA')",
         "r": [
          0.9469079397618339,
          1.388254428639391,
          0.61801911896277,
          0.8630119411740912,
          0.06749226143149646,
          1.5830046947290926,
          1.586673656259931,
          2.3710645006897715
         ],
         "showlegend": false,
         "subplot": "polar3",
         "theta": [
          "小客車",
          "機車",
          "進口車",
          "小貨車",
          "未填",
          "電動自行車",
          "其他",
          "大型重機"
         ],
         "type": "scatterpolar",
         "visible": "legendonly"
        },
        {
         "hovertemplate": "%{meta:.2f}",
         "legendgroup": "('KA', 'KB')",
         "line": {
          "color": "rgb(204, 97, 176)",
          "width": 1
         },
         "meta": [
          0.4940690150970525,
          0.31793673616103524,
          0.10927390366642703,
          0.06218547807332854,
          0.0005391804457225018,
          0.001976994967649173,
          0.0050323508267433505,
          0.008986340762041696
         ],
         "mode": "lines+markers",
         "name": "('KA', 'KB')",
         "r": [
          0.9828552326068003,
          1.2275681290152913,
          0.8017103854079778,
          1.2118190906146085,
          0.016786421292156364,
          0.2972192231154197,
          0.7812906488125662,
          1.6381173343790165
         ],
         "showlegend": false,
         "subplot": "polar3",
         "theta": [
          "小客車",
          "機車",
          "進口車",
          "小貨車",
          "未填",
          "電動自行車",
          "其他",
          "大型重機"
         ],
         "type": "scatterpolar",
         "visible": "legendonly"
        }
       ],
       "layout": {
        "annotations": [
         {
          "font": {
           "size": 16
          },
          "showarrow": false,
          "text": "歷年曾買過的險別(人數%)",
          "x": 0.5,
          "xanchor": "center",
          "xref": "paper",
          "y": 1,
          "yanchor": "bottom",
          "yref": "paper"
         },
         {
          "font": {
           "size": 16
          },
          "showarrow": false,
          "text": "此年投保車種(保單%)",
          "x": 0.8555555555555556,
          "xanchor": "center",
          "xref": "paper",
          "y": 1,
          "yanchor": "bottom",
          "yref": "paper"
         }
        ],
        "polar": {
         "domain": {
          "x": [
           0,
           0.2888888888888889
          ],
          "y": [
           0,
           1
          ]
         }
        },
        "polar2": {
         "domain": {
          "x": [
           0.35555555555555557,
           0.6444444444444445
          ],
          "y": [
           0,
           1
          ]
         }
        },
        "polar3": {
         "domain": {
          "x": [
           0.7111111111111111,
           1
          ],
          "y": [
           0,
           1
          ]
         }
        },
        "template": {
         "data": {
          "bar": [
           {
            "error_x": {
             "color": "#2a3f5f"
            },
            "error_y": {
             "color": "#2a3f5f"
            },
            "marker": {
             "line": {
              "color": "#E5ECF6",
              "width": 0.5
             },
             "pattern": {
              "fillmode": "overlay",
              "size": 10,
              "solidity": 0.2
             }
            },
            "type": "bar"
           }
          ],
          "barpolar": [
           {
            "marker": {
             "line": {
              "color": "#E5ECF6",
              "width": 0.5
             },
             "pattern": {
              "fillmode": "overlay",
              "size": 10,
              "solidity": 0.2
             }
            },
            "type": "barpolar"
           }
          ],
          "carpet": [
           {
            "aaxis": {
             "endlinecolor": "#2a3f5f",
             "gridcolor": "white",
             "linecolor": "white",
             "minorgridcolor": "white",
             "startlinecolor": "#2a3f5f"
            },
            "baxis": {
             "endlinecolor": "#2a3f5f",
             "gridcolor": "white",
             "linecolor": "white",
             "minorgridcolor": "white",
             "startlinecolor": "#2a3f5f"
            },
            "type": "carpet"
           }
          ],
          "choropleth": [
           {
            "colorbar": {
             "outlinewidth": 0,
             "ticks": ""
            },
            "type": "choropleth"
           }
          ],
          "contour": [
           {
            "colorbar": {
             "outlinewidth": 0,
             "ticks": ""
            },
            "colorscale": [
             [
              0,
              "#0d0887"
             ],
             [
              0.1111111111111111,
              "#46039f"
             ],
             [
              0.2222222222222222,
              "#7201a8"
             ],
             [
              0.3333333333333333,
              "#9c179e"
             ],
             [
              0.4444444444444444,
              "#bd3786"
             ],
             [
              0.5555555555555556,
              "#d8576b"
             ],
             [
              0.6666666666666666,
              "#ed7953"
             ],
             [
              0.7777777777777778,
              "#fb9f3a"
             ],
             [
              0.8888888888888888,
              "#fdca26"
             ],
             [
              1,
              "#f0f921"
             ]
            ],
            "type": "contour"
           }
          ],
          "contourcarpet": [
           {
            "colorbar": {
             "outlinewidth": 0,
             "ticks": ""
            },
            "type": "contourcarpet"
           }
          ],
          "heatmap": [
           {
            "colorbar": {
             "outlinewidth": 0,
             "ticks": ""
            },
            "colorscale": [
             [
              0,
              "#0d0887"
             ],
             [
              0.1111111111111111,
              "#46039f"
             ],
             [
              0.2222222222222222,
              "#7201a8"
             ],
             [
              0.3333333333333333,
              "#9c179e"
             ],
             [
              0.4444444444444444,
              "#bd3786"
             ],
             [
              0.5555555555555556,
              "#d8576b"
             ],
             [
              0.6666666666666666,
              "#ed7953"
             ],
             [
              0.7777777777777778,
              "#fb9f3a"
             ],
             [
              0.8888888888888888,
              "#fdca26"
             ],
             [
              1,
              "#f0f921"
             ]
            ],
            "type": "heatmap"
           }
          ],
          "heatmapgl": [
           {
            "colorbar": {
             "outlinewidth": 0,
             "ticks": ""
            },
            "colorscale": [
             [
              0,
              "#0d0887"
             ],
             [
              0.1111111111111111,
              "#46039f"
             ],
             [
              0.2222222222222222,
              "#7201a8"
             ],
             [
              0.3333333333333333,
              "#9c179e"
             ],
             [
              0.4444444444444444,
              "#bd3786"
             ],
             [
              0.5555555555555556,
              "#d8576b"
             ],
             [
              0.6666666666666666,
              "#ed7953"
             ],
             [
              0.7777777777777778,
              "#fb9f3a"
             ],
             [
              0.8888888888888888,
              "#fdca26"
             ],
             [
              1,
              "#f0f921"
             ]
            ],
            "type": "heatmapgl"
           }
          ],
          "histogram": [
           {
            "marker": {
             "pattern": {
              "fillmode": "overlay",
              "size": 10,
              "solidity": 0.2
             }
            },
            "type": "histogram"
           }
          ],
          "histogram2d": [
           {
            "colorbar": {
             "outlinewidth": 0,
             "ticks": ""
            },
            "colorscale": [
             [
              0,
              "#0d0887"
             ],
             [
              0.1111111111111111,
              "#46039f"
             ],
             [
              0.2222222222222222,
              "#7201a8"
             ],
             [
              0.3333333333333333,
              "#9c179e"
             ],
             [
              0.4444444444444444,
              "#bd3786"
             ],
             [
              0.5555555555555556,
              "#d8576b"
             ],
             [
              0.6666666666666666,
              "#ed7953"
             ],
             [
              0.7777777777777778,
              "#fb9f3a"
             ],
             [
              0.8888888888888888,
              "#fdca26"
             ],
             [
              1,
              "#f0f921"
             ]
            ],
            "type": "histogram2d"
           }
          ],
          "histogram2dcontour": [
           {
            "colorbar": {
             "outlinewidth": 0,
             "ticks": ""
            },
            "colorscale": [
             [
              0,
              "#0d0887"
             ],
             [
              0.1111111111111111,
              "#46039f"
             ],
             [
              0.2222222222222222,
              "#7201a8"
             ],
             [
              0.3333333333333333,
              "#9c179e"
             ],
             [
              0.4444444444444444,
              "#bd3786"
             ],
             [
              0.5555555555555556,
              "#d8576b"
             ],
             [
              0.6666666666666666,
              "#ed7953"
             ],
             [
              0.7777777777777778,
              "#fb9f3a"
             ],
             [
              0.8888888888888888,
              "#fdca26"
             ],
             [
              1,
              "#f0f921"
             ]
            ],
            "type": "histogram2dcontour"
           }
          ],
          "mesh3d": [
           {
            "colorbar": {
             "outlinewidth": 0,
             "ticks": ""
            },
            "type": "mesh3d"
           }
          ],
          "parcoords": [
           {
            "line": {
             "colorbar": {
              "outlinewidth": 0,
              "ticks": ""
             }
            },
            "type": "parcoords"
           }
          ],
          "pie": [
           {
            "automargin": true,
            "type": "pie"
           }
          ],
          "scatter": [
           {
            "marker": {
             "colorbar": {
              "outlinewidth": 0,
              "ticks": ""
             }
            },
            "type": "scatter"
           }
          ],
          "scatter3d": [
           {
            "line": {
             "colorbar": {
              "outlinewidth": 0,
              "ticks": ""
             }
            },
            "marker": {
             "colorbar": {
              "outlinewidth": 0,
              "ticks": ""
             }
            },
            "type": "scatter3d"
           }
          ],
          "scattercarpet": [
           {
            "marker": {
             "colorbar": {
              "outlinewidth": 0,
              "ticks": ""
             }
            },
            "type": "scattercarpet"
           }
          ],
          "scattergeo": [
           {
            "marker": {
             "colorbar": {
              "outlinewidth": 0,
              "ticks": ""
             }
            },
            "type": "scattergeo"
           }
          ],
          "scattergl": [
           {
            "marker": {
             "colorbar": {
              "outlinewidth": 0,
              "ticks": ""
             }
            },
            "type": "scattergl"
           }
          ],
          "scattermapbox": [
           {
            "marker": {
             "colorbar": {
              "outlinewidth": 0,
              "ticks": ""
             }
            },
            "type": "scattermapbox"
           }
          ],
          "scatterpolar": [
           {
            "marker": {
             "colorbar": {
              "outlinewidth": 0,
              "ticks": ""
             }
            },
            "type": "scatterpolar"
           }
          ],
          "scatterpolargl": [
           {
            "marker": {
             "colorbar": {
              "outlinewidth": 0,
              "ticks": ""
             }
            },
            "type": "scatterpolargl"
           }
          ],
          "scatterternary": [
           {
            "marker": {
             "colorbar": {
              "outlinewidth": 0,
              "ticks": ""
             }
            },
            "type": "scatterternary"
           }
          ],
          "surface": [
           {
            "colorbar": {
             "outlinewidth": 0,
             "ticks": ""
            },
            "colorscale": [
             [
              0,
              "#0d0887"
             ],
             [
              0.1111111111111111,
              "#46039f"
             ],
             [
              0.2222222222222222,
              "#7201a8"
             ],
             [
              0.3333333333333333,
              "#9c179e"
             ],
             [
              0.4444444444444444,
              "#bd3786"
             ],
             [
              0.5555555555555556,
              "#d8576b"
             ],
             [
              0.6666666666666666,
              "#ed7953"
             ],
             [
              0.7777777777777778,
              "#fb9f3a"
             ],
             [
              0.8888888888888888,
              "#fdca26"
             ],
             [
              1,
              "#f0f921"
             ]
            ],
            "type": "surface"
           }
          ],
          "table": [
           {
            "cells": {
             "fill": {
              "color": "#EBF0F8"
             },
             "line": {
              "color": "white"
             }
            },
            "header": {
             "fill": {
              "color": "#C8D4E3"
             },
             "line": {
              "color": "white"
             }
            },
            "type": "table"
           }
          ]
         },
         "layout": {
          "annotationdefaults": {
           "arrowcolor": "#2a3f5f",
           "arrowhead": 0,
           "arrowwidth": 1
          },
          "autotypenumbers": "strict",
          "coloraxis": {
           "colorbar": {
            "outlinewidth": 0,
            "ticks": ""
           }
          },
          "colorscale": {
           "diverging": [
            [
             0,
             "#8e0152"
            ],
            [
             0.1,
             "#c51b7d"
            ],
            [
             0.2,
             "#de77ae"
            ],
            [
             0.3,
             "#f1b6da"
            ],
            [
             0.4,
             "#fde0ef"
            ],
            [
             0.5,
             "#f7f7f7"
            ],
            [
             0.6,
             "#e6f5d0"
            ],
            [
             0.7,
             "#b8e186"
            ],
            [
             0.8,
             "#7fbc41"
            ],
            [
             0.9,
             "#4d9221"
            ],
            [
             1,
             "#276419"
            ]
           ],
           "sequential": [
            [
             0,
             "#0d0887"
            ],
            [
             0.1111111111111111,
             "#46039f"
            ],
            [
             0.2222222222222222,
             "#7201a8"
            ],
            [
             0.3333333333333333,
             "#9c179e"
            ],
            [
             0.4444444444444444,
             "#bd3786"
            ],
            [
             0.5555555555555556,
             "#d8576b"
            ],
            [
             0.6666666666666666,
             "#ed7953"
            ],
            [
             0.7777777777777778,
             "#fb9f3a"
            ],
            [
             0.8888888888888888,
             "#fdca26"
            ],
            [
             1,
             "#f0f921"
            ]
           ],
           "sequentialminus": [
            [
             0,
             "#0d0887"
            ],
            [
             0.1111111111111111,
             "#46039f"
            ],
            [
             0.2222222222222222,
             "#7201a8"
            ],
            [
             0.3333333333333333,
             "#9c179e"
            ],
            [
             0.4444444444444444,
             "#bd3786"
            ],
            [
             0.5555555555555556,
             "#d8576b"
            ],
            [
             0.6666666666666666,
             "#ed7953"
            ],
            [
             0.7777777777777778,
             "#fb9f3a"
            ],
            [
             0.8888888888888888,
             "#fdca26"
            ],
            [
             1,
             "#f0f921"
            ]
           ]
          },
          "colorway": [
           "#636efa",
           "#EF553B",
           "#00cc96",
           "#ab63fa",
           "#FFA15A",
           "#19d3f3",
           "#FF6692",
           "#B6E880",
           "#FF97FF",
           "#FECB52"
          ],
          "font": {
           "color": "#2a3f5f"
          },
          "geo": {
           "bgcolor": "white",
           "lakecolor": "white",
           "landcolor": "#E5ECF6",
           "showlakes": true,
           "showland": true,
           "subunitcolor": "white"
          },
          "hoverlabel": {
           "align": "left"
          },
          "hovermode": "closest",
          "mapbox": {
           "style": "light"
          },
          "paper_bgcolor": "white",
          "plot_bgcolor": "#E5ECF6",
          "polar": {
           "angularaxis": {
            "gridcolor": "white",
            "linecolor": "white",
            "ticks": ""
           },
           "bgcolor": "#E5ECF6",
           "radialaxis": {
            "gridcolor": "white",
            "linecolor": "white",
            "ticks": ""
           }
          },
          "scene": {
           "xaxis": {
            "backgroundcolor": "#E5ECF6",
            "gridcolor": "white",
            "gridwidth": 2,
            "linecolor": "white",
            "showbackground": true,
            "ticks": "",
            "zerolinecolor": "white"
           },
           "yaxis": {
            "backgroundcolor": "#E5ECF6",
            "gridcolor": "white",
            "gridwidth": 2,
            "linecolor": "white",
            "showbackground": true,
            "ticks": "",
            "zerolinecolor": "white"
           },
           "zaxis": {
            "backgroundcolor": "#E5ECF6",
            "gridcolor": "white",
            "gridwidth": 2,
            "linecolor": "white",
            "showbackground": true,
            "ticks": "",
            "zerolinecolor": "white"
           }
          },
          "shapedefaults": {
           "line": {
            "color": "#2a3f5f"
           }
          },
          "ternary": {
           "aaxis": {
            "gridcolor": "white",
            "linecolor": "white",
            "ticks": ""
           },
           "baxis": {
            "gridcolor": "white",
            "linecolor": "white",
            "ticks": ""
           },
           "bgcolor": "#E5ECF6",
           "caxis": {
            "gridcolor": "white",
            "linecolor": "white",
            "ticks": ""
           }
          },
          "title": {
           "x": 0.05
          },
          "xaxis": {
           "automargin": true,
           "gridcolor": "white",
           "linecolor": "white",
           "ticks": "",
           "title": {
            "standoff": 15
           },
           "zerolinecolor": "white",
           "zerolinewidth": 2
          },
          "yaxis": {
           "automargin": true,
           "gridcolor": "white",
           "linecolor": "white",
           "ticks": "",
           "title": {
            "standoff": 15
           },
           "zerolinecolor": "white",
           "zerolinewidth": 2
          }
         }
        },
        "title": {
         "text": "<b>2020年 使用各通路族群描述: src from KA</b>"
        }
       }
      },
      "text/html": [
       "<div>                            <div id=\"016bf3aa-fa79-4622-9f0c-1e463a6bc99d\" class=\"plotly-graph-div\" style=\"height:525px; width:100%;\"></div>            <script type=\"text/javascript\">                require([\"plotly\"], function(Plotly) {                    window.PLOTLYENV=window.PLOTLYENV || {};                                    if (document.getElementById(\"016bf3aa-fa79-4622-9f0c-1e463a6bc99d\")) {                    Plotly.newPlot(                        \"016bf3aa-fa79-4622-9f0c-1e463a6bc99d\",                        [{\"fill\":\"toself\",\"hovertemplate\":\"%{meta:.2f}\",\"legendgroup\":\"main\",\"line\":{\"color\":\"red\",\"width\":0},\"marker\":{\"size\":0.1},\"meta\":[0.5006674252556911,46.74174701721465,0.46617558008770354,8.350771570128321,1.294293946592671,3.114326020268966,7753.796342802388,0.5920070338949239,54696.87042293725],\"mode\":\"lines+markers\",\"name\":\"main\",\"opacity\":0.2,\"r\":[1.0,1.0,1.0,1.0,1.0,1.0,1.0,1.0,1.0],\"showlegend\":true,\"subplot\":\"polar\",\"theta\":[\"\\u5973\\u6027\\u5360\\u6bd4\",\"Avg\\u5e74\\u9f61\",\"\\u672a\\u5a5a\\u5360\\u6bd4\",\"Avg\\u8eca\\u9f61\",\"Avg\\u8eca\\u6578\",\"Avg\\u9023\\u7e8c\\u901a\\u8def\\u4f7f\\u7528\",\"\\u4fdd\\u8cbb/\\u4eba\",\"\\u7e3d\\u8ce0\\u4ed8/\\u7e3d\\u4fdd\\u8cbb\",\"\\u8ce0\\u4ed8\\u91d1/\\u4eba\"],\"type\":\"scatterpolar\"},{\"hovertemplate\":\"%{meta:.2f}\",\"legendgroup\":\"('KA', 'CA')\",\"line\":{\"color\":\"rgb(229, 134, 6)\",\"width\":1},\"meta\":[0.5591968612970228,49.484191091622435,0.2882529425340411,7.0167317345231455,2.234018001384722,1.8319870759289176,16083.022617124394,0.5911335591224608,60669.749631811486],\"mode\":\"lines+markers\",\"name\":\"('KA', 'CA')\",\"r\":[1.116902824287881,1.0586722630071521,0.6183355689283657,0.8402495117484483,1.726051494921959,0.5882451175650196,2.0742126702945676,0.9985245533879616,1.1091996518756857],\"showlegend\":true,\"subplot\":\"polar\",\"theta\":[\"\\u5973\\u6027\\u5360\\u6bd4\",\"Avg\\u5e74\\u9f61\",\"\\u672a\\u5a5a\\u5360\\u6bd4\",\"Avg\\u8eca\\u9f61\",\"Avg\\u8eca\\u6578\",\"Avg\\u9023\\u7e8c\\u901a\\u8def\\u4f7f\\u7528\",\"\\u4fdd\\u8cbb/\\u4eba\",\"\\u7e3d\\u8ce0\\u4ed8/\\u7e3d\\u4fdd\\u8cbb\",\"\\u8ce0\\u4ed8\\u91d1/\\u4eba\"],\"visible\":\"legendonly\",\"type\":\"scatterpolar\"},{\"hovertemplate\":\"%{meta:.2f}\",\"legendgroup\":\"('KA', 'KA')\",\"line\":{\"color\":\"rgb(93, 105, 177)\",\"width\":1},\"meta\":[0.5061950346330454,49.17156977196669,0.41322281889641216,10.394210207907804,1.4855475134251692,4.099128336835552,8156.893789399954,0.6113305962560468,53145.5651128069],\"mode\":\"lines+markers\",\"name\":\"('KA', 'KA')\",\"r\":[1.011040481362516,1.0519839952464154,0.8864102637436968,1.2447005789368135,1.147766716622594,1.316216834768485,1.0519871078341836,1.0326407648131974,0.9716381339894757],\"showlegend\":true,\"subplot\":\"polar\",\"theta\":[\"\\u5973\\u6027\\u5360\\u6bd4\",\"Avg\\u5e74\\u9f61\",\"\\u672a\\u5a5a\\u5360\\u6bd4\",\"Avg\\u8eca\\u9f61\",\"Avg\\u8eca\\u6578\",\"Avg\\u9023\\u7e8c\\u901a\\u8def\\u4f7f\\u7528\",\"\\u4fdd\\u8cbb/\\u4eba\",\"\\u7e3d\\u8ce0\\u4ed8/\\u7e3d\\u4fdd\\u8cbb\",\"\\u8ce0\\u4ed8\\u91d1/\\u4eba\"],\"type\":\"scatterpolar\"},{\"hovertemplate\":\"%{meta:.2f}\",\"legendgroup\":\"('KA', 'JB')\",\"line\":{\"color\":\"rgb(82, 188, 163)\",\"width\":1},\"meta\":[0.5114873035066505,47.630471584038695,0.30713422007255137,9.835965802057673,1.947037484885127,2.200725513905683,9357.498669891173,0.5965802516960513,46167.266],\"mode\":\"lines+markers\",\"name\":\"('KA', 'JB')\",\"r\":[1.0216109091687635,1.0190135077000166,0.6588380713008797,1.177851138599224,1.5043240293372722,0.706645835915284,1.2068280176816164,1.0077249382850055,0.8440568106185407],\"showlegend\":true,\"subplot\":\"polar\",\"theta\":[\"\\u5973\\u6027\\u5360\\u6bd4\",\"Avg\\u5e74\\u9f61\",\"\\u672a\\u5a5a\\u5360\\u6bd4\",\"Avg\\u8eca\\u9f61\",\"Avg\\u8eca\\u6578\",\"Avg\\u9023\\u7e8c\\u901a\\u8def\\u4f7f\\u7528\",\"\\u4fdd\\u8cbb/\\u4eba\",\"\\u7e3d\\u8ce0\\u4ed8/\\u7e3d\\u4fdd\\u8cbb\",\"\\u8ce0\\u4ed8\\u91d1/\\u4eba\"],\"type\":\"scatterpolar\"},{\"hovertemplate\":\"%{meta:.2f}\",\"legendgroup\":\"('KA', 'BA')\",\"line\":{\"color\":\"rgb(153, 201, 69)\",\"width\":1},\"meta\":[0.5383022774327122,47.61438923395445,0.4855072463768116,9.446306641837369,2.018633540372671,2.0357142857142856,10647.381987577639,0.5485083134094045,51287.37727272727],\"mode\":\"lines+markers\",\"name\":\"('KA', 'BA')\",\"r\":[1.0751693644894134,1.0186694394717084,1.0414686378155438,1.1311896825950674,1.559640718159024,0.6536612648981666,1.3731830856585856,0.9265233046314784,0.9376656630654283],\"showlegend\":true,\"subplot\":\"polar\",\"theta\":[\"\\u5973\\u6027\\u5360\\u6bd4\",\"Avg\\u5e74\\u9f61\",\"\\u672a\\u5a5a\\u5360\\u6bd4\",\"Avg\\u8eca\\u9f61\",\"Avg\\u8eca\\u6578\",\"Avg\\u9023\\u7e8c\\u901a\\u8def\\u4f7f\\u7528\",\"\\u4fdd\\u8cbb/\\u4eba\",\"\\u7e3d\\u8ce0\\u4ed8/\\u7e3d\\u4fdd\\u8cbb\",\"\\u8ce0\\u4ed8\\u91d1/\\u4eba\"],\"visible\":\"legendonly\",\"type\":\"scatterpolar\"},{\"hovertemplate\":\"%{meta:.2f}\",\"legendgroup\":\"('KA', 'KB')\",\"line\":{\"color\":\"rgb(204, 97, 176)\",\"width\":1},\"meta\":[0.526874798841326,48.79916317991632,0.4148696491792726,10.083078582988671,2.1345349211458,1.9333762471837785,11297.580302542645,0.7212183485063437,66098.96866840731],\"mode\":\"lines+markers\",\"name\":\"('KA', 'KB')\",\"r\":[1.052344874588657,1.0440166723324213,0.8899429032752455,1.2074427492493045,1.6491886767802078,0.6208008521268444,1.457038565763962,1.2182597624918654,1.2084597922569362],\"showlegend\":true,\"subplot\":\"polar\",\"theta\":[\"\\u5973\\u6027\\u5360\\u6bd4\",\"Avg\\u5e74\\u9f61\",\"\\u672a\\u5a5a\\u5360\\u6bd4\",\"Avg\\u8eca\\u9f61\",\"Avg\\u8eca\\u6578\",\"Avg\\u9023\\u7e8c\\u901a\\u8def\\u4f7f\\u7528\",\"\\u4fdd\\u8cbb/\\u4eba\",\"\\u7e3d\\u8ce0\\u4ed8/\\u7e3d\\u4fdd\\u8cbb\",\"\\u8ce0\\u4ed8\\u91d1/\\u4eba\"],\"visible\":\"legendonly\",\"type\":\"scatterpolar\"},{\"fill\":\"toself\",\"hovertemplate\":\"%{meta:.2f}\",\"legendgroup\":\"main\",\"line\":{\"color\":\"red\",\"width\":0},\"marker\":{\"size\":0.1},\"meta\":[1.0,0.019133744568436042,0.0211353549065405,0.02506271668030796,0.05019463797336953],\"mode\":\"lines+markers\",\"name\":\"main\",\"opacity\":0.2,\"r\":[1.0,1.0,1.0,1.0,1.0],\"showlegend\":false,\"subplot\":\"polar2\",\"theta\":[\"\\u8eca\\u96aa(\\u4efb\\u610f)\",\"\\u4f4f\\u706b\",\"\\u5718\\u50b7\",\"\\u500b\\u50b7\",\"\\u65c5\\u5e73\"],\"type\":\"scatterpolar\"},{\"hovertemplate\":\"%{meta:.2f}\",\"legendgroup\":\"('KA', 'CA')\",\"line\":{\"color\":\"rgb(229, 134, 6)\",\"width\":1},\"meta\":[1.0,0.03877221324717286,0.02723286406646665,0.04731133164089545,0.11516270482344795],\"mode\":\"lines+markers\",\"name\":\"('KA', 'CA')\",\"r\":[1.0,2.0263787419391703,1.288498072868378,1.8877176103605904,2.294322849475413],\"showlegend\":false,\"subplot\":\"polar2\",\"theta\":[\"\\u8eca\\u96aa(\\u4efb\\u610f)\",\"\\u4f4f\\u706b\",\"\\u5718\\u50b7\",\"\\u500b\\u50b7\",\"\\u65c5\\u5e73\"],\"visible\":\"legendonly\",\"type\":\"scatterpolar\"},{\"hovertemplate\":\"%{meta:.2f}\",\"legendgroup\":\"('KA', 'KA')\",\"line\":{\"color\":\"rgb(93, 105, 177)\",\"width\":1},\"meta\":[1.0,0.03597945365398086,0.02797883103743482,0.04183983189353257,0.07920460736244066],\"mode\":\"lines+markers\",\"name\":\"('KA', 'KA')\",\"r\":[1.0,1.880418834133195,1.3237928182969168,1.669405293417635,1.5779495691245387],\"showlegend\":false,\"subplot\":\"polar2\",\"theta\":[\"\\u8eca\\u96aa(\\u4efb\\u610f)\",\"\\u4f4f\\u706b\",\"\\u5718\\u50b7\",\"\\u500b\\u50b7\",\"\\u65c5\\u5e73\"],\"type\":\"scatterpolar\"},{\"hovertemplate\":\"%{meta:.2f}\",\"legendgroup\":\"('KA', 'JB')\",\"line\":{\"color\":\"rgb(82, 188, 163)\",\"width\":1},\"meta\":[1.0,0.032648125755743655,0.028778718258766628,0.02781136638452237,0.08778718258766627],\"mode\":\"lines+markers\",\"name\":\"('KA', 'JB')\",\"r\":[1.0,1.7063113620530712,1.361638751089097,1.1096708604767516,1.7489354666576387],\"showlegend\":false,\"subplot\":\"polar2\",\"theta\":[\"\\u8eca\\u96aa(\\u4efb\\u610f)\",\"\\u4f4f\\u706b\",\"\\u5718\\u50b7\",\"\\u500b\\u50b7\",\"\\u65c5\\u5e73\"],\"type\":\"scatterpolar\"},{\"hovertemplate\":\"%{meta:.2f}\",\"legendgroup\":\"('KA', 'BA')\",\"line\":{\"color\":\"rgb(153, 201, 69)\",\"width\":1},\"meta\":[1.0,0.04606625258799172,0.028985507246376812,0.05331262939958592,0.07453416149068323],\"mode\":\"lines+markers\",\"name\":\"('KA', 'BA')\",\"r\":[1.0,2.407592116808377,1.3714227830357852,2.127168817316369,1.4849028601466732],\"showlegend\":false,\"subplot\":\"polar2\",\"theta\":[\"\\u8eca\\u96aa(\\u4efb\\u610f)\",\"\\u4f4f\\u706b\",\"\\u5718\\u50b7\",\"\\u500b\\u50b7\",\"\\u65c5\\u5e73\"],\"visible\":\"legendonly\",\"type\":\"scatterpolar\"},{\"hovertemplate\":\"%{meta:.2f}\",\"legendgroup\":\"('KA', 'KB')\",\"line\":{\"color\":\"rgb(204, 97, 176)\",\"width\":1},\"meta\":[1.0,0.04409398133247506,0.034438364982298034,0.05053105889925973,0.08303830061152237],\"mode\":\"lines+markers\",\"name\":\"('KA', 'KB')\",\"r\":[1.0,2.304513953071927,1.6294197629792728,2.0161844202213928,1.6543261185702316],\"showlegend\":false,\"subplot\":\"polar2\",\"theta\":[\"\\u8eca\\u96aa(\\u4efb\\u610f)\",\"\\u4f4f\\u706b\",\"\\u5718\\u50b7\",\"\\u500b\\u50b7\",\"\\u65c5\\u5e73\"],\"visible\":\"legendonly\",\"type\":\"scatterpolar\"},{\"fill\":\"toself\",\"hovertemplate\":\"%{meta:.2f}\",\"legendgroup\":\"main\",\"line\":{\"color\":\"red\",\"width\":0},\"marker\":{\"size\":0.1},\"meta\":[0.502687474926136,0.2589972227578701,0.13630097059403723,0.05131580988857785,0.032120035374927684,0.006651638971821964,0.006441073926062855,0.005485773560566265],\"mode\":\"lines+markers\",\"name\":\"main\",\"opacity\":0.2,\"r\":[1.0,1.0,1.0,1.0,1.0,1.0,1.0,1.0],\"showlegend\":false,\"subplot\":\"polar3\",\"theta\":[\"\\u5c0f\\u5ba2\\u8eca\",\"\\u6a5f\\u8eca\",\"\\u9032\\u53e3\\u8eca\",\"\\u5c0f\\u8ca8\\u8eca\",\"\\u672a\\u586b\",\"\\u96fb\\u52d5\\u81ea\\u884c\\u8eca\",\"\\u5176\\u4ed6\",\"\\u5927\\u578b\\u91cd\\u6a5f\"],\"type\":\"scatterpolar\"},{\"hovertemplate\":\"%{meta:.2f}\",\"legendgroup\":\"('KA', 'CA')\",\"line\":{\"color\":\"rgb(229, 134, 6)\",\"width\":1},\"meta\":[0.579933110367893,0.1355629877369008,0.20702341137123745,0.07034559643255295,0.0005574136008918618,0.0004459308807134894,0.0004459308807134894,0.00568561872909699],\"mode\":\"lines+markers\",\"name\":\"('KA', 'CA')\",\"r\":[1.1536653274544135,0.5234148316085812,1.5188696783960696,1.3708367184556676,0.017354078050828323,0.0670407523021869,0.06923238047448825,1.036429715212324],\"showlegend\":false,\"subplot\":\"polar3\",\"theta\":[\"\\u5c0f\\u5ba2\\u8eca\",\"\\u6a5f\\u8eca\",\"\\u9032\\u53e3\\u8eca\",\"\\u5c0f\\u8ca8\\u8eca\",\"\\u672a\\u586b\",\"\\u96fb\\u52d5\\u81ea\\u884c\\u8eca\",\"\\u5176\\u4ed6\",\"\\u5927\\u578b\\u91cd\\u6a5f\"],\"visible\":\"legendonly\",\"type\":\"scatterpolar\"},{\"hovertemplate\":\"%{meta:.2f}\",\"legendgroup\":\"('KA', 'KA')\",\"line\":{\"color\":\"rgb(93, 105, 177)\",\"width\":1},\"meta\":[0.5646186060424768,0.26327849237212086,0.11562069997008675,0.04069997008674843,0.0012025127131319174,0.00033502841758899194,0.005719413700269219,0.008525276697577027],\"mode\":\"lines+markers\",\"name\":\"('KA', 'KA')\",\"r\":[1.1232000680451426,1.0165301757627463,0.848274957002726,0.7931273066745002,0.03743808806856349,0.050367799426315474,0.8879596424326781,1.5540701057841353],\"showlegend\":false,\"subplot\":\"polar3\",\"theta\":[\"\\u5c0f\\u5ba2\\u8eca\",\"\\u6a5f\\u8eca\",\"\\u9032\\u53e3\\u8eca\",\"\\u5c0f\\u8ca8\\u8eca\",\"\\u672a\\u586b\",\"\\u96fb\\u52d5\\u81ea\\u884c\\u8eca\",\"\\u5176\\u4ed6\",\"\\u5927\\u578b\\u91cd\\u6a5f\"],\"type\":\"scatterpolar\"},{\"hovertemplate\":\"%{meta:.2f}\",\"legendgroup\":\"('KA', 'JB')\",\"line\":{\"color\":\"rgb(82, 188, 163)\",\"width\":1},\"meta\":[0.5458755426917511,0.30984081041968164,0.10390738060781476,0.021273516642547032,0.0013024602026049203,null,0.0026049204052098407,0.015195369030390739],\"mode\":\"lines+markers\",\"name\":\"('KA', 'JB')\",\"r\":[1.0859143502072757,1.196309393283896,0.7623377893419081,0.4145606722126821,0.0405497748493016,null,0.4044233050438087,2.769959215892646],\"showlegend\":false,\"subplot\":\"polar3\",\"theta\":[\"\\u5c0f\\u5ba2\\u8eca\",\"\\u6a5f\\u8eca\",\"\\u9032\\u53e3\\u8eca\",\"\\u5c0f\\u8ca8\\u8eca\",\"\\u672a\\u586b\",\"\\u96fb\\u52d5\\u81ea\\u884c\\u8eca\",\"\\u5176\\u4ed6\",\"\\u5927\\u578b\\u91cd\\u6a5f\"],\"type\":\"scatterpolar\"},{\"hovertemplate\":\"%{meta:.2f}\",\"legendgroup\":\"('KA', 'BA')\",\"line\":{\"color\":\"rgb(153, 201, 69)\",\"width\":1},\"meta\":[0.4759987612263859,0.35955404149891607,0.0842366057602973,0.04428615670486219,0.0021678538247135335,0.010529575720037163,0.010219882316506659,0.013007122948281201],\"mode\":\"lines+markers\",\"name\":\"('KA', 'BA')\",\"r\":[0.9469079397618339,1.388254428639391,0.61801911896277,0.8630119411740912,0.06749226143149646,1.5830046947290926,1.586673656259931,2.3710645006897715],\"showlegend\":false,\"subplot\":\"polar3\",\"theta\":[\"\\u5c0f\\u5ba2\\u8eca\",\"\\u6a5f\\u8eca\",\"\\u9032\\u53e3\\u8eca\",\"\\u5c0f\\u8ca8\\u8eca\",\"\\u672a\\u586b\",\"\\u96fb\\u52d5\\u81ea\\u884c\\u8eca\",\"\\u5176\\u4ed6\",\"\\u5927\\u578b\\u91cd\\u6a5f\"],\"visible\":\"legendonly\",\"type\":\"scatterpolar\"},{\"hovertemplate\":\"%{meta:.2f}\",\"legendgroup\":\"('KA', 'KB')\",\"line\":{\"color\":\"rgb(204, 97, 176)\",\"width\":1},\"meta\":[0.4940690150970525,0.31793673616103524,0.10927390366642703,0.06218547807332854,0.0005391804457225018,0.001976994967649173,0.0050323508267433505,0.008986340762041696],\"mode\":\"lines+markers\",\"name\":\"('KA', 'KB')\",\"r\":[0.9828552326068003,1.2275681290152913,0.8017103854079778,1.2118190906146085,0.016786421292156364,0.2972192231154197,0.7812906488125662,1.6381173343790165],\"showlegend\":false,\"subplot\":\"polar3\",\"theta\":[\"\\u5c0f\\u5ba2\\u8eca\",\"\\u6a5f\\u8eca\",\"\\u9032\\u53e3\\u8eca\",\"\\u5c0f\\u8ca8\\u8eca\",\"\\u672a\\u586b\",\"\\u96fb\\u52d5\\u81ea\\u884c\\u8eca\",\"\\u5176\\u4ed6\",\"\\u5927\\u578b\\u91cd\\u6a5f\"],\"visible\":\"legendonly\",\"type\":\"scatterpolar\"}],                        {\"annotations\":[{\"font\":{\"size\":16},\"showarrow\":false,\"text\":\"\\u6b77\\u5e74\\u66fe\\u8cb7\\u904e\\u7684\\u96aa\\u5225(\\u4eba\\u6578%)\",\"x\":0.5,\"xanchor\":\"center\",\"xref\":\"paper\",\"y\":1.0,\"yanchor\":\"bottom\",\"yref\":\"paper\"},{\"font\":{\"size\":16},\"showarrow\":false,\"text\":\"\\u6b64\\u5e74\\u6295\\u4fdd\\u8eca\\u7a2e(\\u4fdd\\u55ae%)\",\"x\":0.8555555555555556,\"xanchor\":\"center\",\"xref\":\"paper\",\"y\":1.0,\"yanchor\":\"bottom\",\"yref\":\"paper\"}],\"polar\":{\"domain\":{\"x\":[0.0,0.2888888888888889],\"y\":[0.0,1.0]}},\"template\":{\"data\":{\"barpolar\":[{\"marker\":{\"line\":{\"color\":\"#E5ECF6\",\"width\":0.5},\"pattern\":{\"fillmode\":\"overlay\",\"size\":10,\"solidity\":0.2}},\"type\":\"barpolar\"}],\"bar\":[{\"error_x\":{\"color\":\"#2a3f5f\"},\"error_y\":{\"color\":\"#2a3f5f\"},\"marker\":{\"line\":{\"color\":\"#E5ECF6\",\"width\":0.5},\"pattern\":{\"fillmode\":\"overlay\",\"size\":10,\"solidity\":0.2}},\"type\":\"bar\"}],\"carpet\":[{\"aaxis\":{\"endlinecolor\":\"#2a3f5f\",\"gridcolor\":\"white\",\"linecolor\":\"white\",\"minorgridcolor\":\"white\",\"startlinecolor\":\"#2a3f5f\"},\"baxis\":{\"endlinecolor\":\"#2a3f5f\",\"gridcolor\":\"white\",\"linecolor\":\"white\",\"minorgridcolor\":\"white\",\"startlinecolor\":\"#2a3f5f\"},\"type\":\"carpet\"}],\"choropleth\":[{\"colorbar\":{\"outlinewidth\":0,\"ticks\":\"\"},\"type\":\"choropleth\"}],\"contourcarpet\":[{\"colorbar\":{\"outlinewidth\":0,\"ticks\":\"\"},\"type\":\"contourcarpet\"}],\"contour\":[{\"colorbar\":{\"outlinewidth\":0,\"ticks\":\"\"},\"colorscale\":[[0.0,\"#0d0887\"],[0.1111111111111111,\"#46039f\"],[0.2222222222222222,\"#7201a8\"],[0.3333333333333333,\"#9c179e\"],[0.4444444444444444,\"#bd3786\"],[0.5555555555555556,\"#d8576b\"],[0.6666666666666666,\"#ed7953\"],[0.7777777777777778,\"#fb9f3a\"],[0.8888888888888888,\"#fdca26\"],[1.0,\"#f0f921\"]],\"type\":\"contour\"}],\"heatmapgl\":[{\"colorbar\":{\"outlinewidth\":0,\"ticks\":\"\"},\"colorscale\":[[0.0,\"#0d0887\"],[0.1111111111111111,\"#46039f\"],[0.2222222222222222,\"#7201a8\"],[0.3333333333333333,\"#9c179e\"],[0.4444444444444444,\"#bd3786\"],[0.5555555555555556,\"#d8576b\"],[0.6666666666666666,\"#ed7953\"],[0.7777777777777778,\"#fb9f3a\"],[0.8888888888888888,\"#fdca26\"],[1.0,\"#f0f921\"]],\"type\":\"heatmapgl\"}],\"heatmap\":[{\"colorbar\":{\"outlinewidth\":0,\"ticks\":\"\"},\"colorscale\":[[0.0,\"#0d0887\"],[0.1111111111111111,\"#46039f\"],[0.2222222222222222,\"#7201a8\"],[0.3333333333333333,\"#9c179e\"],[0.4444444444444444,\"#bd3786\"],[0.5555555555555556,\"#d8576b\"],[0.6666666666666666,\"#ed7953\"],[0.7777777777777778,\"#fb9f3a\"],[0.8888888888888888,\"#fdca26\"],[1.0,\"#f0f921\"]],\"type\":\"heatmap\"}],\"histogram2dcontour\":[{\"colorbar\":{\"outlinewidth\":0,\"ticks\":\"\"},\"colorscale\":[[0.0,\"#0d0887\"],[0.1111111111111111,\"#46039f\"],[0.2222222222222222,\"#7201a8\"],[0.3333333333333333,\"#9c179e\"],[0.4444444444444444,\"#bd3786\"],[0.5555555555555556,\"#d8576b\"],[0.6666666666666666,\"#ed7953\"],[0.7777777777777778,\"#fb9f3a\"],[0.8888888888888888,\"#fdca26\"],[1.0,\"#f0f921\"]],\"type\":\"histogram2dcontour\"}],\"histogram2d\":[{\"colorbar\":{\"outlinewidth\":0,\"ticks\":\"\"},\"colorscale\":[[0.0,\"#0d0887\"],[0.1111111111111111,\"#46039f\"],[0.2222222222222222,\"#7201a8\"],[0.3333333333333333,\"#9c179e\"],[0.4444444444444444,\"#bd3786\"],[0.5555555555555556,\"#d8576b\"],[0.6666666666666666,\"#ed7953\"],[0.7777777777777778,\"#fb9f3a\"],[0.8888888888888888,\"#fdca26\"],[1.0,\"#f0f921\"]],\"type\":\"histogram2d\"}],\"histogram\":[{\"marker\":{\"pattern\":{\"fillmode\":\"overlay\",\"size\":10,\"solidity\":0.2}},\"type\":\"histogram\"}],\"mesh3d\":[{\"colorbar\":{\"outlinewidth\":0,\"ticks\":\"\"},\"type\":\"mesh3d\"}],\"parcoords\":[{\"line\":{\"colorbar\":{\"outlinewidth\":0,\"ticks\":\"\"}},\"type\":\"parcoords\"}],\"pie\":[{\"automargin\":true,\"type\":\"pie\"}],\"scatter3d\":[{\"line\":{\"colorbar\":{\"outlinewidth\":0,\"ticks\":\"\"}},\"marker\":{\"colorbar\":{\"outlinewidth\":0,\"ticks\":\"\"}},\"type\":\"scatter3d\"}],\"scattercarpet\":[{\"marker\":{\"colorbar\":{\"outlinewidth\":0,\"ticks\":\"\"}},\"type\":\"scattercarpet\"}],\"scattergeo\":[{\"marker\":{\"colorbar\":{\"outlinewidth\":0,\"ticks\":\"\"}},\"type\":\"scattergeo\"}],\"scattergl\":[{\"marker\":{\"colorbar\":{\"outlinewidth\":0,\"ticks\":\"\"}},\"type\":\"scattergl\"}],\"scattermapbox\":[{\"marker\":{\"colorbar\":{\"outlinewidth\":0,\"ticks\":\"\"}},\"type\":\"scattermapbox\"}],\"scatterpolargl\":[{\"marker\":{\"colorbar\":{\"outlinewidth\":0,\"ticks\":\"\"}},\"type\":\"scatterpolargl\"}],\"scatterpolar\":[{\"marker\":{\"colorbar\":{\"outlinewidth\":0,\"ticks\":\"\"}},\"type\":\"scatterpolar\"}],\"scatter\":[{\"marker\":{\"colorbar\":{\"outlinewidth\":0,\"ticks\":\"\"}},\"type\":\"scatter\"}],\"scatterternary\":[{\"marker\":{\"colorbar\":{\"outlinewidth\":0,\"ticks\":\"\"}},\"type\":\"scatterternary\"}],\"surface\":[{\"colorbar\":{\"outlinewidth\":0,\"ticks\":\"\"},\"colorscale\":[[0.0,\"#0d0887\"],[0.1111111111111111,\"#46039f\"],[0.2222222222222222,\"#7201a8\"],[0.3333333333333333,\"#9c179e\"],[0.4444444444444444,\"#bd3786\"],[0.5555555555555556,\"#d8576b\"],[0.6666666666666666,\"#ed7953\"],[0.7777777777777778,\"#fb9f3a\"],[0.8888888888888888,\"#fdca26\"],[1.0,\"#f0f921\"]],\"type\":\"surface\"}],\"table\":[{\"cells\":{\"fill\":{\"color\":\"#EBF0F8\"},\"line\":{\"color\":\"white\"}},\"header\":{\"fill\":{\"color\":\"#C8D4E3\"},\"line\":{\"color\":\"white\"}},\"type\":\"table\"}]},\"layout\":{\"annotationdefaults\":{\"arrowcolor\":\"#2a3f5f\",\"arrowhead\":0,\"arrowwidth\":1},\"autotypenumbers\":\"strict\",\"coloraxis\":{\"colorbar\":{\"outlinewidth\":0,\"ticks\":\"\"}},\"colorscale\":{\"diverging\":[[0,\"#8e0152\"],[0.1,\"#c51b7d\"],[0.2,\"#de77ae\"],[0.3,\"#f1b6da\"],[0.4,\"#fde0ef\"],[0.5,\"#f7f7f7\"],[0.6,\"#e6f5d0\"],[0.7,\"#b8e186\"],[0.8,\"#7fbc41\"],[0.9,\"#4d9221\"],[1,\"#276419\"]],\"sequential\":[[0.0,\"#0d0887\"],[0.1111111111111111,\"#46039f\"],[0.2222222222222222,\"#7201a8\"],[0.3333333333333333,\"#9c179e\"],[0.4444444444444444,\"#bd3786\"],[0.5555555555555556,\"#d8576b\"],[0.6666666666666666,\"#ed7953\"],[0.7777777777777778,\"#fb9f3a\"],[0.8888888888888888,\"#fdca26\"],[1.0,\"#f0f921\"]],\"sequentialminus\":[[0.0,\"#0d0887\"],[0.1111111111111111,\"#46039f\"],[0.2222222222222222,\"#7201a8\"],[0.3333333333333333,\"#9c179e\"],[0.4444444444444444,\"#bd3786\"],[0.5555555555555556,\"#d8576b\"],[0.6666666666666666,\"#ed7953\"],[0.7777777777777778,\"#fb9f3a\"],[0.8888888888888888,\"#fdca26\"],[1.0,\"#f0f921\"]]},\"colorway\":[\"#636efa\",\"#EF553B\",\"#00cc96\",\"#ab63fa\",\"#FFA15A\",\"#19d3f3\",\"#FF6692\",\"#B6E880\",\"#FF97FF\",\"#FECB52\"],\"font\":{\"color\":\"#2a3f5f\"},\"geo\":{\"bgcolor\":\"white\",\"lakecolor\":\"white\",\"landcolor\":\"#E5ECF6\",\"showlakes\":true,\"showland\":true,\"subunitcolor\":\"white\"},\"hoverlabel\":{\"align\":\"left\"},\"hovermode\":\"closest\",\"mapbox\":{\"style\":\"light\"},\"paper_bgcolor\":\"white\",\"plot_bgcolor\":\"#E5ECF6\",\"polar\":{\"angularaxis\":{\"gridcolor\":\"white\",\"linecolor\":\"white\",\"ticks\":\"\"},\"bgcolor\":\"#E5ECF6\",\"radialaxis\":{\"gridcolor\":\"white\",\"linecolor\":\"white\",\"ticks\":\"\"}},\"scene\":{\"xaxis\":{\"backgroundcolor\":\"#E5ECF6\",\"gridcolor\":\"white\",\"gridwidth\":2,\"linecolor\":\"white\",\"showbackground\":true,\"ticks\":\"\",\"zerolinecolor\":\"white\"},\"yaxis\":{\"backgroundcolor\":\"#E5ECF6\",\"gridcolor\":\"white\",\"gridwidth\":2,\"linecolor\":\"white\",\"showbackground\":true,\"ticks\":\"\",\"zerolinecolor\":\"white\"},\"zaxis\":{\"backgroundcolor\":\"#E5ECF6\",\"gridcolor\":\"white\",\"gridwidth\":2,\"linecolor\":\"white\",\"showbackground\":true,\"ticks\":\"\",\"zerolinecolor\":\"white\"}},\"shapedefaults\":{\"line\":{\"color\":\"#2a3f5f\"}},\"ternary\":{\"aaxis\":{\"gridcolor\":\"white\",\"linecolor\":\"white\",\"ticks\":\"\"},\"baxis\":{\"gridcolor\":\"white\",\"linecolor\":\"white\",\"ticks\":\"\"},\"bgcolor\":\"#E5ECF6\",\"caxis\":{\"gridcolor\":\"white\",\"linecolor\":\"white\",\"ticks\":\"\"}},\"title\":{\"x\":0.05},\"xaxis\":{\"automargin\":true,\"gridcolor\":\"white\",\"linecolor\":\"white\",\"ticks\":\"\",\"title\":{\"standoff\":15},\"zerolinecolor\":\"white\",\"zerolinewidth\":2},\"yaxis\":{\"automargin\":true,\"gridcolor\":\"white\",\"linecolor\":\"white\",\"ticks\":\"\",\"title\":{\"standoff\":15},\"zerolinecolor\":\"white\",\"zerolinewidth\":2}}},\"title\":{\"text\":\"<b>2020\\u5e74 \\u4f7f\\u7528\\u5404\\u901a\\u8def\\u65cf\\u7fa4\\u63cf\\u8ff0: src from KA</b>\"},\"polar2\":{\"domain\":{\"x\":[0.35555555555555557,0.6444444444444445],\"y\":[0.0,1.0]}},\"polar3\":{\"domain\":{\"x\":[0.7111111111111111,1.0],\"y\":[0.0,1.0]}}},                        {\"responsive\": true}                    ).then(function(){\n",
       "                            \n",
       "var gd = document.getElementById('016bf3aa-fa79-4622-9f0c-1e463a6bc99d');\n",
       "var x = new MutationObserver(function (mutations, observer) {{\n",
       "        var display = window.getComputedStyle(gd).display;\n",
       "        if (!display || display === 'none') {{\n",
       "            console.log([gd, 'removed!']);\n",
       "            Plotly.purge(gd);\n",
       "            observer.disconnect();\n",
       "        }}\n",
       "}});\n",
       "\n",
       "// Listen for the removal of the full notebook cells\n",
       "var notebookContainer = gd.closest('#notebook-container');\n",
       "if (notebookContainer) {{\n",
       "    x.observe(notebookContainer, {childList: true});\n",
       "}}\n",
       "\n",
       "// Listen for the clearing of the current output cell\n",
       "var outputEl = gd.closest('.output');\n",
       "if (outputEl) {{\n",
       "    x.observe(outputEl, {childList: true});\n",
       "}}\n",
       "\n",
       "                        })                };                });            </script>        </div>"
      ]
     },
     "metadata": {},
     "output_type": "display_data"
    }
   ],
   "source": [
    "# 圖形化(如果要一次比很多組)\n",
    "radar_dict[\"from\"][\"KA\"]"
   ]
  },
  {
   "cell_type": "markdown",
   "metadata": {},
   "source": [
    "特徵清單"
   ]
  },
  {
   "cell_type": "code",
   "execution_count": 34,
   "metadata": {},
   "outputs": [],
   "source": [
    "target = \"^\\('KA.*\""
   ]
  },
  {
   "cell_type": "code",
   "execution_count": 35,
   "metadata": {},
   "outputs": [
    {
     "data": {
      "text/html": [
       "<style type=\"text/css\">\n",
       "#T_0a2b6_row0_col0, #T_0a2b6_row0_col1, #T_0a2b6_row0_col2, #T_0a2b6_row0_col3, #T_0a2b6_row0_col4, #T_0a2b6_row0_col5, #T_0a2b6_row0_col6, #T_0a2b6_row0_col7, #T_0a2b6_row0_col8, #T_0a2b6_row1_col0, #T_0a2b6_row1_col1, #T_0a2b6_row1_col2, #T_0a2b6_row1_col3, #T_0a2b6_row1_col4, #T_0a2b6_row1_col5, #T_0a2b6_row1_col6, #T_0a2b6_row1_col7, #T_0a2b6_row1_col8, #T_0a2b6_row3_col0, #T_0a2b6_row3_col1, #T_0a2b6_row3_col2, #T_0a2b6_row3_col3, #T_0a2b6_row3_col4, #T_0a2b6_row3_col5, #T_0a2b6_row3_col6, #T_0a2b6_row3_col7, #T_0a2b6_row3_col8, #T_0a2b6_row4_col0, #T_0a2b6_row4_col1, #T_0a2b6_row4_col2, #T_0a2b6_row4_col3, #T_0a2b6_row4_col4, #T_0a2b6_row4_col5, #T_0a2b6_row4_col6, #T_0a2b6_row4_col7, #T_0a2b6_row4_col8 {\n",
       "  background-color: None;\n",
       "}\n",
       "#T_0a2b6_row2_col0, #T_0a2b6_row2_col1, #T_0a2b6_row2_col2, #T_0a2b6_row2_col3, #T_0a2b6_row2_col4, #T_0a2b6_row2_col5, #T_0a2b6_row2_col6, #T_0a2b6_row2_col7, #T_0a2b6_row2_col8 {\n",
       "  background-color: #A0B0AA;\n",
       "  color: black;\n",
       "}\n",
       "</style>\n",
       "<table id=\"T_0a2b6_\">\n",
       "  <thead>\n",
       "    <tr>\n",
       "      <th class=\"index_name level0\" >ft_name</th>\n",
       "      <th class=\"col_heading level0 col0\" >女性占比</th>\n",
       "      <th class=\"col_heading level0 col1\" >Avg年齡</th>\n",
       "      <th class=\"col_heading level0 col2\" >未婚占比</th>\n",
       "      <th class=\"col_heading level0 col3\" >Avg車齡</th>\n",
       "      <th class=\"col_heading level0 col4\" >Avg車數</th>\n",
       "      <th class=\"col_heading level0 col5\" >Avg連續通路使用</th>\n",
       "      <th class=\"col_heading level0 col6\" >保費/人</th>\n",
       "      <th class=\"col_heading level0 col7\" >總賠付/總保費</th>\n",
       "      <th class=\"col_heading level0 col8\" >賠付金/人</th>\n",
       "    </tr>\n",
       "  </thead>\n",
       "  <tbody>\n",
       "    <tr>\n",
       "      <th id=\"T_0a2b6_level0_row0\" class=\"row_heading level0 row0\" >('KA', 'CA')</th>\n",
       "      <td id=\"T_0a2b6_row0_col0\" class=\"data row0 col0\" >55.9%</td>\n",
       "      <td id=\"T_0a2b6_row0_col1\" class=\"data row0 col1\" >49.5</td>\n",
       "      <td id=\"T_0a2b6_row0_col2\" class=\"data row0 col2\" >28.8%</td>\n",
       "      <td id=\"T_0a2b6_row0_col3\" class=\"data row0 col3\" >7.02</td>\n",
       "      <td id=\"T_0a2b6_row0_col4\" class=\"data row0 col4\" >2.23</td>\n",
       "      <td id=\"T_0a2b6_row0_col5\" class=\"data row0 col5\" >1.83</td>\n",
       "      <td id=\"T_0a2b6_row0_col6\" class=\"data row0 col6\" >16,083</td>\n",
       "      <td id=\"T_0a2b6_row0_col7\" class=\"data row0 col7\" >59.1%</td>\n",
       "      <td id=\"T_0a2b6_row0_col8\" class=\"data row0 col8\" >60,670</td>\n",
       "    </tr>\n",
       "    <tr>\n",
       "      <th id=\"T_0a2b6_level0_row1\" class=\"row_heading level0 row1\" >('KA', 'KA')</th>\n",
       "      <td id=\"T_0a2b6_row1_col0\" class=\"data row1 col0\" >50.6%</td>\n",
       "      <td id=\"T_0a2b6_row1_col1\" class=\"data row1 col1\" >49.2</td>\n",
       "      <td id=\"T_0a2b6_row1_col2\" class=\"data row1 col2\" >41.3%</td>\n",
       "      <td id=\"T_0a2b6_row1_col3\" class=\"data row1 col3\" >10.39</td>\n",
       "      <td id=\"T_0a2b6_row1_col4\" class=\"data row1 col4\" >1.49</td>\n",
       "      <td id=\"T_0a2b6_row1_col5\" class=\"data row1 col5\" >4.10</td>\n",
       "      <td id=\"T_0a2b6_row1_col6\" class=\"data row1 col6\" >8,157</td>\n",
       "      <td id=\"T_0a2b6_row1_col7\" class=\"data row1 col7\" >61.1%</td>\n",
       "      <td id=\"T_0a2b6_row1_col8\" class=\"data row1 col8\" >53,146</td>\n",
       "    </tr>\n",
       "    <tr>\n",
       "      <th id=\"T_0a2b6_level0_row2\" class=\"row_heading level0 row2\" >('KA', 'JB')</th>\n",
       "      <td id=\"T_0a2b6_row2_col0\" class=\"data row2 col0\" >51.1%</td>\n",
       "      <td id=\"T_0a2b6_row2_col1\" class=\"data row2 col1\" >47.6</td>\n",
       "      <td id=\"T_0a2b6_row2_col2\" class=\"data row2 col2\" >30.7%</td>\n",
       "      <td id=\"T_0a2b6_row2_col3\" class=\"data row2 col3\" >9.84</td>\n",
       "      <td id=\"T_0a2b6_row2_col4\" class=\"data row2 col4\" >1.95</td>\n",
       "      <td id=\"T_0a2b6_row2_col5\" class=\"data row2 col5\" >2.20</td>\n",
       "      <td id=\"T_0a2b6_row2_col6\" class=\"data row2 col6\" >9,357</td>\n",
       "      <td id=\"T_0a2b6_row2_col7\" class=\"data row2 col7\" >59.7%</td>\n",
       "      <td id=\"T_0a2b6_row2_col8\" class=\"data row2 col8\" >46,167</td>\n",
       "    </tr>\n",
       "    <tr>\n",
       "      <th id=\"T_0a2b6_level0_row3\" class=\"row_heading level0 row3\" >('KA', 'BA')</th>\n",
       "      <td id=\"T_0a2b6_row3_col0\" class=\"data row3 col0\" >53.8%</td>\n",
       "      <td id=\"T_0a2b6_row3_col1\" class=\"data row3 col1\" >47.6</td>\n",
       "      <td id=\"T_0a2b6_row3_col2\" class=\"data row3 col2\" >48.6%</td>\n",
       "      <td id=\"T_0a2b6_row3_col3\" class=\"data row3 col3\" >9.45</td>\n",
       "      <td id=\"T_0a2b6_row3_col4\" class=\"data row3 col4\" >2.02</td>\n",
       "      <td id=\"T_0a2b6_row3_col5\" class=\"data row3 col5\" >2.04</td>\n",
       "      <td id=\"T_0a2b6_row3_col6\" class=\"data row3 col6\" >10,647</td>\n",
       "      <td id=\"T_0a2b6_row3_col7\" class=\"data row3 col7\" >54.9%</td>\n",
       "      <td id=\"T_0a2b6_row3_col8\" class=\"data row3 col8\" >51,287</td>\n",
       "    </tr>\n",
       "    <tr>\n",
       "      <th id=\"T_0a2b6_level0_row4\" class=\"row_heading level0 row4\" >('KA', 'KB')</th>\n",
       "      <td id=\"T_0a2b6_row4_col0\" class=\"data row4 col0\" >52.7%</td>\n",
       "      <td id=\"T_0a2b6_row4_col1\" class=\"data row4 col1\" >48.8</td>\n",
       "      <td id=\"T_0a2b6_row4_col2\" class=\"data row4 col2\" >41.5%</td>\n",
       "      <td id=\"T_0a2b6_row4_col3\" class=\"data row4 col3\" >10.08</td>\n",
       "      <td id=\"T_0a2b6_row4_col4\" class=\"data row4 col4\" >2.13</td>\n",
       "      <td id=\"T_0a2b6_row4_col5\" class=\"data row4 col5\" >1.93</td>\n",
       "      <td id=\"T_0a2b6_row4_col6\" class=\"data row4 col6\" >11,298</td>\n",
       "      <td id=\"T_0a2b6_row4_col7\" class=\"data row4 col7\" >72.1%</td>\n",
       "      <td id=\"T_0a2b6_row4_col8\" class=\"data row4 col8\" >66,099</td>\n",
       "    </tr>\n",
       "  </tbody>\n",
       "</table>\n"
      ],
      "text/plain": [
       "<pandas.io.formats.style.Styler at 0x2007ef31fd0>"
      ]
     },
     "execution_count": 35,
     "metadata": {},
     "output_type": "execute_result"
    }
   ],
   "source": [
    "custom_formatter(plot_data.filter(regex=target).T.style).apply(lambda x: row_enhance(x, \"('KA', 'JB')\"), axis=1)"
   ]
  },
  {
   "cell_type": "code",
   "execution_count": 36,
   "metadata": {},
   "outputs": [
    {
     "data": {
      "text/html": [
       "<style type=\"text/css\">\n",
       "#T_b3546_row0_col0, #T_b3546_row0_col1, #T_b3546_row0_col2, #T_b3546_row0_col3, #T_b3546_row0_col4, #T_b3546_row1_col0, #T_b3546_row1_col1, #T_b3546_row1_col2, #T_b3546_row1_col3, #T_b3546_row1_col4, #T_b3546_row3_col0, #T_b3546_row3_col1, #T_b3546_row3_col2, #T_b3546_row3_col3, #T_b3546_row3_col4, #T_b3546_row4_col0, #T_b3546_row4_col1, #T_b3546_row4_col2, #T_b3546_row4_col3, #T_b3546_row4_col4 {\n",
       "  background-color: None;\n",
       "}\n",
       "#T_b3546_row2_col0, #T_b3546_row2_col1, #T_b3546_row2_col2, #T_b3546_row2_col3, #T_b3546_row2_col4 {\n",
       "  background-color: #A0B0AA;\n",
       "  color: black;\n",
       "}\n",
       "</style>\n",
       "<table id=\"T_b3546_\">\n",
       "  <thead>\n",
       "    <tr>\n",
       "      <th class=\"index_name level0\" >ft_name</th>\n",
       "      <th class=\"col_heading level0 col0\" >車險(任意)</th>\n",
       "      <th class=\"col_heading level0 col1\" >住火</th>\n",
       "      <th class=\"col_heading level0 col2\" >團傷</th>\n",
       "      <th class=\"col_heading level0 col3\" >個傷</th>\n",
       "      <th class=\"col_heading level0 col4\" >旅平</th>\n",
       "    </tr>\n",
       "  </thead>\n",
       "  <tbody>\n",
       "    <tr>\n",
       "      <th id=\"T_b3546_level0_row0\" class=\"row_heading level0 row0\" >('KA', 'CA')</th>\n",
       "      <td id=\"T_b3546_row0_col0\" class=\"data row0 col0\" >100.0%</td>\n",
       "      <td id=\"T_b3546_row0_col1\" class=\"data row0 col1\" >3.9%</td>\n",
       "      <td id=\"T_b3546_row0_col2\" class=\"data row0 col2\" >2.7%</td>\n",
       "      <td id=\"T_b3546_row0_col3\" class=\"data row0 col3\" >4.7%</td>\n",
       "      <td id=\"T_b3546_row0_col4\" class=\"data row0 col4\" >11.5%</td>\n",
       "    </tr>\n",
       "    <tr>\n",
       "      <th id=\"T_b3546_level0_row1\" class=\"row_heading level0 row1\" >('KA', 'KA')</th>\n",
       "      <td id=\"T_b3546_row1_col0\" class=\"data row1 col0\" >100.0%</td>\n",
       "      <td id=\"T_b3546_row1_col1\" class=\"data row1 col1\" >3.6%</td>\n",
       "      <td id=\"T_b3546_row1_col2\" class=\"data row1 col2\" >2.8%</td>\n",
       "      <td id=\"T_b3546_row1_col3\" class=\"data row1 col3\" >4.2%</td>\n",
       "      <td id=\"T_b3546_row1_col4\" class=\"data row1 col4\" >7.9%</td>\n",
       "    </tr>\n",
       "    <tr>\n",
       "      <th id=\"T_b3546_level0_row2\" class=\"row_heading level0 row2\" >('KA', 'JB')</th>\n",
       "      <td id=\"T_b3546_row2_col0\" class=\"data row2 col0\" >100.0%</td>\n",
       "      <td id=\"T_b3546_row2_col1\" class=\"data row2 col1\" >3.3%</td>\n",
       "      <td id=\"T_b3546_row2_col2\" class=\"data row2 col2\" >2.9%</td>\n",
       "      <td id=\"T_b3546_row2_col3\" class=\"data row2 col3\" >2.8%</td>\n",
       "      <td id=\"T_b3546_row2_col4\" class=\"data row2 col4\" >8.8%</td>\n",
       "    </tr>\n",
       "    <tr>\n",
       "      <th id=\"T_b3546_level0_row3\" class=\"row_heading level0 row3\" >('KA', 'BA')</th>\n",
       "      <td id=\"T_b3546_row3_col0\" class=\"data row3 col0\" >100.0%</td>\n",
       "      <td id=\"T_b3546_row3_col1\" class=\"data row3 col1\" >4.6%</td>\n",
       "      <td id=\"T_b3546_row3_col2\" class=\"data row3 col2\" >2.9%</td>\n",
       "      <td id=\"T_b3546_row3_col3\" class=\"data row3 col3\" >5.3%</td>\n",
       "      <td id=\"T_b3546_row3_col4\" class=\"data row3 col4\" >7.5%</td>\n",
       "    </tr>\n",
       "    <tr>\n",
       "      <th id=\"T_b3546_level0_row4\" class=\"row_heading level0 row4\" >('KA', 'KB')</th>\n",
       "      <td id=\"T_b3546_row4_col0\" class=\"data row4 col0\" >100.0%</td>\n",
       "      <td id=\"T_b3546_row4_col1\" class=\"data row4 col1\" >4.4%</td>\n",
       "      <td id=\"T_b3546_row4_col2\" class=\"data row4 col2\" >3.4%</td>\n",
       "      <td id=\"T_b3546_row4_col3\" class=\"data row4 col3\" >5.1%</td>\n",
       "      <td id=\"T_b3546_row4_col4\" class=\"data row4 col4\" >8.3%</td>\n",
       "    </tr>\n",
       "  </tbody>\n",
       "</table>\n"
      ],
      "text/plain": [
       "<pandas.io.formats.style.Styler at 0x2007f20ae20>"
      ]
     },
     "execution_count": 36,
     "metadata": {},
     "output_type": "execute_result"
    }
   ],
   "source": [
    "ib_data.filter(regex=target).T.style.format(precision=2, formatter=\"{:.1%}\").apply(lambda x: row_enhance(x, \"('KA', 'JB')\"), axis=1)"
   ]
  },
  {
   "cell_type": "code",
   "execution_count": 37,
   "metadata": {},
   "outputs": [
    {
     "data": {
      "text/html": [
       "<style type=\"text/css\">\n",
       "#T_95a35_row0_col0, #T_95a35_row0_col1, #T_95a35_row0_col2, #T_95a35_row0_col3, #T_95a35_row0_col4, #T_95a35_row0_col5, #T_95a35_row0_col6, #T_95a35_row0_col7, #T_95a35_row1_col0, #T_95a35_row1_col1, #T_95a35_row1_col2, #T_95a35_row1_col3, #T_95a35_row1_col4, #T_95a35_row1_col5, #T_95a35_row1_col6, #T_95a35_row1_col7, #T_95a35_row3_col0, #T_95a35_row3_col1, #T_95a35_row3_col2, #T_95a35_row3_col3, #T_95a35_row3_col4, #T_95a35_row3_col5, #T_95a35_row3_col6, #T_95a35_row3_col7, #T_95a35_row4_col0, #T_95a35_row4_col1, #T_95a35_row4_col2, #T_95a35_row4_col3, #T_95a35_row4_col4, #T_95a35_row4_col5, #T_95a35_row4_col6, #T_95a35_row4_col7 {\n",
       "  background-color: None;\n",
       "}\n",
       "#T_95a35_row2_col0, #T_95a35_row2_col1, #T_95a35_row2_col2, #T_95a35_row2_col3, #T_95a35_row2_col4, #T_95a35_row2_col5, #T_95a35_row2_col6, #T_95a35_row2_col7 {\n",
       "  background-color: #A0B0AA;\n",
       "  color: black;\n",
       "}\n",
       "</style>\n",
       "<table id=\"T_95a35_\">\n",
       "  <thead>\n",
       "    <tr>\n",
       "      <th class=\"index_name level0\" >ft_name</th>\n",
       "      <th class=\"col_heading level0 col0\" >小客車</th>\n",
       "      <th class=\"col_heading level0 col1\" >機車</th>\n",
       "      <th class=\"col_heading level0 col2\" >進口車</th>\n",
       "      <th class=\"col_heading level0 col3\" >小貨車</th>\n",
       "      <th class=\"col_heading level0 col4\" >未填</th>\n",
       "      <th class=\"col_heading level0 col5\" >電動自行車</th>\n",
       "      <th class=\"col_heading level0 col6\" >其他</th>\n",
       "      <th class=\"col_heading level0 col7\" >大型重機</th>\n",
       "    </tr>\n",
       "  </thead>\n",
       "  <tbody>\n",
       "    <tr>\n",
       "      <th id=\"T_95a35_level0_row0\" class=\"row_heading level0 row0\" >('KA', 'CA')</th>\n",
       "      <td id=\"T_95a35_row0_col0\" class=\"data row0 col0\" >58.0%</td>\n",
       "      <td id=\"T_95a35_row0_col1\" class=\"data row0 col1\" >13.6%</td>\n",
       "      <td id=\"T_95a35_row0_col2\" class=\"data row0 col2\" >20.7%</td>\n",
       "      <td id=\"T_95a35_row0_col3\" class=\"data row0 col3\" >7.0%</td>\n",
       "      <td id=\"T_95a35_row0_col4\" class=\"data row0 col4\" >0.1%</td>\n",
       "      <td id=\"T_95a35_row0_col5\" class=\"data row0 col5\" >0.0%</td>\n",
       "      <td id=\"T_95a35_row0_col6\" class=\"data row0 col6\" >0.0%</td>\n",
       "      <td id=\"T_95a35_row0_col7\" class=\"data row0 col7\" >0.6%</td>\n",
       "    </tr>\n",
       "    <tr>\n",
       "      <th id=\"T_95a35_level0_row1\" class=\"row_heading level0 row1\" >('KA', 'KA')</th>\n",
       "      <td id=\"T_95a35_row1_col0\" class=\"data row1 col0\" >56.5%</td>\n",
       "      <td id=\"T_95a35_row1_col1\" class=\"data row1 col1\" >26.3%</td>\n",
       "      <td id=\"T_95a35_row1_col2\" class=\"data row1 col2\" >11.6%</td>\n",
       "      <td id=\"T_95a35_row1_col3\" class=\"data row1 col3\" >4.1%</td>\n",
       "      <td id=\"T_95a35_row1_col4\" class=\"data row1 col4\" >0.1%</td>\n",
       "      <td id=\"T_95a35_row1_col5\" class=\"data row1 col5\" >0.0%</td>\n",
       "      <td id=\"T_95a35_row1_col6\" class=\"data row1 col6\" >0.6%</td>\n",
       "      <td id=\"T_95a35_row1_col7\" class=\"data row1 col7\" >0.9%</td>\n",
       "    </tr>\n",
       "    <tr>\n",
       "      <th id=\"T_95a35_level0_row2\" class=\"row_heading level0 row2\" >('KA', 'JB')</th>\n",
       "      <td id=\"T_95a35_row2_col0\" class=\"data row2 col0\" >54.6%</td>\n",
       "      <td id=\"T_95a35_row2_col1\" class=\"data row2 col1\" >31.0%</td>\n",
       "      <td id=\"T_95a35_row2_col2\" class=\"data row2 col2\" >10.4%</td>\n",
       "      <td id=\"T_95a35_row2_col3\" class=\"data row2 col3\" >2.1%</td>\n",
       "      <td id=\"T_95a35_row2_col4\" class=\"data row2 col4\" >0.1%</td>\n",
       "      <td id=\"T_95a35_row2_col5\" class=\"data row2 col5\" >nan%</td>\n",
       "      <td id=\"T_95a35_row2_col6\" class=\"data row2 col6\" >0.3%</td>\n",
       "      <td id=\"T_95a35_row2_col7\" class=\"data row2 col7\" >1.5%</td>\n",
       "    </tr>\n",
       "    <tr>\n",
       "      <th id=\"T_95a35_level0_row3\" class=\"row_heading level0 row3\" >('KA', 'BA')</th>\n",
       "      <td id=\"T_95a35_row3_col0\" class=\"data row3 col0\" >47.6%</td>\n",
       "      <td id=\"T_95a35_row3_col1\" class=\"data row3 col1\" >36.0%</td>\n",
       "      <td id=\"T_95a35_row3_col2\" class=\"data row3 col2\" >8.4%</td>\n",
       "      <td id=\"T_95a35_row3_col3\" class=\"data row3 col3\" >4.4%</td>\n",
       "      <td id=\"T_95a35_row3_col4\" class=\"data row3 col4\" >0.2%</td>\n",
       "      <td id=\"T_95a35_row3_col5\" class=\"data row3 col5\" >1.1%</td>\n",
       "      <td id=\"T_95a35_row3_col6\" class=\"data row3 col6\" >1.0%</td>\n",
       "      <td id=\"T_95a35_row3_col7\" class=\"data row3 col7\" >1.3%</td>\n",
       "    </tr>\n",
       "    <tr>\n",
       "      <th id=\"T_95a35_level0_row4\" class=\"row_heading level0 row4\" >('KA', 'KB')</th>\n",
       "      <td id=\"T_95a35_row4_col0\" class=\"data row4 col0\" >49.4%</td>\n",
       "      <td id=\"T_95a35_row4_col1\" class=\"data row4 col1\" >31.8%</td>\n",
       "      <td id=\"T_95a35_row4_col2\" class=\"data row4 col2\" >10.9%</td>\n",
       "      <td id=\"T_95a35_row4_col3\" class=\"data row4 col3\" >6.2%</td>\n",
       "      <td id=\"T_95a35_row4_col4\" class=\"data row4 col4\" >0.1%</td>\n",
       "      <td id=\"T_95a35_row4_col5\" class=\"data row4 col5\" >0.2%</td>\n",
       "      <td id=\"T_95a35_row4_col6\" class=\"data row4 col6\" >0.5%</td>\n",
       "      <td id=\"T_95a35_row4_col7\" class=\"data row4 col7\" >0.9%</td>\n",
       "    </tr>\n",
       "  </tbody>\n",
       "</table>\n"
      ],
      "text/plain": [
       "<pandas.io.formats.style.Styler at 0x2007ed8f370>"
      ]
     },
     "execution_count": 37,
     "metadata": {},
     "output_type": "execute_result"
    }
   ],
   "source": [
    "ct_data.filter(regex=target).T.style.format(precision=2, formatter=\"{:.1%}\").apply(lambda x: row_enhance(x, \"('KA', 'JB')\"), axis=1)"
   ]
  },
  {
   "cell_type": "markdown",
   "metadata": {},
   "source": [
    "-人數\n",
    "-出險人數佔比\n",
    "-車數PR75"
   ]
  }
 ],
 "metadata": {
  "kernelspec": {
   "display_name": "Python 3 (ipykernel)",
   "language": "python",
   "name": "python3"
  },
  "language_info": {
   "codemirror_mode": {
    "name": "ipython",
    "version": 3
   },
   "file_extension": ".py",
   "mimetype": "text/x-python",
   "name": "python",
   "nbconvert_exporter": "python",
   "pygments_lexer": "ipython3",
   "version": "3.9.6"
  },
  "vscode": {
   "interpreter": {
    "hash": "11938c6bc6919ae2720b4d5011047913343b08a43b18698fd82dedb0d4417594"
   }
  }
 },
 "nbformat": 4,
 "nbformat_minor": 2
}
